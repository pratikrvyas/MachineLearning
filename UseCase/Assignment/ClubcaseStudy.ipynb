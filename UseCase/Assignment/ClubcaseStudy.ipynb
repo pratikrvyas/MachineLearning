{
 "cells": [
  {
   "cell_type": "code",
   "execution_count": 78,
   "metadata": {},
   "outputs": [
    {
     "name": "stderr",
     "output_type": "stream",
     "text": [
      "C:\\Users\\snehap\\AppData\\Local\\Continuum\\anaconda3\\lib\\site-packages\\IPython\\core\\interactiveshell.py:3057: DtypeWarning: Columns (47) have mixed types. Specify dtype option on import or set low_memory=False.\n",
      "  interactivity=interactivity, compiler=compiler, result=result)\n"
     ]
    },
    {
     "data": {
      "text/html": [
       "<div>\n",
       "<style scoped>\n",
       "    .dataframe tbody tr th:only-of-type {\n",
       "        vertical-align: middle;\n",
       "    }\n",
       "\n",
       "    .dataframe tbody tr th {\n",
       "        vertical-align: top;\n",
       "    }\n",
       "\n",
       "    .dataframe thead th {\n",
       "        text-align: right;\n",
       "    }\n",
       "</style>\n",
       "<table border=\"1\" class=\"dataframe\">\n",
       "  <thead>\n",
       "    <tr style=\"text-align: right;\">\n",
       "      <th></th>\n",
       "      <th>id</th>\n",
       "      <th>member_id</th>\n",
       "      <th>loan_amnt</th>\n",
       "      <th>funded_amnt</th>\n",
       "      <th>funded_amnt_inv</th>\n",
       "      <th>term</th>\n",
       "      <th>int_rate</th>\n",
       "      <th>installment</th>\n",
       "      <th>grade</th>\n",
       "      <th>sub_grade</th>\n",
       "      <th>...</th>\n",
       "      <th>num_tl_90g_dpd_24m</th>\n",
       "      <th>num_tl_op_past_12m</th>\n",
       "      <th>pct_tl_nvr_dlq</th>\n",
       "      <th>percent_bc_gt_75</th>\n",
       "      <th>pub_rec_bankruptcies</th>\n",
       "      <th>tax_liens</th>\n",
       "      <th>tot_hi_cred_lim</th>\n",
       "      <th>total_bal_ex_mort</th>\n",
       "      <th>total_bc_limit</th>\n",
       "      <th>total_il_high_credit_limit</th>\n",
       "    </tr>\n",
       "  </thead>\n",
       "  <tbody>\n",
       "    <tr>\n",
       "      <th>0</th>\n",
       "      <td>1077501</td>\n",
       "      <td>1296599</td>\n",
       "      <td>5000</td>\n",
       "      <td>5000</td>\n",
       "      <td>4975.0</td>\n",
       "      <td>36 months</td>\n",
       "      <td>10.65%</td>\n",
       "      <td>162.87</td>\n",
       "      <td>B</td>\n",
       "      <td>B2</td>\n",
       "      <td>...</td>\n",
       "      <td>NaN</td>\n",
       "      <td>NaN</td>\n",
       "      <td>NaN</td>\n",
       "      <td>NaN</td>\n",
       "      <td>0.0</td>\n",
       "      <td>0.0</td>\n",
       "      <td>NaN</td>\n",
       "      <td>NaN</td>\n",
       "      <td>NaN</td>\n",
       "      <td>NaN</td>\n",
       "    </tr>\n",
       "    <tr>\n",
       "      <th>1</th>\n",
       "      <td>1077430</td>\n",
       "      <td>1314167</td>\n",
       "      <td>2500</td>\n",
       "      <td>2500</td>\n",
       "      <td>2500.0</td>\n",
       "      <td>60 months</td>\n",
       "      <td>15.27%</td>\n",
       "      <td>59.83</td>\n",
       "      <td>C</td>\n",
       "      <td>C4</td>\n",
       "      <td>...</td>\n",
       "      <td>NaN</td>\n",
       "      <td>NaN</td>\n",
       "      <td>NaN</td>\n",
       "      <td>NaN</td>\n",
       "      <td>0.0</td>\n",
       "      <td>0.0</td>\n",
       "      <td>NaN</td>\n",
       "      <td>NaN</td>\n",
       "      <td>NaN</td>\n",
       "      <td>NaN</td>\n",
       "    </tr>\n",
       "    <tr>\n",
       "      <th>2</th>\n",
       "      <td>1077175</td>\n",
       "      <td>1313524</td>\n",
       "      <td>2400</td>\n",
       "      <td>2400</td>\n",
       "      <td>2400.0</td>\n",
       "      <td>36 months</td>\n",
       "      <td>15.96%</td>\n",
       "      <td>84.33</td>\n",
       "      <td>C</td>\n",
       "      <td>C5</td>\n",
       "      <td>...</td>\n",
       "      <td>NaN</td>\n",
       "      <td>NaN</td>\n",
       "      <td>NaN</td>\n",
       "      <td>NaN</td>\n",
       "      <td>0.0</td>\n",
       "      <td>0.0</td>\n",
       "      <td>NaN</td>\n",
       "      <td>NaN</td>\n",
       "      <td>NaN</td>\n",
       "      <td>NaN</td>\n",
       "    </tr>\n",
       "    <tr>\n",
       "      <th>3</th>\n",
       "      <td>1076863</td>\n",
       "      <td>1277178</td>\n",
       "      <td>10000</td>\n",
       "      <td>10000</td>\n",
       "      <td>10000.0</td>\n",
       "      <td>36 months</td>\n",
       "      <td>13.49%</td>\n",
       "      <td>339.31</td>\n",
       "      <td>C</td>\n",
       "      <td>C1</td>\n",
       "      <td>...</td>\n",
       "      <td>NaN</td>\n",
       "      <td>NaN</td>\n",
       "      <td>NaN</td>\n",
       "      <td>NaN</td>\n",
       "      <td>0.0</td>\n",
       "      <td>0.0</td>\n",
       "      <td>NaN</td>\n",
       "      <td>NaN</td>\n",
       "      <td>NaN</td>\n",
       "      <td>NaN</td>\n",
       "    </tr>\n",
       "    <tr>\n",
       "      <th>4</th>\n",
       "      <td>1075358</td>\n",
       "      <td>1311748</td>\n",
       "      <td>3000</td>\n",
       "      <td>3000</td>\n",
       "      <td>3000.0</td>\n",
       "      <td>60 months</td>\n",
       "      <td>12.69%</td>\n",
       "      <td>67.79</td>\n",
       "      <td>B</td>\n",
       "      <td>B5</td>\n",
       "      <td>...</td>\n",
       "      <td>NaN</td>\n",
       "      <td>NaN</td>\n",
       "      <td>NaN</td>\n",
       "      <td>NaN</td>\n",
       "      <td>0.0</td>\n",
       "      <td>0.0</td>\n",
       "      <td>NaN</td>\n",
       "      <td>NaN</td>\n",
       "      <td>NaN</td>\n",
       "      <td>NaN</td>\n",
       "    </tr>\n",
       "  </tbody>\n",
       "</table>\n",
       "<p>5 rows × 111 columns</p>\n",
       "</div>"
      ],
      "text/plain": [
       "        id  member_id  loan_amnt  funded_amnt  funded_amnt_inv        term  \\\n",
       "0  1077501    1296599       5000         5000           4975.0   36 months   \n",
       "1  1077430    1314167       2500         2500           2500.0   60 months   \n",
       "2  1077175    1313524       2400         2400           2400.0   36 months   \n",
       "3  1076863    1277178      10000        10000          10000.0   36 months   \n",
       "4  1075358    1311748       3000         3000           3000.0   60 months   \n",
       "\n",
       "  int_rate  installment grade sub_grade  ... num_tl_90g_dpd_24m  \\\n",
       "0   10.65%       162.87     B        B2  ...                NaN   \n",
       "1   15.27%        59.83     C        C4  ...                NaN   \n",
       "2   15.96%        84.33     C        C5  ...                NaN   \n",
       "3   13.49%       339.31     C        C1  ...                NaN   \n",
       "4   12.69%        67.79     B        B5  ...                NaN   \n",
       "\n",
       "  num_tl_op_past_12m pct_tl_nvr_dlq  percent_bc_gt_75 pub_rec_bankruptcies  \\\n",
       "0                NaN            NaN               NaN                  0.0   \n",
       "1                NaN            NaN               NaN                  0.0   \n",
       "2                NaN            NaN               NaN                  0.0   \n",
       "3                NaN            NaN               NaN                  0.0   \n",
       "4                NaN            NaN               NaN                  0.0   \n",
       "\n",
       "  tax_liens tot_hi_cred_lim total_bal_ex_mort total_bc_limit  \\\n",
       "0       0.0             NaN               NaN            NaN   \n",
       "1       0.0             NaN               NaN            NaN   \n",
       "2       0.0             NaN               NaN            NaN   \n",
       "3       0.0             NaN               NaN            NaN   \n",
       "4       0.0             NaN               NaN            NaN   \n",
       "\n",
       "  total_il_high_credit_limit  \n",
       "0                        NaN  \n",
       "1                        NaN  \n",
       "2                        NaN  \n",
       "3                        NaN  \n",
       "4                        NaN  \n",
       "\n",
       "[5 rows x 111 columns]"
      ]
     },
     "execution_count": 78,
     "metadata": {},
     "output_type": "execute_result"
    }
   ],
   "source": [
    "import numpy as np\n",
    "import pandas as pd\n",
    "loandata = pd.read_csv ('D:\\IIIT\\ClubCasestudy\\loan.csv',header=0,encoding = 'palmos')\n",
    "loandata.head()\n",
    "\n",
    "\n"
   ]
  },
  {
   "cell_type": "code",
   "execution_count": 79,
   "metadata": {},
   "outputs": [
    {
     "data": {
      "text/plain": [
       "id                            0.00\n",
       "member_id                     0.00\n",
       "loan_amnt                     0.00\n",
       "funded_amnt                   0.00\n",
       "funded_amnt_inv               0.00\n",
       "term                          0.00\n",
       "int_rate                      0.00\n",
       "installment                   0.00\n",
       "grade                         0.00\n",
       "sub_grade                     0.00\n",
       "emp_title                     6.19\n",
       "emp_length                    2.71\n",
       "home_ownership                0.00\n",
       "annual_inc                    0.00\n",
       "verification_status           0.00\n",
       "issue_d                       0.00\n",
       "loan_status                   0.00\n",
       "pymnt_plan                    0.00\n",
       "url                           0.00\n",
       "purpose                       0.00\n",
       "title                         0.03\n",
       "zip_code                      0.00\n",
       "addr_state                    0.00\n",
       "dti                           0.00\n",
       "delinq_2yrs                   0.00\n",
       "earliest_cr_line              0.00\n",
       "inq_last_6mths                0.00\n",
       "open_acc                      0.00\n",
       "pub_rec                       0.00\n",
       "revol_bal                     0.00\n",
       "revol_util                    0.13\n",
       "total_acc                     0.00\n",
       "initial_list_status           0.00\n",
       "out_prncp                     0.00\n",
       "out_prncp_inv                 0.00\n",
       "total_pymnt                   0.00\n",
       "total_pymnt_inv               0.00\n",
       "total_rec_prncp               0.00\n",
       "total_rec_int                 0.00\n",
       "total_rec_late_fee            0.00\n",
       "recoveries                    0.00\n",
       "collection_recovery_fee       0.00\n",
       "last_pymnt_d                  0.18\n",
       "last_pymnt_amnt               0.00\n",
       "last_credit_pull_d            0.01\n",
       "collections_12_mths_ex_med    0.14\n",
       "policy_code                   0.00\n",
       "application_type              0.00\n",
       "acc_now_delinq                0.00\n",
       "chargeoff_within_12_mths      0.14\n",
       "delinq_amnt                   0.00\n",
       "pub_rec_bankruptcies          1.75\n",
       "tax_liens                     0.10\n",
       "dtype: float64"
      ]
     },
     "execution_count": 79,
     "metadata": {},
     "output_type": "execute_result"
    }
   ],
   "source": [
    "#*************************DATA CLEANING******************************\n",
    "#*****************Missing values in columns & Rows*******************\n",
    "#STEP1 --Observe any columns having more than 50%\n",
    "\n",
    "# Summing up the missing values columnwise (percentage of the missing values)\n",
    "round(100*(loandata.isnull().sum()/len(loandata.index)),2)\n",
    "#most of the columns have the more than 50% missing values ,these columns won't be useful in analysis\n",
    "#setting threshold to remove the columns whose data is missing more than 50%\n",
    "thresh = len(loandata) *0.5\n",
    "#print (len(loanddata))\n",
    "loandata.dropna(thresh = thresh, axis = 1, inplace = True)\n",
    "\n",
    "#STEP2 --Observe any column having more than 20% missing values\n",
    "round(100*(loandata.isnull().sum()/len(loandata.index)),2)\n",
    "#desc 32% missing and this field having why the borrower required loan. This may not be the parameter , this we can remove safely\n",
    "loandata = loandata.drop('desc',axis=1)\n",
    "#loandata.info()\n",
    "round(100*(loandata.isnull().sum()/len(loandata.index)),2)\n"
   ]
  },
  {
   "cell_type": "code",
   "execution_count": 80,
   "metadata": {},
   "outputs": [
    {
     "data": {
      "text/plain": [
       "id                            0.00\n",
       "member_id                     0.00\n",
       "loan_amnt                     0.00\n",
       "funded_amnt                   0.00\n",
       "funded_amnt_inv               0.00\n",
       "term                          0.00\n",
       "int_rate                      0.00\n",
       "installment                   0.00\n",
       "grade                         0.00\n",
       "sub_grade                     0.00\n",
       "emp_title                     0.00\n",
       "emp_length                    0.00\n",
       "home_ownership                0.00\n",
       "annual_inc                    0.00\n",
       "verification_status           0.00\n",
       "issue_d                       0.00\n",
       "loan_status                   0.00\n",
       "pymnt_plan                    0.00\n",
       "url                           0.00\n",
       "purpose                       0.00\n",
       "title                         0.02\n",
       "zip_code                      0.00\n",
       "addr_state                    0.00\n",
       "dti                           0.00\n",
       "delinq_2yrs                   0.00\n",
       "earliest_cr_line              0.00\n",
       "inq_last_6mths                0.00\n",
       "open_acc                      0.00\n",
       "pub_rec                       0.00\n",
       "revol_bal                     0.00\n",
       "revol_util                    0.00\n",
       "total_acc                     0.00\n",
       "initial_list_status           0.00\n",
       "out_prncp                     0.00\n",
       "out_prncp_inv                 0.00\n",
       "total_pymnt                   0.00\n",
       "total_pymnt_inv               0.00\n",
       "total_rec_prncp               0.00\n",
       "total_rec_int                 0.00\n",
       "total_rec_late_fee            0.00\n",
       "recoveries                    0.00\n",
       "collection_recovery_fee       0.00\n",
       "last_pymnt_d                  0.00\n",
       "last_pymnt_amnt               0.00\n",
       "last_credit_pull_d            0.00\n",
       "collections_12_mths_ex_med    0.01\n",
       "policy_code                   0.00\n",
       "application_type              0.00\n",
       "acc_now_delinq                0.00\n",
       "chargeoff_within_12_mths      0.01\n",
       "delinq_amnt                   0.00\n",
       "pub_rec_bankruptcies          0.00\n",
       "tax_liens                     0.00\n",
       "dtype: float64"
      ]
     },
     "execution_count": 80,
     "metadata": {},
     "output_type": "execute_result"
    }
   ],
   "source": [
    "#STEP 3 \n",
    "#Emp_title(6%),Pub_rec_bankruptcies(2%),Emp_length(2.7%) having missing values\n",
    "#removing the rows of Jobtitle & Employee experience where data missing \n",
    "loandata = loandata[~pd.isnull(loandata['emp_title'])]\n",
    "loandata = loandata[~pd.isnull(loandata['emp_length'])]\n",
    "loandata = loandata[~pd.isnull(loandata['pub_rec_bankruptcies'])]\n",
    "round(100*(loandata.isnull().sum()/len(loandata.index)),2)\n",
    "#last_pymnt_d(0.18),revol_util (0.13)  \n",
    "\n",
    "loandata = loandata[~pd.isnull(loandata['last_pymnt_d'])]\n",
    "loandata = loandata[~pd.isnull(loandata['revol_util'])]\n",
    "\n",
    "round(100*(loandata.isnull().sum()/len(loandata.index)),2)"
   ]
  },
  {
   "cell_type": "code",
   "execution_count": 83,
   "metadata": {},
   "outputs": [
    {
     "name": "stdout",
     "output_type": "stream",
     "text": [
      "<class 'pandas.core.frame.DataFrame'>\n",
      "Int64Index: 36442 entries, 1 to 39680\n",
      "Data columns (total 53 columns):\n",
      "id                            36442 non-null int64\n",
      "member_id                     36442 non-null int64\n",
      "loan_amnt                     36442 non-null int64\n",
      "funded_amnt                   36442 non-null int64\n",
      "funded_amnt_inv               36442 non-null float64\n",
      "term                          36442 non-null int64\n",
      "int_rate                      36442 non-null float64\n",
      "installment                   36442 non-null float64\n",
      "grade                         36442 non-null object\n",
      "sub_grade                     36442 non-null object\n",
      "emp_title                     36442 non-null object\n",
      "emp_length                    36442 non-null int64\n",
      "home_ownership                36442 non-null object\n",
      "annual_inc                    36442 non-null float64\n",
      "verification_status           36442 non-null object\n",
      "issue_d                       36442 non-null object\n",
      "loan_status                   36442 non-null object\n",
      "pymnt_plan                    36442 non-null object\n",
      "url                           36442 non-null object\n",
      "purpose                       36442 non-null object\n",
      "title                         36433 non-null object\n",
      "zip_code                      36442 non-null object\n",
      "addr_state                    36442 non-null object\n",
      "dti                           36442 non-null float64\n",
      "delinq_2yrs                   36442 non-null int64\n",
      "earliest_cr_line              36442 non-null object\n",
      "inq_last_6mths                36442 non-null int64\n",
      "open_acc                      36442 non-null int64\n",
      "pub_rec                       36442 non-null int64\n",
      "revol_bal                     36442 non-null int64\n",
      "revol_util                    36442 non-null object\n",
      "total_acc                     36442 non-null int64\n",
      "initial_list_status           36442 non-null object\n",
      "out_prncp                     36442 non-null float64\n",
      "out_prncp_inv                 36442 non-null float64\n",
      "total_pymnt                   36442 non-null float64\n",
      "total_pymnt_inv               36442 non-null float64\n",
      "total_rec_prncp               36442 non-null float64\n",
      "total_rec_int                 36442 non-null float64\n",
      "total_rec_late_fee            36442 non-null float64\n",
      "recoveries                    36442 non-null float64\n",
      "collection_recovery_fee       36442 non-null float64\n",
      "last_pymnt_d                  36442 non-null object\n",
      "last_pymnt_amnt               36442 non-null float64\n",
      "last_credit_pull_d            36442 non-null object\n",
      "collections_12_mths_ex_med    36440 non-null float64\n",
      "policy_code                   36442 non-null int64\n",
      "application_type              36442 non-null object\n",
      "acc_now_delinq                36442 non-null int64\n",
      "chargeoff_within_12_mths      36440 non-null float64\n",
      "delinq_amnt                   36442 non-null int64\n",
      "pub_rec_bankruptcies          36442 non-null float64\n",
      "tax_liens                     36442 non-null float64\n",
      "dtypes: float64(19), int64(15), object(19)\n",
      "memory usage: 15.0+ MB\n"
     ]
    }
   ],
   "source": [
    "#*************************DATA Convertion******************************\n",
    "#***************Identifying the DATATYPE miss matches *******************\n",
    "#STEP 1 - String to Numeric Conversion\n",
    "#loandata.info()\n",
    "#int_rate should be Float value and need to remove the % from the data\n",
    "loandata['int_rate'] = loandata['int_rate'].replace('%','', regex=True)\n",
    "loandata['int_rate'] = pd.to_numeric(loandata['int_rate']) \n",
    "loandata.info()\n",
    "loandata.head()\n",
    "\n",
    "#EmpLength \n",
    "#Extract Numeric value from the string (remove Years from the string)\n",
    "import re\n",
    "loandata['emp_length'] = loandata['emp_length'].apply(lambda x: re.findall('\\d+', str(x))[0])\n",
    "loandata.head()\n",
    "# convert to numeric\n",
    "loandata['emp_length'] = pd.to_numeric(loandata['emp_length']) \n",
    "#Remove months from the term\n",
    "loandata['term'] = loandata['term'].apply(lambda x: re.findall('\\d+', str(x))[0])\n",
    "loandata.head()\n",
    "# convert to numeric\n",
    "loandata['term'] = pd.to_numeric(loandata['term']) \n"
   ]
  },
  {
   "cell_type": "code",
   "execution_count": 84,
   "metadata": {},
   "outputs": [
    {
     "name": "stdout",
     "output_type": "stream",
     "text": [
      "<class 'pandas.core.frame.DataFrame'>\n",
      "Int64Index: 36442 entries, 1 to 39680\n",
      "Data columns (total 55 columns):\n",
      "id                            36442 non-null int64\n",
      "member_id                     36442 non-null int64\n",
      "loan_amnt                     36442 non-null int64\n",
      "funded_amnt                   36442 non-null int64\n",
      "funded_amnt_inv               36442 non-null float64\n",
      "term                          36442 non-null int64\n",
      "int_rate                      36442 non-null float64\n",
      "installment                   36442 non-null float64\n",
      "grade                         36442 non-null object\n",
      "sub_grade                     36442 non-null object\n",
      "emp_title                     36442 non-null object\n",
      "emp_length                    36442 non-null int64\n",
      "home_ownership                36442 non-null object\n",
      "annual_inc                    36442 non-null float64\n",
      "verification_status           36442 non-null object\n",
      "issue_d                       36442 non-null datetime64[ns]\n",
      "loan_status                   36442 non-null object\n",
      "pymnt_plan                    36442 non-null object\n",
      "url                           36442 non-null object\n",
      "purpose                       36442 non-null object\n",
      "title                         36433 non-null object\n",
      "zip_code                      36442 non-null object\n",
      "addr_state                    36442 non-null object\n",
      "dti                           36442 non-null float64\n",
      "delinq_2yrs                   36442 non-null int64\n",
      "earliest_cr_line              36442 non-null object\n",
      "inq_last_6mths                36442 non-null int64\n",
      "open_acc                      36442 non-null int64\n",
      "pub_rec                       36442 non-null int64\n",
      "revol_bal                     36442 non-null int64\n",
      "revol_util                    36442 non-null object\n",
      "total_acc                     36442 non-null int64\n",
      "initial_list_status           36442 non-null object\n",
      "out_prncp                     36442 non-null float64\n",
      "out_prncp_inv                 36442 non-null float64\n",
      "total_pymnt                   36442 non-null float64\n",
      "total_pymnt_inv               36442 non-null float64\n",
      "total_rec_prncp               36442 non-null float64\n",
      "total_rec_int                 36442 non-null float64\n",
      "total_rec_late_fee            36442 non-null float64\n",
      "recoveries                    36442 non-null float64\n",
      "collection_recovery_fee       36442 non-null float64\n",
      "last_pymnt_d                  36442 non-null object\n",
      "last_pymnt_amnt               36442 non-null float64\n",
      "last_credit_pull_d            36442 non-null object\n",
      "collections_12_mths_ex_med    36440 non-null float64\n",
      "policy_code                   36442 non-null int64\n",
      "application_type              36442 non-null object\n",
      "acc_now_delinq                36442 non-null int64\n",
      "chargeoff_within_12_mths      36440 non-null float64\n",
      "delinq_amnt                   36442 non-null int64\n",
      "pub_rec_bankruptcies          36442 non-null float64\n",
      "tax_liens                     36442 non-null float64\n",
      "month                         36442 non-null int64\n",
      "year                          36442 non-null int64\n",
      "dtypes: datetime64[ns](1), float64(19), int64(17), object(18)\n",
      "memory usage: 15.6+ MB\n"
     ]
    }
   ],
   "source": [
    "#STEP 2 - String to Date conversion\n",
    "#issue_d,earliest_cr_line\n",
    "from datetime import datetime\n",
    "loandata['issue_d'] = loandata['issue_d'].apply(lambda x: datetime.strptime(x, '%b-%y'))\n",
    "#loandata['earliest_cr_line'] = loandata['earliest_cr_line'].apply(lambda x: datetime.strptime(x, '%b-%y'))\n",
    "#loandata['last_pymnt_d'] = loandata['last_pymnt_d'].apply(lambda x: datetime.strptime(x, '%b-%y'))\n",
    "#loandata['last_credit_pull_d'] = loandata['last_credit_pull_d'].apply(lambda x: datetime.strptime(x, '%b-%y'))\n",
    "\n",
    "\n",
    "loandata['month'] = loandata['issue_d'].apply(lambda x: x.month)\n",
    "loandata['year'] = loandata['issue_d'].apply(lambda x: x.year)\n",
    "\n",
    "loandata.info()"
   ]
  },
  {
   "cell_type": "code",
   "execution_count": 85,
   "metadata": {},
   "outputs": [
    {
     "name": "stdout",
     "output_type": "stream",
     "text": [
      "39551    14370.922250\n",
      "39562     5134.085288\n",
      "39623     4015.960000\n",
      "39666    11652.750000\n",
      "39680     3579.662273\n",
      "Name: total_pymnt, dtype: float64\n"
     ]
    },
    {
     "data": {
      "text/html": [
       "<div>\n",
       "<style scoped>\n",
       "    .dataframe tbody tr th:only-of-type {\n",
       "        vertical-align: middle;\n",
       "    }\n",
       "\n",
       "    .dataframe tbody tr th {\n",
       "        vertical-align: top;\n",
       "    }\n",
       "\n",
       "    .dataframe thead th {\n",
       "        text-align: right;\n",
       "    }\n",
       "</style>\n",
       "<table border=\"1\" class=\"dataframe\">\n",
       "  <thead>\n",
       "    <tr style=\"text-align: right;\">\n",
       "      <th></th>\n",
       "      <th>id</th>\n",
       "      <th>member_id</th>\n",
       "      <th>loan_amnt</th>\n",
       "      <th>funded_amnt</th>\n",
       "      <th>funded_amnt_inv</th>\n",
       "      <th>term</th>\n",
       "      <th>int_rate</th>\n",
       "      <th>installment</th>\n",
       "      <th>grade</th>\n",
       "      <th>sub_grade</th>\n",
       "      <th>...</th>\n",
       "      <th>collections_12_mths_ex_med</th>\n",
       "      <th>policy_code</th>\n",
       "      <th>application_type</th>\n",
       "      <th>acc_now_delinq</th>\n",
       "      <th>chargeoff_within_12_mths</th>\n",
       "      <th>delinq_amnt</th>\n",
       "      <th>pub_rec_bankruptcies</th>\n",
       "      <th>tax_liens</th>\n",
       "      <th>month</th>\n",
       "      <th>year</th>\n",
       "    </tr>\n",
       "  </thead>\n",
       "  <tbody>\n",
       "    <tr>\n",
       "      <th>39362</th>\n",
       "      <td>218343</td>\n",
       "      <td>218321</td>\n",
       "      <td>2150</td>\n",
       "      <td>2150</td>\n",
       "      <td>1575.00</td>\n",
       "      <td>36</td>\n",
       "      <td>10.78</td>\n",
       "      <td>70.17</td>\n",
       "      <td>C</td>\n",
       "      <td>C1</td>\n",
       "      <td>...</td>\n",
       "      <td>0.0</td>\n",
       "      <td>1</td>\n",
       "      <td>INDIVIDUAL</td>\n",
       "      <td>0</td>\n",
       "      <td>0.0</td>\n",
       "      <td>0</td>\n",
       "      <td>1.0</td>\n",
       "      <td>0.0</td>\n",
       "      <td>1</td>\n",
       "      <td>2008</td>\n",
       "    </tr>\n",
       "    <tr>\n",
       "      <th>39425</th>\n",
       "      <td>202270</td>\n",
       "      <td>202156</td>\n",
       "      <td>4000</td>\n",
       "      <td>4000</td>\n",
       "      <td>1199.99</td>\n",
       "      <td>36</td>\n",
       "      <td>12.36</td>\n",
       "      <td>133.55</td>\n",
       "      <td>D</td>\n",
       "      <td>D1</td>\n",
       "      <td>...</td>\n",
       "      <td>0.0</td>\n",
       "      <td>1</td>\n",
       "      <td>INDIVIDUAL</td>\n",
       "      <td>0</td>\n",
       "      <td>0.0</td>\n",
       "      <td>0</td>\n",
       "      <td>1.0</td>\n",
       "      <td>0.0</td>\n",
       "      <td>1</td>\n",
       "      <td>2008</td>\n",
       "    </tr>\n",
       "    <tr>\n",
       "      <th>39430</th>\n",
       "      <td>200912</td>\n",
       "      <td>200892</td>\n",
       "      <td>9400</td>\n",
       "      <td>9400</td>\n",
       "      <td>1748.29</td>\n",
       "      <td>36</td>\n",
       "      <td>13.30</td>\n",
       "      <td>318.09</td>\n",
       "      <td>D</td>\n",
       "      <td>D4</td>\n",
       "      <td>...</td>\n",
       "      <td>0.0</td>\n",
       "      <td>1</td>\n",
       "      <td>INDIVIDUAL</td>\n",
       "      <td>0</td>\n",
       "      <td>0.0</td>\n",
       "      <td>0</td>\n",
       "      <td>1.0</td>\n",
       "      <td>0.0</td>\n",
       "      <td>1</td>\n",
       "      <td>2008</td>\n",
       "    </tr>\n",
       "    <tr>\n",
       "      <th>39433</th>\n",
       "      <td>200600</td>\n",
       "      <td>200597</td>\n",
       "      <td>7500</td>\n",
       "      <td>7500</td>\n",
       "      <td>1599.78</td>\n",
       "      <td>36</td>\n",
       "      <td>9.83</td>\n",
       "      <td>241.41</td>\n",
       "      <td>B</td>\n",
       "      <td>B3</td>\n",
       "      <td>...</td>\n",
       "      <td>0.0</td>\n",
       "      <td>1</td>\n",
       "      <td>INDIVIDUAL</td>\n",
       "      <td>0</td>\n",
       "      <td>0.0</td>\n",
       "      <td>0</td>\n",
       "      <td>1.0</td>\n",
       "      <td>0.0</td>\n",
       "      <td>1</td>\n",
       "      <td>2008</td>\n",
       "    </tr>\n",
       "    <tr>\n",
       "      <th>39475</th>\n",
       "      <td>186572</td>\n",
       "      <td>186568</td>\n",
       "      <td>12000</td>\n",
       "      <td>12000</td>\n",
       "      <td>725.00</td>\n",
       "      <td>36</td>\n",
       "      <td>9.01</td>\n",
       "      <td>381.66</td>\n",
       "      <td>B</td>\n",
       "      <td>B2</td>\n",
       "      <td>...</td>\n",
       "      <td>0.0</td>\n",
       "      <td>1</td>\n",
       "      <td>INDIVIDUAL</td>\n",
       "      <td>0</td>\n",
       "      <td>0.0</td>\n",
       "      <td>0</td>\n",
       "      <td>1.0</td>\n",
       "      <td>0.0</td>\n",
       "      <td>12</td>\n",
       "      <td>2007</td>\n",
       "    </tr>\n",
       "    <tr>\n",
       "      <th>39551</th>\n",
       "      <td>158706</td>\n",
       "      <td>158450</td>\n",
       "      <td>12375</td>\n",
       "      <td>12375</td>\n",
       "      <td>1000.00</td>\n",
       "      <td>36</td>\n",
       "      <td>10.91</td>\n",
       "      <td>404.62</td>\n",
       "      <td>C</td>\n",
       "      <td>C3</td>\n",
       "      <td>...</td>\n",
       "      <td>0.0</td>\n",
       "      <td>1</td>\n",
       "      <td>INDIVIDUAL</td>\n",
       "      <td>0</td>\n",
       "      <td>0.0</td>\n",
       "      <td>0</td>\n",
       "      <td>1.0</td>\n",
       "      <td>0.0</td>\n",
       "      <td>12</td>\n",
       "      <td>2007</td>\n",
       "    </tr>\n",
       "    <tr>\n",
       "      <th>39562</th>\n",
       "      <td>154154</td>\n",
       "      <td>151536</td>\n",
       "      <td>4800</td>\n",
       "      <td>4800</td>\n",
       "      <td>1100.00</td>\n",
       "      <td>36</td>\n",
       "      <td>10.28</td>\n",
       "      <td>155.52</td>\n",
       "      <td>C</td>\n",
       "      <td>C1</td>\n",
       "      <td>...</td>\n",
       "      <td>0.0</td>\n",
       "      <td>1</td>\n",
       "      <td>INDIVIDUAL</td>\n",
       "      <td>0</td>\n",
       "      <td>0.0</td>\n",
       "      <td>0</td>\n",
       "      <td>1.0</td>\n",
       "      <td>0.0</td>\n",
       "      <td>11</td>\n",
       "      <td>2007</td>\n",
       "    </tr>\n",
       "    <tr>\n",
       "      <th>39623</th>\n",
       "      <td>132892</td>\n",
       "      <td>132889</td>\n",
       "      <td>9000</td>\n",
       "      <td>9000</td>\n",
       "      <td>700.00</td>\n",
       "      <td>36</td>\n",
       "      <td>12.49</td>\n",
       "      <td>301.04</td>\n",
       "      <td>D</td>\n",
       "      <td>D3</td>\n",
       "      <td>...</td>\n",
       "      <td>0.0</td>\n",
       "      <td>1</td>\n",
       "      <td>INDIVIDUAL</td>\n",
       "      <td>0</td>\n",
       "      <td>0.0</td>\n",
       "      <td>0</td>\n",
       "      <td>1.0</td>\n",
       "      <td>0.0</td>\n",
       "      <td>10</td>\n",
       "      <td>2007</td>\n",
       "    </tr>\n",
       "    <tr>\n",
       "      <th>39666</th>\n",
       "      <td>119043</td>\n",
       "      <td>119040</td>\n",
       "      <td>15450</td>\n",
       "      <td>15450</td>\n",
       "      <td>600.00</td>\n",
       "      <td>36</td>\n",
       "      <td>11.22</td>\n",
       "      <td>507.46</td>\n",
       "      <td>C</td>\n",
       "      <td>C4</td>\n",
       "      <td>...</td>\n",
       "      <td>NaN</td>\n",
       "      <td>1</td>\n",
       "      <td>INDIVIDUAL</td>\n",
       "      <td>0</td>\n",
       "      <td>NaN</td>\n",
       "      <td>0</td>\n",
       "      <td>1.0</td>\n",
       "      <td>0.0</td>\n",
       "      <td>8</td>\n",
       "      <td>2007</td>\n",
       "    </tr>\n",
       "    <tr>\n",
       "      <th>39680</th>\n",
       "      <td>112496</td>\n",
       "      <td>112493</td>\n",
       "      <td>3000</td>\n",
       "      <td>3000</td>\n",
       "      <td>525.00</td>\n",
       "      <td>36</td>\n",
       "      <td>11.86</td>\n",
       "      <td>99.44</td>\n",
       "      <td>D</td>\n",
       "      <td>D1</td>\n",
       "      <td>...</td>\n",
       "      <td>NaN</td>\n",
       "      <td>1</td>\n",
       "      <td>INDIVIDUAL</td>\n",
       "      <td>0</td>\n",
       "      <td>NaN</td>\n",
       "      <td>0</td>\n",
       "      <td>1.0</td>\n",
       "      <td>0.0</td>\n",
       "      <td>8</td>\n",
       "      <td>2007</td>\n",
       "    </tr>\n",
       "  </tbody>\n",
       "</table>\n",
       "<p>10 rows × 55 columns</p>\n",
       "</div>"
      ],
      "text/plain": [
       "           id  member_id  loan_amnt  funded_amnt  funded_amnt_inv  term  \\\n",
       "39362  218343     218321       2150         2150          1575.00    36   \n",
       "39425  202270     202156       4000         4000          1199.99    36   \n",
       "39430  200912     200892       9400         9400          1748.29    36   \n",
       "39433  200600     200597       7500         7500          1599.78    36   \n",
       "39475  186572     186568      12000        12000           725.00    36   \n",
       "39551  158706     158450      12375        12375          1000.00    36   \n",
       "39562  154154     151536       4800         4800          1100.00    36   \n",
       "39623  132892     132889       9000         9000           700.00    36   \n",
       "39666  119043     119040      15450        15450           600.00    36   \n",
       "39680  112496     112493       3000         3000           525.00    36   \n",
       "\n",
       "       int_rate  installment grade sub_grade  ... collections_12_mths_ex_med  \\\n",
       "39362     10.78        70.17     C        C1  ...                        0.0   \n",
       "39425     12.36       133.55     D        D1  ...                        0.0   \n",
       "39430     13.30       318.09     D        D4  ...                        0.0   \n",
       "39433      9.83       241.41     B        B3  ...                        0.0   \n",
       "39475      9.01       381.66     B        B2  ...                        0.0   \n",
       "39551     10.91       404.62     C        C3  ...                        0.0   \n",
       "39562     10.28       155.52     C        C1  ...                        0.0   \n",
       "39623     12.49       301.04     D        D3  ...                        0.0   \n",
       "39666     11.22       507.46     C        C4  ...                        NaN   \n",
       "39680     11.86        99.44     D        D1  ...                        NaN   \n",
       "\n",
       "       policy_code application_type  acc_now_delinq chargeoff_within_12_mths  \\\n",
       "39362            1       INDIVIDUAL               0                      0.0   \n",
       "39425            1       INDIVIDUAL               0                      0.0   \n",
       "39430            1       INDIVIDUAL               0                      0.0   \n",
       "39433            1       INDIVIDUAL               0                      0.0   \n",
       "39475            1       INDIVIDUAL               0                      0.0   \n",
       "39551            1       INDIVIDUAL               0                      0.0   \n",
       "39562            1       INDIVIDUAL               0                      0.0   \n",
       "39623            1       INDIVIDUAL               0                      0.0   \n",
       "39666            1       INDIVIDUAL               0                      NaN   \n",
       "39680            1       INDIVIDUAL               0                      NaN   \n",
       "\n",
       "      delinq_amnt pub_rec_bankruptcies tax_liens month  year  \n",
       "39362           0                  1.0       0.0     1  2008  \n",
       "39425           0                  1.0       0.0     1  2008  \n",
       "39430           0                  1.0       0.0     1  2008  \n",
       "39433           0                  1.0       0.0     1  2008  \n",
       "39475           0                  1.0       0.0    12  2007  \n",
       "39551           0                  1.0       0.0    12  2007  \n",
       "39562           0                  1.0       0.0    11  2007  \n",
       "39623           0                  1.0       0.0    10  2007  \n",
       "39666           0                  1.0       0.0     8  2007  \n",
       "39680           0                  1.0       0.0     8  2007  \n",
       "\n",
       "[10 rows x 55 columns]"
      ]
     },
     "execution_count": 85,
     "metadata": {},
     "output_type": "execute_result"
    }
   ],
   "source": [
    "#STEP 3 round the amount fields \n",
    "#total_pymnt,total_rec_late_fee,funded_amnt_inv into 2 decimal places\n",
    "print(loandata['total_pymnt'].tail())\n",
    "\n",
    "loandata['total_pymnt']= round(loandata['total_pymnt'],2)\n",
    "loandata['total_rec_late_fee']= round(loandata['total_rec_late_fee'],2)\n",
    "loandata['funded_amnt_inv']= round(loandata['funded_amnt_inv'],2)\n",
    "\n",
    "loandata.tail(10)\n"
   ]
  },
  {
   "cell_type": "code",
   "execution_count": 86,
   "metadata": {},
   "outputs": [
    {
     "name": "stdout",
     "output_type": "stream",
     "text": [
      "<class 'pandas.core.frame.DataFrame'>\n",
      "Int64Index: 36442 entries, 1 to 39680\n",
      "Data columns (total 49 columns):\n",
      "loan_amnt                     36442 non-null int64\n",
      "funded_amnt                   36442 non-null int64\n",
      "funded_amnt_inv               36442 non-null float64\n",
      "term                          36442 non-null int64\n",
      "int_rate                      36442 non-null float64\n",
      "installment                   36442 non-null float64\n",
      "grade                         36442 non-null object\n",
      "sub_grade                     36442 non-null object\n",
      "emp_title                     36442 non-null object\n",
      "emp_length                    36442 non-null int64\n",
      "home_ownership                36442 non-null object\n",
      "annual_inc                    36442 non-null float64\n",
      "verification_status           36442 non-null object\n",
      "issue_d                       36442 non-null datetime64[ns]\n",
      "loan_status                   36442 non-null object\n",
      "pymnt_plan                    36442 non-null object\n",
      "purpose                       36442 non-null object\n",
      "dti                           36442 non-null float64\n",
      "delinq_2yrs                   36442 non-null int64\n",
      "earliest_cr_line              36442 non-null object\n",
      "inq_last_6mths                36442 non-null int64\n",
      "open_acc                      36442 non-null int64\n",
      "pub_rec                       36442 non-null int64\n",
      "revol_bal                     36442 non-null int64\n",
      "revol_util                    36442 non-null object\n",
      "total_acc                     36442 non-null int64\n",
      "initial_list_status           36442 non-null object\n",
      "out_prncp                     36442 non-null float64\n",
      "out_prncp_inv                 36442 non-null float64\n",
      "total_pymnt                   36442 non-null float64\n",
      "total_pymnt_inv               36442 non-null float64\n",
      "total_rec_prncp               36442 non-null float64\n",
      "total_rec_int                 36442 non-null float64\n",
      "total_rec_late_fee            36442 non-null float64\n",
      "recoveries                    36442 non-null float64\n",
      "collection_recovery_fee       36442 non-null float64\n",
      "last_pymnt_d                  36442 non-null object\n",
      "last_pymnt_amnt               36442 non-null float64\n",
      "last_credit_pull_d            36442 non-null object\n",
      "collections_12_mths_ex_med    36440 non-null float64\n",
      "policy_code                   36442 non-null int64\n",
      "application_type              36442 non-null object\n",
      "acc_now_delinq                36442 non-null int64\n",
      "chargeoff_within_12_mths      36440 non-null float64\n",
      "delinq_amnt                   36442 non-null int64\n",
      "pub_rec_bankruptcies          36442 non-null float64\n",
      "tax_liens                     36442 non-null float64\n",
      "month                         36442 non-null int64\n",
      "year                          36442 non-null int64\n",
      "dtypes: datetime64[ns](1), float64(19), int64(15), object(14)\n",
      "memory usage: 13.9+ MB\n"
     ]
    }
   ],
   "source": [
    "#STEP 4\n",
    "#Observe the columns which will not be useful in analysis and drop the columns\n",
    "#loandata.info()\n",
    "\n",
    "loandata = loandata.drop(['title', 'url', 'zip_code', 'addr_state','id','member_id'], axis=1)\n",
    "loandata.info()\n"
   ]
  },
  {
   "cell_type": "code",
   "execution_count": 87,
   "metadata": {},
   "outputs": [
    {
     "name": "stdout",
     "output_type": "stream",
     "text": [
      "Fully Paid     84.0\n",
      "Charged Off    14.0\n",
      "Current         3.0\n",
      "Name: loan_status, dtype: float64\n"
     ]
    },
    {
     "data": {
      "text/plain": [
       "<matplotlib.axes._subplots.AxesSubplot at 0x16c5b4baf60>"
      ]
     },
     "execution_count": 87,
     "metadata": {},
     "output_type": "execute_result"
    },
    {
     "data": {
      "image/png": "[encoded data removed]",
      "text/plain": [
       "<Figure size 432x288 with 1 Axes>"
      ]
     },
     "metadata": {
      "needs_background": "light"
     },
     "output_type": "display_data"
    }
   ],
   "source": [
    "# Identifing 5 variables which are strong indicators of default.\n",
    "#Univariate Analysis\n",
    "\n",
    "import matplotlib.pyplot as plt\n",
    "import seaborn as sns\n",
    "my_colors = 'rgbkymc'\n",
    "plot1 = round((loandata['loan_status'].value_counts()/loandata['loan_status'].count())*100)\n",
    "print(plot1)\n",
    "\n",
    "#plot3.plot(kind='bar', stacked=True,color=my_colors)\n",
    "plot1.plot(kind='bar', stacked=True)\n",
    "#OBSERVATION\n",
    "#84% Fully paid & #14% default cases\n"
   ]
  },
  {
   "cell_type": "code",
   "execution_count": 88,
   "metadata": {},
   "outputs": [
    {
     "data": {
      "text/plain": [
       "0    30432\n",
       "1     4944\n",
       "2     1066\n",
       "Name: loan_status, dtype: int64"
      ]
     },
     "execution_count": 88,
     "metadata": {},
     "output_type": "execute_result"
    }
   ],
   "source": [
    "# Change to int \n",
    "loandata['loan_status'] = loandata['loan_status'].apply(lambda x: 0 if x=='Fully Paid' else x)\n",
    "\n",
    "loandata['loan_status'] = loandata['loan_status'].apply(lambda x: 1 if x=='Charged Off' else x)\n",
    "\n",
    "loandata['loan_status'] = loandata['loan_status'].apply(lambda x: 2 if x=='Current' else x)\n",
    "\n",
    "# converting loan_status to integer type\n",
    "loandata['loan_status'] = loandata['loan_status'].apply(lambda x: pd.to_numeric(x))\n",
    "\n",
    "# summarising the values\n",
    "loandata['loan_status'].value_counts()"
   ]
  },
  {
   "cell_type": "code",
   "execution_count": 89,
   "metadata": {},
   "outputs": [
    {
     "name": "stdout",
     "output_type": "stream",
     "text": [
      "['C' 'B' 'A' 'E' 'D' 'F' 'G']\n",
      "B    11037\n",
      "A     9176\n",
      "C     7432\n",
      "D     4878\n",
      "E     2651\n",
      "F      970\n",
      "G      298\n",
      "Name: grade, dtype: int64\n"
     ]
    },
    {
     "data": {
      "image/png": "[encoded data removed]",
      "text/plain": [
       "<Figure size 432x288 with 1 Axes>"
      ]
     },
     "metadata": {
      "needs_background": "light"
     },
     "output_type": "display_data"
    }
   ],
   "source": [
    "#Identifying Catgorical variables \n",
    "#1.Term\n",
    "#2.grade\n",
    "#3.Sub_grade\n",
    "#4.Emp_length\n",
    "#5.Home_OwnerShip\n",
    "#6.Annual Income\n",
    "#7.loan_amnt\n",
    "#loandata.info()\n",
    "\n",
    "print(loandata['grade'].unique())\n",
    "print(loandata['grade'].value_counts())\n",
    "#print(loandata['sub_grade'].unique())\n",
    "#loandata['Emp_length'].unique()\n",
    "#loandata['Title'].unique()\n",
    "#loandata['Term'].unique()\n",
    "#loandata['Home_OwnerShip'].unique()\n",
    "\n",
    "\n",
    "#not considering the Current status loans\n",
    "defaultcase = loandata.where(loandata.loan_status != 2)\n",
    "#sns.barplot(x='grade', y='loan_status', data=loandata)\n",
    "\n",
    "#plt.show()\n",
    "defaultcase.sort_values('grade',inplace=True)\n",
    "sns.barplot(x='grade', y='loan_status', data=defaultcase)\n",
    "plt.show()\n",
    "#OBSERVATION\n",
    "#Clearly, as the grade of loan goes from A to G, the default rate increases. \n",
    "#grade decides Lending Club based on the riskiness of the loan.\n",
    "\n",
    "\n",
    "\n"
   ]
  },
  {
   "cell_type": "code",
   "execution_count": 90,
   "metadata": {},
   "outputs": [
    {
     "data": {
      "image/png": "[encoded data removed]",
      "text/plain": [
       "<Figure size 432x288 with 1 Axes>"
      ]
     },
     "metadata": {
      "needs_background": "light"
     },
     "output_type": "display_data"
    }
   ],
   "source": [
    "## Will consider the employee experience \n",
    "sns.barplot(x='emp_length', y='loan_status', data=defaultcase)\n",
    "plt.show()\n",
    "#OBSERVATION\n",
    "###There very less differntiatir if you compare years of experience , So this variable is NOT a good univariate variable"
   ]
  },
  {
   "cell_type": "code",
   "execution_count": 92,
   "metadata": {},
   "outputs": [
    {
     "data": {
      "image/png": "[encoded data removed]",
      "text/plain": [
       "<Figure size 1152x432 with 1 Axes>"
      ]
     },
     "metadata": {
      "needs_background": "light"
     },
     "output_type": "display_data"
    }
   ],
   "source": [
    "#loandata.info()\n",
    "## Will consider the Sun_grade\n",
    "#print(loandata['sub_grade'].value_counts())\n",
    "plt.figure(figsize=(16, 6))\n",
    "defaultcase.sort_values('sub_grade',inplace=True)\n",
    "sns.barplot(x='sub_grade', y='loan_status', data=defaultcase)\n",
    "#plt.xticks(rotation='vertical')\n",
    "plt.show()\n",
    "#OBSERVATION\n",
    "###subgrade is clear differentiator it A1 to A5 F4 to F5 & G1 to G5"
   ]
  },
  {
   "cell_type": "code",
   "execution_count": 93,
   "metadata": {},
   "outputs": [
    {
     "data": {
      "image/png": "[encoded data removed]",
      "text/plain": [
       "<Figure size 432x288 with 1 Axes>"
      ]
     },
     "metadata": {
      "needs_background": "light"
     },
     "output_type": "display_data"
    }
   ],
   "source": [
    "#loandata.info()\n",
    "## Will consider the Term\n",
    "defaultcase.sort_values('term',inplace=True)\n",
    "sns.barplot(x='term', y='loan_status', data=defaultcase)\n",
    "#plt.xticks(rotation='vertical')\n",
    "plt.show()\n",
    "#OBSERVATION\n",
    "###Term is clear Differentiator for Default cases"
   ]
  },
  {
   "cell_type": "code",
   "execution_count": 94,
   "metadata": {},
   "outputs": [
    {
     "data": {
      "image/png": "[encoded data removed]",
      "text/plain": [
       "<Figure size 432x288 with 1 Axes>"
      ]
     },
     "metadata": {
      "needs_background": "light"
     },
     "output_type": "display_data"
    }
   ],
   "source": [
    "#loandata.info()\n",
    "# Will consider the home_ownership\n",
    "defaultcase.sort_values('home_ownership',inplace=True)\n",
    "sns.barplot(x='home_ownership', y='loan_status', data=defaultcase)\n",
    "#plt.xticks(rotation='vertical')\n",
    "plt.show()\n",
    "#OBSERVATION\n",
    "###home_ownership is not a good differentiator all are at same level except Others"
   ]
  },
  {
   "cell_type": "code",
   "execution_count": 95,
   "metadata": {},
   "outputs": [
    {
     "data": {
      "image/png": "[encoded data removed]",
      "text/plain": [
       "<Figure size 432x288 with 1 Axes>"
      ]
     },
     "metadata": {
      "needs_background": "light"
     },
     "output_type": "display_data"
    },
    {
     "name": "stdout",
     "output_type": "stream",
     "text": [
      "Fully Paid     84.0\n",
      "Charged Off    14.0\n",
      "Current         3.0\n",
      "Name: loan_status, dtype: float64\n",
      "Not Verified       41.0\n",
      "Verified           33.0\n",
      "Source Verified    26.0\n",
      "Name: verification_status, dtype: float64\n"
     ]
    },
    {
     "data": {
      "image/png": "[encoded data removed]",
      "text/plain": [
       "<Figure size 432x288 with 1 Axes>"
      ]
     },
     "metadata": {
      "needs_background": "light"
     },
     "output_type": "display_data"
    }
   ],
   "source": [
    "#loandata.info()\n",
    "# Will consider the verification_status\n",
    "defaultcase.sort_values('verification_status',inplace=True)\n",
    "sns.barplot(x='verification_status', y='loan_status', data=defaultcase)\n",
    "#plt.xticks(rotation='vertical')\n",
    "plt.show()\n",
    "#verified = round((loandata['verification_status'].value_counts()/loandata['verification_status'].count())*100)\n",
    "verified = loandata['verification_status'].value_counts()\n",
    "print(plot1)\n",
    "verified.plot(kind='bar', stacked=True)\n",
    "print(round((loandata['verification_status'].value_counts()/loandata['verification_status'].count())*100))\n",
    "#OBSERVATION\n",
    "###Verified cases defaulted more than not verified cases\n",
    "##41% of the loans issues without verification "
   ]
  },
  {
   "cell_type": "code",
   "execution_count": 96,
   "metadata": {},
   "outputs": [
    {
     "data": {
      "image/png": "[encoded data removed]",
      "text/plain": [
       "<Figure size 1800x432 with 1 Axes>"
      ]
     },
     "metadata": {
      "needs_background": "light"
     },
     "output_type": "display_data"
    }
   ],
   "source": [
    "#loandata.info()\n",
    "# Will consider the purpose\n",
    "plt.figure(figsize=(25, 6))\n",
    "defaultcase.sort_values('purpose',inplace=True)\n",
    "sns.barplot(x='purpose', y='loan_status', data=defaultcase)\n",
    "#plt.xticks(rotation='vertical')\n",
    "plt.show()\n",
    "#OBSERVATION\n",
    "###Small business, renewable energy ,educational loans are defaulted more"
   ]
  },
  {
   "cell_type": "code",
   "execution_count": 97,
   "metadata": {},
   "outputs": [
    {
     "data": {
      "image/png": "[encoded data removed]",
      "text/plain": [
       "<Figure size 432x288 with 1 Axes>"
      ]
     },
     "metadata": {
      "needs_background": "light"
     },
     "output_type": "display_data"
    },
    {
     "name": "stdout",
     "output_type": "stream",
     "text": [
      "<class 'pandas.core.frame.DataFrame'>\n",
      "Int64Index: 36442 entries, 39623 to 18215\n",
      "Data columns (total 49 columns):\n",
      "loan_amnt                     35376 non-null float64\n",
      "funded_amnt                   35376 non-null float64\n",
      "funded_amnt_inv               35376 non-null float64\n",
      "term                          35376 non-null float64\n",
      "int_rate                      35376 non-null float64\n",
      "installment                   35376 non-null float64\n",
      "grade                         35376 non-null object\n",
      "sub_grade                     35376 non-null object\n",
      "emp_title                     35376 non-null object\n",
      "emp_length                    35376 non-null float64\n",
      "home_ownership                35376 non-null object\n",
      "annual_inc                    35376 non-null float64\n",
      "verification_status           35376 non-null object\n",
      "issue_d                       35376 non-null datetime64[ns]\n",
      "loan_status                   35376 non-null float64\n",
      "pymnt_plan                    35376 non-null object\n",
      "purpose                       35376 non-null object\n",
      "dti                           35376 non-null float64\n",
      "delinq_2yrs                   35376 non-null float64\n",
      "earliest_cr_line              35376 non-null object\n",
      "inq_last_6mths                35376 non-null float64\n",
      "open_acc                      35376 non-null float64\n",
      "pub_rec                       35376 non-null float64\n",
      "revol_bal                     35376 non-null float64\n",
      "revol_util                    35376 non-null object\n",
      "total_acc                     35376 non-null float64\n",
      "initial_list_status           35376 non-null object\n",
      "out_prncp                     35376 non-null float64\n",
      "out_prncp_inv                 35376 non-null float64\n",
      "total_pymnt                   35376 non-null float64\n",
      "total_pymnt_inv               35376 non-null float64\n",
      "total_rec_prncp               35376 non-null float64\n",
      "total_rec_int                 35376 non-null float64\n",
      "total_rec_late_fee            35376 non-null float64\n",
      "recoveries                    35376 non-null float64\n",
      "collection_recovery_fee       35376 non-null float64\n",
      "last_pymnt_d                  35376 non-null object\n",
      "last_pymnt_amnt               35376 non-null float64\n",
      "last_credit_pull_d            35376 non-null object\n",
      "collections_12_mths_ex_med    35374 non-null float64\n",
      "policy_code                   35376 non-null float64\n",
      "application_type              35376 non-null object\n",
      "acc_now_delinq                35376 non-null float64\n",
      "chargeoff_within_12_mths      35374 non-null float64\n",
      "delinq_amnt                   35376 non-null float64\n",
      "pub_rec_bankruptcies          35376 non-null float64\n",
      "tax_liens                     35376 non-null float64\n",
      "month                         35376 non-null float64\n",
      "year                          35376 non-null float64\n",
      "dtypes: datetime64[ns](1), float64(35), object(13)\n",
      "memory usage: 15.2+ MB\n"
     ]
    }
   ],
   "source": [
    "defaultcase.sort_values('year',inplace=True)\n",
    "sns.barplot(x='year', y='loan_status', data=defaultcase)\n",
    "#plt.xticks(rotation='vertical')\n",
    "plt.show()\n",
    "\n",
    "defaultcase['year'] = defaultcase['year']\n",
    "defaultcase.info()\n",
    "#OBSERVATION\n",
    "###In 2011 default cases again increased"
   ]
  },
  {
   "cell_type": "code",
   "execution_count": 98,
   "metadata": {},
   "outputs": [
    {
     "name": "stdout",
     "output_type": "stream",
     "text": [
      "count    35376.000000\n",
      "mean     11132.782112\n",
      "std       7326.262426\n",
      "min        500.000000\n",
      "25%       5500.000000\n",
      "50%      10000.000000\n",
      "75%      15000.000000\n",
      "max      35000.000000\n",
      "Name: loan_amnt, dtype: float64\n"
     ]
    }
   ],
   "source": [
    "print(defaultcase.loan_amnt.describe())\n",
    "## 0 to 25%  loan_amt consider as LOW\n",
    "## 25 to 50%  loan_amt consider as medium\n",
    "## 50 to 75%  loan_amt consider as high\n",
    "## >75%  loan_amt consider as Very high\n",
    "\n",
    "### Loan_amount field changing in categorical form \n",
    "def loan_amount(n):\n",
    "    if n <= 5500:\n",
    "        return 'low'\n",
    "    elif n >5500 and n <= 10000:\n",
    "        return 'medium'\n",
    "    elif n > 10000 and n <= 15000:\n",
    "        return 'high'\n",
    "    else:\n",
    "        return 'very high'\n",
    "    \n",
    "   \n"
   ]
  },
  {
   "cell_type": "code",
   "execution_count": 99,
   "metadata": {},
   "outputs": [
    {
     "data": {
      "image/png": "[encoded data removed]",
      "text/plain": [
       "<Figure size 432x288 with 1 Axes>"
      ]
     },
     "metadata": {
      "needs_background": "light"
     },
     "output_type": "display_data"
    }
   ],
   "source": [
    "# apply the loanamount function \n",
    "defaultcase['loan_amnt_cat'] = defaultcase['loan_amnt'].apply(lambda x: loan_amount(x))\n",
    "sns.barplot(x='loan_amnt_cat', y='loan_status', data=defaultcase)\n",
    "plt.show()\n",
    "\n",
    "###Observation \n",
    "##High range Loan amount are defaulted more\n",
    "        "
   ]
  },
  {
   "cell_type": "code",
   "execution_count": 100,
   "metadata": {},
   "outputs": [
    {
     "name": "stdout",
     "output_type": "stream",
     "text": [
      "count    35376.000000\n",
      "mean     10866.055377\n",
      "std       7069.366329\n",
      "min        500.000000\n",
      "25%       5500.000000\n",
      "50%       9600.000000\n",
      "75%      15000.000000\n",
      "max      35000.000000\n",
      "Name: funded_amnt, dtype: float64\n"
     ]
    },
    {
     "data": {
      "image/png": "[encoded data removed]",
      "text/plain": [
       "<Figure size 432x288 with 1 Axes>"
      ]
     },
     "metadata": {
      "needs_background": "light"
     },
     "output_type": "display_data"
    }
   ],
   "source": [
    "#funded_amnt  (The total amount committed to that loan at that point in time.)\n",
    "print(defaultcase.funded_amnt.describe())\n",
    "## We can use the same function for this also  there is not much difference in LOW/High values\n",
    "defaultcase['funded_amnt_cat'] = defaultcase['funded_amnt'].apply(lambda x: loan_amount(x))\n",
    "sns.barplot(x='funded_amnt_cat', y='loan_status', data=defaultcase)\n",
    "plt.show()\n",
    "\n",
    "###Observation \n",
    "####This is similar as Loan amount .. Funded_amt committed to that loan at that point"
   ]
  },
  {
   "cell_type": "code",
   "execution_count": 101,
   "metadata": {},
   "outputs": [
    {
     "name": "stdout",
     "output_type": "stream",
     "text": [
      "count    3.537600e+04\n",
      "mean     6.909044e+04\n",
      "std      6.396044e+04\n",
      "min      4.000000e+03\n",
      "25%      4.150000e+04\n",
      "50%      6.000000e+04\n",
      "75%      8.250000e+04\n",
      "max      6.000000e+06\n",
      "Name: annual_inc, dtype: float64\n"
     ]
    }
   ],
   "source": [
    "##annualIncome\n",
    "print(defaultcase.annual_inc.describe())\n",
    "def annual_inc(n):\n",
    "    if n <= 45000:\n",
    "        return 'low'\n",
    "    elif n > 45000 and n <=60000:\n",
    "        return 'medium'\n",
    "    elif n > 60000 and n <=85000:\n",
    "        return 'high'\n",
    "    else:\n",
    "        return 'very high'\n"
   ]
  },
  {
   "cell_type": "code",
   "execution_count": 102,
   "metadata": {},
   "outputs": [
    {
     "data": {
      "image/png": "[encoded data removed]",
      "text/plain": [
       "<Figure size 432x288 with 1 Axes>"
      ]
     },
     "metadata": {
      "needs_background": "light"
     },
     "output_type": "display_data"
    }
   ],
   "source": [
    "\n",
    "# apply the Annual inc function \n",
    "defaultcase['annual_inc_cat'] = defaultcase['annual_inc'].apply(lambda x: annual_inc(x))\n",
    "sns.barplot(x='annual_inc_cat', y='loan_status', data=defaultcase)\n",
    "plt.show()\n",
    "\n",
    "###Observation \n",
    "##Lower the Annual income defaulted more"
   ]
  },
  {
   "cell_type": "code",
   "execution_count": 103,
   "metadata": {},
   "outputs": [
    {
     "name": "stdout",
     "output_type": "stream",
     "text": [
      "count    35376.000000\n",
      "mean       324.026159\n",
      "std        207.137056\n",
      "min         16.080000\n",
      "25%        167.840000\n",
      "50%        280.620000\n",
      "75%        426.530000\n",
      "max       1305.190000\n",
      "Name: installment, dtype: float64\n"
     ]
    }
   ],
   "source": [
    "###Installment\n",
    "print(defaultcase.installment.describe())\n",
    "def installment(n):\n",
    "    if n <= 200:\n",
    "        return 'low'\n",
    "    elif n > 200 and n <= 400:\n",
    "        return 'medium'\n",
    "    elif n > 400 and n <=600:\n",
    "        return 'high'\n",
    "    else:\n",
    "        return 'very high'\n"
   ]
  },
  {
   "cell_type": "code",
   "execution_count": 104,
   "metadata": {},
   "outputs": [
    {
     "data": {
      "image/png": "[encoded data removed]",
      "text/plain": [
       "<Figure size 432x288 with 1 Axes>"
      ]
     },
     "metadata": {
      "needs_background": "light"
     },
     "output_type": "display_data"
    }
   ],
   "source": [
    "\n",
    "# apply the installment function \n",
    "defaultcase['installment_cat'] = defaultcase['installment'].apply(lambda x: installment(x))\n",
    "sns.barplot(x='installment_cat', y='loan_status', data=defaultcase)\n",
    "plt.show()\n",
    "## OBSERVATION\n",
    "##Default cases are more for Higher installment\n"
   ]
  },
  {
   "cell_type": "code",
   "execution_count": 105,
   "metadata": {},
   "outputs": [
    {
     "name": "stdout",
     "output_type": "stream",
     "text": [
      "count    35376.000000\n",
      "mean        11.984024\n",
      "std          3.702657\n",
      "min          5.420000\n",
      "25%          8.940000\n",
      "50%         11.830000\n",
      "75%         14.460000\n",
      "max         24.400000\n",
      "Name: int_rate, dtype: float64\n"
     ]
    }
   ],
   "source": [
    "###int_rate\n",
    "\n",
    "print(defaultcase.int_rate.describe())\n",
    "def int_rate(n):\n",
    "    if n <= 8:\n",
    "        return 'low'\n",
    "    elif n > 8 and n <= 11:\n",
    "        return 'medium'\n",
    "    elif n > 11 and n <=14:\n",
    "        return 'high'\n",
    "    else:\n",
    "        return 'very high'\n"
   ]
  },
  {
   "cell_type": "code",
   "execution_count": 106,
   "metadata": {},
   "outputs": [
    {
     "data": {
      "image/png": "[encoded data removed]",
      "text/plain": [
       "<Figure size 432x288 with 1 Axes>"
      ]
     },
     "metadata": {
      "needs_background": "light"
     },
     "output_type": "display_data"
    }
   ],
   "source": [
    "# apply the int_rate_cat function \n",
    "defaultcase['int_rate_cat'] = defaultcase['int_rate'].apply(lambda x: int_rate(x))\n",
    "sns.barplot(x='int_rate_cat', y='loan_status', data=defaultcase)\n",
    "plt.show()\n",
    "## OBSERVATION\n",
    "##Default cases are more for Higher int_rate"
   ]
  },
  {
   "cell_type": "code",
   "execution_count": 107,
   "metadata": {},
   "outputs": [
    {
     "data": {
      "text/plain": [
       "debt_consolidation    16914\n",
       "credit_card            4627\n",
       "other                  3464\n",
       "home_improvement       2614\n",
       "major_purchase         1974\n",
       "car                    1395\n",
       "Name: purpose, dtype: int64"
      ]
     },
     "execution_count": 107,
     "metadata": {},
     "output_type": "execute_result"
    }
   ],
   "source": [
    "##### Segmented Univariate Analysis#######################################\n",
    "##Group by dimensions\n",
    "##Summarise using a relevant metric such as mean, median, etc.\n",
    "##Compare the aggregated metric across groups/categories \n",
    "\n",
    "## Univariable variables which impacting the Default cases like\n",
    "#1.Grade\n",
    "#2.Sub_grade\n",
    "#3.Term\n",
    "#4.Purpose\n",
    "#5.Annual_Income\n",
    "#6.Installment/int_rate\n",
    "#7.Loan_amount/Funded_amt\n",
    "#8.verification status\n",
    "\n",
    "## Loan requested based on the need/Purpose and loan issued based on need/Annual Income/Job\n",
    "\n",
    "\n",
    "pur = defaultcase['purpose'].value_counts()\n",
    "paired_colors = plt.cm.Paired(range(len(pur)))\n",
    "#pur.plot(kind='bar', stacked=True,color = paired_colors)\n",
    "#plot1 = round((loandata['loan_status'].value_counts()/loandata['loan_status'].count())*100)\n",
    "#print(plot1)\n",
    "## Consider Top 6 purpose \n",
    "\n",
    "\n",
    "purpose = [\"debt_consolidation\",\"credit_card\",\"other\",\"home_improvement\",\"major_purchase\",\"car\"]\n",
    "purpose_loans = defaultcase[defaultcase['purpose'].isin(purpose)]\n",
    "purpose_loans['purpose'].value_counts()\n"
   ]
  },
  {
   "cell_type": "code",
   "execution_count": 108,
   "metadata": {},
   "outputs": [
    {
     "data": {
      "image/png": "[encoded data removed]",
      "text/plain": [
       "<Figure size 1152x432 with 1 Axes>"
      ]
     },
     "metadata": {
      "needs_background": "light"
     },
     "output_type": "display_data"
    }
   ],
   "source": [
    "##### Segmented Univariate Analysis#######################################\n",
    "##1.Group by dimensions\n",
    "##Default cases against top 6 purposes and grade\n",
    "plt.figure(figsize=[16, 6])\n",
    "sns.barplot(x='grade', y='loan_status', hue='purpose', data=purpose_loans)\n",
    "plt.show()\n",
    "##OBSERVATION\n",
    "## Car loans defaulted more in Grade F,G  and \"other cases /Debt_conolidation cases ' are next higher "
   ]
  },
  {
   "cell_type": "code",
   "execution_count": 113,
   "metadata": {},
   "outputs": [
    {
     "data": {
      "image/png": "[encoded data removed]",
      "text/plain": [
       "<Figure size 1152x432 with 1 Axes>"
      ]
     },
     "metadata": {
      "needs_background": "light"
     },
     "output_type": "display_data"
    }
   ],
   "source": [
    "##2.Group by dimensions\n",
    "##Default cases against top 6 purposes and subgrade\n",
    "plt.figure(figsize=[16, 6])\n",
    "sns.barplot(x='sub_grade', y='loan_status', hue='purpose', data=purpose_loans)\n",
    "plt.show()\n",
    "##OBSERVATION\n",
    "## Car loans defaulted more in Grade  and \"other cases /Debt_conolidation cases ' are next higher \n",
    " "
   ]
  },
  {
   "cell_type": "code",
   "execution_count": 110,
   "metadata": {},
   "outputs": [
    {
     "data": {
      "image/png": "[encoded data removed]",
      "text/plain": [
       "<Figure size 720x432 with 1 Axes>"
      ]
     },
     "metadata": {
      "needs_background": "light"
     },
     "output_type": "display_data"
    }
   ],
   "source": [
    "##3.Group by dimensions\n",
    "##Default cases against top 6 purposes and term\n",
    "plt.figure(figsize=[10, 6])\n",
    "sns.barplot(x='term', y='loan_status', hue='purpose', data=purpose_loans)\n",
    "plt.show()\n",
    "##OBSERVATION\n",
    "## Other & Debt_consolidation purpose default cases higher in both terms"
   ]
  },
  {
   "cell_type": "code",
   "execution_count": 114,
   "metadata": {},
   "outputs": [
    {
     "data": {
      "image/png": "[encoded data removed]",
      "text/plain": [
       "<Figure size 1152x432 with 1 Axes>"
      ]
     },
     "metadata": {
      "needs_background": "light"
     },
     "output_type": "display_data"
    }
   ],
   "source": [
    "##4.Group by dimensions\n",
    "##Default cases against top 6 purposes and installment_cat\n",
    "plt.figure(figsize=[16, 6])\n",
    "sns.barplot(x='installment_cat', y='loan_status', hue='purpose', data=purpose_loans)\n",
    "plt.show()\n",
    "##OBSERVATION\n",
    "## debt_consolidation/Other/Car are more default rate purpose in high/veryhigh \n"
   ]
  },
  {
   "cell_type": "code",
   "execution_count": 115,
   "metadata": {},
   "outputs": [
    {
     "data": {
      "image/png": "[encoded data removed]",
      "text/plain": [
       "<Figure size 1152x432 with 1 Axes>"
      ]
     },
     "metadata": {
      "needs_background": "light"
     },
     "output_type": "display_data"
    }
   ],
   "source": [
    "##5.Group by dimensions\n",
    "##Default cases against top 6 purposes and int_rate\n",
    "plt.figure(figsize=[16, 6])\n",
    "sns.barplot(x='int_rate_cat', y='loan_status', hue='purpose', data=purpose_loans)\n",
    "plt.show()\n",
    "##OBSERVATION\n",
    "## debt_consolidation/Other/Car are more default rate purpose in high/veryhigh \n"
   ]
  },
  {
   "cell_type": "code",
   "execution_count": 116,
   "metadata": {},
   "outputs": [
    {
     "data": {
      "image/png": "[encoded data removed]",
      "text/plain": [
       "<Figure size 1152x432 with 1 Axes>"
      ]
     },
     "metadata": {
      "needs_background": "light"
     },
     "output_type": "display_data"
    }
   ],
   "source": [
    "##6.Group by dimensions\n",
    "##Default cases against top 6 purposes and annual_inc\n",
    "plt.figure(figsize=[16, 6])\n",
    "sns.barplot(x='annual_inc_cat', y='loan_status', hue='purpose', data=purpose_loans)\n",
    "plt.show()\n",
    "##OBSERVATION\n",
    "## debt_consolidation/Other/home_improvement  are more default rate purpose Low & Medium income \n",
    "## Whose sal < 60000$    "
   ]
  },
  {
   "cell_type": "code",
   "execution_count": 117,
   "metadata": {},
   "outputs": [
    {
     "data": {
      "image/png": "[encoded data removed]",
      "text/plain": [
       "<Figure size 1152x432 with 1 Axes>"
      ]
     },
     "metadata": {
      "needs_background": "light"
     },
     "output_type": "display_data"
    }
   ],
   "source": [
    "##7.Group by dimensions\n",
    "##Default cases against top 6 purposes and loan_amt\n",
    "plt.figure(figsize=[16, 6])\n",
    "sns.barplot(x='loan_amnt_cat', y='loan_status', hue='purpose', data=purpose_loans)\n",
    "plt.show()\n",
    "##OBSERVATION\n",
    "## debt_consolidation/Other/car  are more default rate where loan_amount is high &very high cases\n",
    "## Whose loan_amount > 10000   "
   ]
  },
  {
   "cell_type": "code",
   "execution_count": 118,
   "metadata": {},
   "outputs": [
    {
     "data": {
      "image/png": "[encoded data removed]",
      "text/plain": [
       "<Figure size 1152x432 with 1 Axes>"
      ]
     },
     "metadata": {
      "needs_background": "light"
     },
     "output_type": "display_data"
    }
   ],
   "source": [
    "###8.Group by dimensions\n",
    "##Default cases against top 6 purposes and verificationstatus\n",
    "plt.figure(figsize=[16, 6])\n",
    "sns.barplot(x='verification_status', y='loan_status', hue='purpose', data=purpose_loans)\n",
    "plt.show()\n",
    "##OBSERVATION\n",
    "## debt_consolidation/Other/home_improvement  are more default rate not verified cases \n",
    "## debt_consolidation/Other/car  are more default rate  verified cases "
   ]
  },
  {
   "cell_type": "code",
   "execution_count": 119,
   "metadata": {},
   "outputs": [
    {
     "data": {
      "image/png": "[encoded data removed]",
      "text/plain": [
       "<Figure size 1152x432 with 1 Axes>"
      ]
     },
     "metadata": {
      "needs_background": "light"
     },
     "output_type": "display_data"
    }
   ],
   "source": [
    "##9.Group by dimensions\n",
    "##Default cases against top 6 purposes and verificationstatus\n",
    "plt.figure(figsize=[16, 6])\n",
    "sns.barplot(x='emp_length', y='loan_status', hue='purpose', data=purpose_loans)\n",
    "plt.show()\n",
    "##OBSERVATION\n",
    "## debt_consolidation/Other/home_improvement  are more default rate not verified cases \n",
    "## debt_consolidation/Other/car  are more default rate  verified cases "
   ]
  },
  {
   "cell_type": "code",
   "execution_count": 120,
   "metadata": {},
   "outputs": [
    {
     "data": {
      "text/plain": [
       "annual_inc_cat\n",
       "low          0.162179\n",
       "medium       0.143818\n",
       "high         0.119930\n",
       "very high    0.102922\n",
       "Name: loan_status, dtype: float64"
      ]
     },
     "execution_count": 120,
     "metadata": {},
     "output_type": "execute_result"
    }
   ],
   "source": [
    "\n",
    "##### Segmented Univariate Analysis#######################################\n",
    "##Summarise using a relevant metric such as mean\n",
    "purpose_loans.groupby('annual_inc_cat').loan_status.mean().sort_values(ascending=False)\n",
    "#OBSERVATION\n",
    "#Low income sal having more default cases \n",
    "#Variation between them is 6%"
   ]
  },
  {
   "cell_type": "code",
   "execution_count": 121,
   "metadata": {},
   "outputs": [
    {
     "data": {
      "text/plain": [
       "installment_cat\n",
       "high         0.148671\n",
       "very high    0.147770\n",
       "medium       0.130119\n",
       "low          0.127572\n",
       "Name: loan_status, dtype: float64"
      ]
     },
     "execution_count": 121,
     "metadata": {},
     "output_type": "execute_result"
    }
   ],
   "source": [
    "##### Segmented Univariate Analysis#######################################\n",
    "#2.Summarise using a relevant metric such as mean\n",
    "purpose_loans.groupby('installment_cat').loan_status.mean().sort_values(ascending=False)\n",
    "#OBSERVATION\n",
    "#high installment has more  default cases \n",
    "#Variation between low to high is 2%"
   ]
  },
  {
   "cell_type": "code",
   "execution_count": 122,
   "metadata": {},
   "outputs": [
    {
     "data": {
      "text/plain": [
       "loan_amnt_cat\n",
       "very high    0.175240\n",
       "low          0.126312\n",
       "high         0.124060\n",
       "medium       0.118160\n",
       "Name: loan_status, dtype: float64"
      ]
     },
     "execution_count": 122,
     "metadata": {},
     "output_type": "execute_result"
    }
   ],
   "source": [
    "##### Segmented Univariate Analysis#######################################\n",
    "#3.Summarise using a relevant metric such as mean\n",
    "purpose_loans.groupby('loan_amnt_cat').loan_status.mean().sort_values(ascending=False)\n",
    "#OBSERVATION\n",
    "#high loan_amount has more  default cases \n",
    "#Variation between low to high is 5%"
   ]
  },
  {
   "cell_type": "code",
   "execution_count": 123,
   "metadata": {},
   "outputs": [
    {
     "data": {
      "text/plain": [
       "purpose\n",
       "small_business        0.340877\n",
       "house                 0.227405\n",
       "other                 0.215823\n",
       "debt_consolidation    0.207635\n",
       "renewable_energy      0.193182\n",
       "medical               0.187697\n",
       "home_improvement      0.176710\n",
       "moving                0.172023\n",
       "car                   0.169785\n",
       "vacation              0.169643\n",
       "educational           0.161871\n",
       "credit_card           0.143643\n",
       "wedding               0.141084\n",
       "major_purchase        0.129418\n",
       "Name: loan_status, dtype: float64"
      ]
     },
     "execution_count": 123,
     "metadata": {},
     "output_type": "execute_result"
    }
   ],
   "source": [
    "##### Segmented Univariate Analysis#######################################\n",
    "#4.Summarise using a relevant metric such as mean\n",
    "purpose_loans.groupby('purpose').loan_status.mean().sort_values(ascending=False)\n",
    "#OBSERVATION\n",
    "##Other and Debt consolidation o\n",
    "#Variation between low to high is 5%\n",
    "loandata.groupby('purpose').loan_status.mean().sort_values(ascending=False)\n",
    "## On Raw data \n",
    "##Small business&House more default cases"
   ]
  },
  {
   "cell_type": "code",
   "execution_count": 124,
   "metadata": {},
   "outputs": [
    {
     "data": {
      "text/plain": [
       "grade\n",
       "F    0.313953\n",
       "G    0.299107\n",
       "E    0.255002\n",
       "D    0.207520\n",
       "C    0.158112\n",
       "B    0.109734\n",
       "A    0.053801\n",
       "Name: loan_status, dtype: float64"
      ]
     },
     "execution_count": 124,
     "metadata": {},
     "output_type": "execute_result"
    }
   ],
   "source": [
    "##### Segmented Univariate Analysis#######################################\n",
    "#5.Summarise using a relevant metric such as mean\n",
    "purpose_loans.groupby('grade').loan_status.mean().sort_values(ascending=False)\n",
    "#OBSERVATION\n",
    "##Other and Debt consolidation o\n",
    "#Variation between low to high is 20%\n"
   ]
  },
  {
   "cell_type": "code",
   "execution_count": 125,
   "metadata": {},
   "outputs": [
    {
     "data": {
      "text/plain": [
       "sub_grade\n",
       "G3    0.472222\n",
       "F5    0.465116\n",
       "F4    0.358333\n",
       "G2    0.316667\n",
       "G1    0.287879\n",
       "F1    0.283465\n",
       "F3    0.280576\n",
       "F2    0.280000\n",
       "E4    0.279883\n",
       "E5    0.272727\n",
       "G5    0.263158\n",
       "E2    0.260870\n",
       "E1    0.257377\n",
       "D5    0.231689\n",
       "D4    0.222678\n",
       "D3    0.216216\n",
       "E3    0.211538\n",
       "D2    0.203947\n",
       "C3    0.175497\n",
       "C5    0.167763\n",
       "D1    0.165545\n",
       "C4    0.165119\n",
       "G4    0.162791\n",
       "C1    0.146732\n",
       "C2    0.146650\n",
       "B5    0.128585\n",
       "B4    0.119433\n",
       "B3    0.111891\n",
       "B2    0.094081\n",
       "B1    0.081748\n",
       "A5    0.071753\n",
       "A4    0.055101\n",
       "A3    0.048660\n",
       "A2    0.048658\n",
       "A1    0.020548\n",
       "Name: loan_status, dtype: float64"
      ]
     },
     "execution_count": 125,
     "metadata": {},
     "output_type": "execute_result"
    }
   ],
   "source": [
    "##### Segmented Univariate Analysis#######################################\n",
    "#5.Summarise using a relevant metric such as mean\n",
    "purpose_loans.groupby('sub_grade').loan_status.mean().sort_values(ascending=False)\n",
    "#OBSERVATION\n",
    "\n",
    "#Variation between low to high is 45%  (A1 to G3)"
   ]
  },
  {
   "cell_type": "code",
   "execution_count": 126,
   "metadata": {},
   "outputs": [
    {
     "data": {
      "text/plain": [
       "verification_status\n",
       "Verified           0.156659\n",
       "Source Verified    0.139750\n",
       "Not Verified       0.114520\n",
       "Name: loan_status, dtype: float64"
      ]
     },
     "execution_count": 126,
     "metadata": {},
     "output_type": "execute_result"
    }
   ],
   "source": [
    "##### Segmented Univariate Analysis#######################################\n",
    "#6.Summarise using a relevant metric such as mean\n",
    "purpose_loans.groupby('verification_status').loan_status.mean().sort_values(ascending=False)\n",
    "#OBSERVATION\n",
    "\n",
    "#Variation between verified & not verified cases is 4%"
   ]
  },
  {
   "cell_type": "code",
   "execution_count": 127,
   "metadata": {},
   "outputs": [
    {
     "data": {
      "text/plain": [
       "term\n",
       "60.0    0.240543\n",
       "36.0    0.097955\n",
       "Name: loan_status, dtype: float64"
      ]
     },
     "execution_count": 127,
     "metadata": {},
     "output_type": "execute_result"
    }
   ],
   "source": [
    "##### Segmented Univariate Analysis#######################################\n",
    "#6.Summarise using a relevant metric such as mean\n",
    "purpose_loans.groupby('term').loan_status.mean().sort_values(ascending=False)\n",
    "#OBSERVATION\n",
    "\n",
    "#Term is 15%"
   ]
  },
  {
   "cell_type": "code",
   "execution_count": 128,
   "metadata": {},
   "outputs": [
    {
     "data": {
      "text/plain": [
       "emp_length\n",
       "10.0    0.149154\n",
       "7.0     0.146223\n",
       "6.0     0.137031\n",
       "5.0     0.132959\n",
       "3.0     0.130501\n",
       "1.0     0.130069\n",
       "8.0     0.129721\n",
       "9.0     0.125356\n",
       "2.0     0.124752\n",
       "4.0     0.123110\n",
       "Name: loan_status, dtype: float64"
      ]
     },
     "execution_count": 128,
     "metadata": {},
     "output_type": "execute_result"
    }
   ],
   "source": [
    "##### Segmented Univariate Analysis#######################################\n",
    "#7.Summarise using a relevant metric such as mean\n",
    "purpose_loans.groupby('emp_length').loan_status.mean().sort_values(ascending=False)\n",
    "#OBSERVATION\n",
    "\n",
    "#Variation between junior to higher leves default cases is <2%"
   ]
  },
  {
   "cell_type": "code",
   "execution_count": 129,
   "metadata": {},
   "outputs": [
    {
     "name": "stdout",
     "output_type": "stream",
     "text": [
      "<class 'pandas.core.frame.DataFrame'>\n",
      "Int64Index: 36442 entries, 39623 to 18215\n",
      "Data columns (total 54 columns):\n",
      "loan_amnt                     35376 non-null float64\n",
      "funded_amnt                   35376 non-null float64\n",
      "funded_amnt_inv               35376 non-null float64\n",
      "term                          35376 non-null float64\n",
      "int_rate                      35376 non-null float64\n",
      "installment                   35376 non-null float64\n",
      "grade                         35376 non-null object\n",
      "sub_grade                     35376 non-null object\n",
      "emp_title                     35376 non-null object\n",
      "emp_length                    35376 non-null float64\n",
      "home_ownership                35376 non-null object\n",
      "annual_inc                    35376 non-null float64\n",
      "verification_status           35376 non-null object\n",
      "issue_d                       35376 non-null datetime64[ns]\n",
      "loan_status                   35376 non-null float64\n",
      "pymnt_plan                    35376 non-null object\n",
      "purpose                       35376 non-null object\n",
      "dti                           35376 non-null float64\n",
      "delinq_2yrs                   35376 non-null float64\n",
      "earliest_cr_line              35376 non-null object\n",
      "inq_last_6mths                35376 non-null float64\n",
      "open_acc                      35376 non-null float64\n",
      "pub_rec                       35376 non-null float64\n",
      "revol_bal                     35376 non-null float64\n",
      "revol_util                    35376 non-null object\n",
      "total_acc                     35376 non-null float64\n",
      "initial_list_status           35376 non-null object\n",
      "out_prncp                     35376 non-null float64\n",
      "out_prncp_inv                 35376 non-null float64\n",
      "total_pymnt                   35376 non-null float64\n",
      "total_pymnt_inv               35376 non-null float64\n",
      "total_rec_prncp               35376 non-null float64\n",
      "total_rec_int                 35376 non-null float64\n",
      "total_rec_late_fee            35376 non-null float64\n",
      "recoveries                    35376 non-null float64\n",
      "collection_recovery_fee       35376 non-null float64\n",
      "last_pymnt_d                  35376 non-null object\n",
      "last_pymnt_amnt               35376 non-null float64\n",
      "last_credit_pull_d            35376 non-null object\n",
      "collections_12_mths_ex_med    35374 non-null float64\n",
      "policy_code                   35376 non-null float64\n",
      "application_type              35376 non-null object\n",
      "acc_now_delinq                35376 non-null float64\n",
      "chargeoff_within_12_mths      35374 non-null float64\n",
      "delinq_amnt                   35376 non-null float64\n",
      "pub_rec_bankruptcies          35376 non-null float64\n",
      "tax_liens                     35376 non-null float64\n",
      "month                         35376 non-null float64\n",
      "year                          35376 non-null float64\n",
      "loan_amnt_cat                 36442 non-null object\n",
      "funded_amnt_cat               36442 non-null object\n",
      "annual_inc_cat                36442 non-null object\n",
      "installment_cat               36442 non-null object\n",
      "int_rate_cat                  36442 non-null object\n",
      "dtypes: datetime64[ns](1), float64(35), object(18)\n",
      "memory usage: 16.5+ MB\n"
     ]
    }
   ],
   "source": [
    "###BIVARIATE CORRELATION MATRIX##################\n",
    "defaultcase.info()\n",
    "new_corr_loan = pd.DataFrame([defaultcase.loan_amnt_cat,\n",
    "                              defaultcase.term,\n",
    "                              defaultcase.installment_cat,\n",
    "                              defaultcase.grade,\n",
    "                              defaultcase.emp_length,\n",
    "                              defaultcase.home_ownership,\n",
    "                              defaultcase.annual_inc_cat,\n",
    "                              defaultcase.purpose,\n",
    "                              defaultcase.verification_status,\n",
    "                              defaultcase.int_rate_cat,\n",
    "                              defaultcase.sub_grade,\n",
    "                              defaultcase.year\n",
    "                             ]).transpose()\n"
   ]
  },
  {
   "cell_type": "code",
   "execution_count": 130,
   "metadata": {},
   "outputs": [
    {
     "name": "stdout",
     "output_type": "stream",
     "text": [
      "<class 'pandas.core.frame.DataFrame'>\n",
      "Int64Index: 36442 entries, 39623 to 18215\n",
      "Data columns (total 45 columns):\n",
      "loan_amnt                  35376 non-null float64\n",
      "funded_amnt                35376 non-null float64\n",
      "funded_amnt_inv            35376 non-null float64\n",
      "term                       35376 non-null float64\n",
      "int_rate                   35376 non-null float64\n",
      "installment                35376 non-null float64\n",
      "grade                      35376 non-null object\n",
      "sub_grade                  35376 non-null object\n",
      "emp_title                  35376 non-null object\n",
      "emp_length                 35376 non-null float64\n",
      "home_ownership             35376 non-null object\n",
      "annual_inc                 35376 non-null float64\n",
      "verification_status        35376 non-null object\n",
      "issue_d                    35376 non-null datetime64[ns]\n",
      "loan_status                35376 non-null float64\n",
      "pymnt_plan                 35376 non-null object\n",
      "purpose                    35376 non-null object\n",
      "dti                        35376 non-null float64\n",
      "delinq_2yrs                35376 non-null float64\n",
      "earliest_cr_line           35376 non-null object\n",
      "inq_last_6mths             35376 non-null float64\n",
      "open_acc                   35376 non-null float64\n",
      "pub_rec                    35376 non-null float64\n",
      "revol_bal                  35376 non-null float64\n",
      "revol_util                 35376 non-null object\n",
      "total_acc                  35376 non-null float64\n",
      "initial_list_status        35376 non-null object\n",
      "out_prncp                  35376 non-null float64\n",
      "out_prncp_inv              35376 non-null float64\n",
      "total_pymnt                35376 non-null float64\n",
      "total_pymnt_inv            35376 non-null float64\n",
      "total_rec_prncp            35376 non-null float64\n",
      "total_rec_int              35376 non-null float64\n",
      "total_rec_late_fee         35376 non-null float64\n",
      "recoveries                 35376 non-null float64\n",
      "collection_recovery_fee    35376 non-null float64\n",
      "last_pymnt_d               35376 non-null object\n",
      "last_pymnt_amnt            35376 non-null float64\n",
      "month                      35376 non-null float64\n",
      "year                       35376 non-null float64\n",
      "loan_amnt_cat              36442 non-null object\n",
      "funded_amnt_cat            36442 non-null object\n",
      "annual_inc_cat             36442 non-null object\n",
      "installment_cat            36442 non-null object\n",
      "int_rate_cat               36442 non-null object\n",
      "dtypes: datetime64[ns](1), float64(28), object(16)\n",
      "memory usage: 14.0+ MB\n"
     ]
    }
   ],
   "source": [
    "Corrloan = defaultcase.drop(['delinq_amnt', 'pub_rec_bankruptcies', 'tax_liens', \n",
    "                             'chargeoff_within_12_mths','acc_now_delinq','application_type'\n",
    "                            ,'policy_code','collections_12_mths_ex_med','last_credit_pull_d'\n",
    "                            \n",
    "                            ], axis=1)\n",
    "Corrloan.info()\n",
    "\n",
    "\n"
   ]
  },
  {
   "cell_type": "code",
   "execution_count": 131,
   "metadata": {},
   "outputs": [],
   "source": [
    "Corrloan =  Corrloan.drop(['funded_amnt_inv','pymnt_plan','dti','delinq_2yrs','earliest_cr_line'\n",
    "                            ,'inq_last_6mths','open_acc','pub_rec','revol_bal','revol_util'\n",
    "                           ,'total_acc','initial_list_status','out_prncp','out_prncp_inv'\n",
    "                           ,'total_pymnt','total_pymnt_inv','total_rec_prncp','total_rec_int'\n",
    "                           ,'total_rec_late_fee','collection_recovery_fee','last_pymnt_d','last_pymnt_amnt'\n",
    "                            ], axis=1)\n"
   ]
  },
  {
   "cell_type": "code",
   "execution_count": 132,
   "metadata": {},
   "outputs": [
    {
     "data": {
      "text/plain": [
       "<matplotlib.axes._subplots.AxesSubplot at 0x16c39b44668>"
      ]
     },
     "execution_count": 132,
     "metadata": {},
     "output_type": "execute_result"
    },
    {
     "data": {
      "image/png": "[encoded data removed]",
      "text/plain": [
       "<Figure size 720x576 with 2 Axes>"
      ]
     },
     "metadata": {
      "needs_background": "light"
     },
     "output_type": "display_data"
    }
   ],
   "source": [
    "f, ax = plt.subplots(figsize=(10, 8))\n",
    "corr = Corrloan.corr()\n",
    "sns.heatmap(corr,\n",
    "            xticklabels=corr.columns.values,\n",
    "            yticklabels=corr.columns.values)"
   ]
  },
  {
   "cell_type": "code",
   "execution_count": null,
   "metadata": {},
   "outputs": [],
   "source": []
  }
 ],
 "metadata": {
  "kernelspec": {
   "display_name": "Python 3",
   "language": "python",
   "name": "python3"
  },
  "language_info": {
   "codemirror_mode": {
    "name": "ipython",
    "version": 3
   },
   "file_extension": ".py",
   "mimetype": "text/x-python",
   "name": "python",
   "nbconvert_exporter": "python",
   "pygments_lexer": "ipython3",
   "version": "3.7.3"
  }
 },
 "nbformat": 4,
 "nbformat_minor": 2
}
