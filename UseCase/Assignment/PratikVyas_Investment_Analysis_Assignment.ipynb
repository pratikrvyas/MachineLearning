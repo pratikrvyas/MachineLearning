{
 "cells": [
  {
   "cell_type": "markdown",
   "metadata": {},
   "source": [
    "# Name : Pratik Vyas\n",
    "# Investment Analysis Assignment"
   ]
  },
  {
   "cell_type": "markdown",
   "metadata": {},
   "source": [
    "### Load data ( companies , round2, sectormapping ) in dataframe"
   ]
  },
  {
   "cell_type": "code",
   "execution_count": 1306,
   "metadata": {},
   "outputs": [],
   "source": [
    "import pandas as pd\n",
    "\n",
    "company_file_url='https://cdn.upgrad.com/UpGrad/temp/d934844e-5182-4b58-b896-4ba2a499aa57/companies.txt'\n",
    "round2_file_url='https://cdn.upgrad.com/UpGrad/temp/4c3b5ed0-e5dc-4838-89a2-173d8707d857/rounds2.csv'\n",
    "sectorMapping_file_url='https://cdn.upgrad.com/UpGrad/temp/231dc91c-0642-470d-a362-29ddcd7142ce/mapping.csv'\n",
    "\n",
    "companies = pd.read_csv(company_file_url ,sep=\"\\t\",encoding='latin-1')\n",
    "round2 = pd.read_csv(round2_file_url,encoding='latin-1')\n",
    "sectorMapping = pd.read_csv(sectorMapping_file_url,encoding='latin-1')"
   ]
  },
  {
   "cell_type": "code",
   "execution_count": 1307,
   "metadata": {},
   "outputs": [
    {
     "data": {
      "text/html": [
       "<div>\n",
       "<style>\n",
       "    .dataframe thead tr:only-child th {\n",
       "        text-align: right;\n",
       "    }\n",
       "\n",
       "    .dataframe thead th {\n",
       "        text-align: left;\n",
       "    }\n",
       "\n",
       "    .dataframe tbody tr th {\n",
       "        vertical-align: top;\n",
       "    }\n",
       "</style>\n",
       "<table border=\"1\" class=\"dataframe\">\n",
       "  <thead>\n",
       "    <tr style=\"text-align: right;\">\n",
       "      <th></th>\n",
       "      <th>permalink</th>\n",
       "      <th>name</th>\n",
       "      <th>homepage_url</th>\n",
       "      <th>category_list</th>\n",
       "      <th>status</th>\n",
       "      <th>country_code</th>\n",
       "      <th>state_code</th>\n",
       "      <th>region</th>\n",
       "      <th>city</th>\n",
       "      <th>founded_at</th>\n",
       "    </tr>\n",
       "  </thead>\n",
       "  <tbody>\n",
       "    <tr>\n",
       "      <th>0</th>\n",
       "      <td>/organization/-fame</td>\n",
       "      <td>#fame</td>\n",
       "      <td>http://livfame.com</td>\n",
       "      <td>Media</td>\n",
       "      <td>operating</td>\n",
       "      <td>IND</td>\n",
       "      <td>16</td>\n",
       "      <td>Mumbai</td>\n",
       "      <td>Mumbai</td>\n",
       "      <td>NaN</td>\n",
       "    </tr>\n",
       "    <tr>\n",
       "      <th>1</th>\n",
       "      <td>/organization/-qounter</td>\n",
       "      <td>:Qounter</td>\n",
       "      <td>http://www.qounter.com</td>\n",
       "      <td>Application Platforms|Real Time|Social Network...</td>\n",
       "      <td>operating</td>\n",
       "      <td>USA</td>\n",
       "      <td>DE</td>\n",
       "      <td>DE - Other</td>\n",
       "      <td>Delaware City</td>\n",
       "      <td>04-09-2014</td>\n",
       "    </tr>\n",
       "    <tr>\n",
       "      <th>2</th>\n",
       "      <td>/organization/-the-one-of-them-inc-</td>\n",
       "      <td>(THE) ONE of THEM,Inc.</td>\n",
       "      <td>http://oneofthem.jp</td>\n",
       "      <td>Apps|Games|Mobile</td>\n",
       "      <td>operating</td>\n",
       "      <td>NaN</td>\n",
       "      <td>NaN</td>\n",
       "      <td>NaN</td>\n",
       "      <td>NaN</td>\n",
       "      <td>NaN</td>\n",
       "    </tr>\n",
       "    <tr>\n",
       "      <th>3</th>\n",
       "      <td>/organization/0-6-com</td>\n",
       "      <td>0-6.com</td>\n",
       "      <td>http://www.0-6.com</td>\n",
       "      <td>Curated Web</td>\n",
       "      <td>operating</td>\n",
       "      <td>CHN</td>\n",
       "      <td>22</td>\n",
       "      <td>Beijing</td>\n",
       "      <td>Beijing</td>\n",
       "      <td>01-01-2007</td>\n",
       "    </tr>\n",
       "    <tr>\n",
       "      <th>4</th>\n",
       "      <td>/organization/004-technologies</td>\n",
       "      <td>004 Technologies</td>\n",
       "      <td>http://004gmbh.de/en/004-interact</td>\n",
       "      <td>Software</td>\n",
       "      <td>operating</td>\n",
       "      <td>USA</td>\n",
       "      <td>IL</td>\n",
       "      <td>Springfield, Illinois</td>\n",
       "      <td>Champaign</td>\n",
       "      <td>01-01-2010</td>\n",
       "    </tr>\n",
       "  </tbody>\n",
       "</table>\n",
       "</div>"
      ],
      "text/plain": [
       "                             permalink                    name  \\\n",
       "0                  /organization/-fame                   #fame   \n",
       "1               /organization/-qounter                :Qounter   \n",
       "2  /organization/-the-one-of-them-inc-  (THE) ONE of THEM,Inc.   \n",
       "3                /organization/0-6-com                 0-6.com   \n",
       "4       /organization/004-technologies        004 Technologies   \n",
       "\n",
       "                        homepage_url  \\\n",
       "0                 http://livfame.com   \n",
       "1             http://www.qounter.com   \n",
       "2                http://oneofthem.jp   \n",
       "3                 http://www.0-6.com   \n",
       "4  http://004gmbh.de/en/004-interact   \n",
       "\n",
       "                                       category_list     status country_code  \\\n",
       "0                                              Media  operating          IND   \n",
       "1  Application Platforms|Real Time|Social Network...  operating          USA   \n",
       "2                                  Apps|Games|Mobile  operating          NaN   \n",
       "3                                        Curated Web  operating          CHN   \n",
       "4                                           Software  operating          USA   \n",
       "\n",
       "  state_code                 region           city  founded_at  \n",
       "0         16                 Mumbai         Mumbai         NaN  \n",
       "1         DE             DE - Other  Delaware City  04-09-2014  \n",
       "2        NaN                    NaN            NaN         NaN  \n",
       "3         22                Beijing        Beijing  01-01-2007  \n",
       "4         IL  Springfield, Illinois      Champaign  01-01-2010  "
      ]
     },
     "execution_count": 1307,
     "metadata": {},
     "output_type": "execute_result"
    }
   ],
   "source": [
    "companies['permalink'] = companies['permalink'].str.lower() \n",
    "companies.head()"
   ]
  },
  {
   "cell_type": "code",
   "execution_count": 1308,
   "metadata": {},
   "outputs": [
    {
     "data": {
      "text/html": [
       "<div>\n",
       "<style>\n",
       "    .dataframe thead tr:only-child th {\n",
       "        text-align: right;\n",
       "    }\n",
       "\n",
       "    .dataframe thead th {\n",
       "        text-align: left;\n",
       "    }\n",
       "\n",
       "    .dataframe tbody tr th {\n",
       "        vertical-align: top;\n",
       "    }\n",
       "</style>\n",
       "<table border=\"1\" class=\"dataframe\">\n",
       "  <thead>\n",
       "    <tr style=\"text-align: right;\">\n",
       "      <th></th>\n",
       "      <th>company_permalink</th>\n",
       "      <th>funding_round_permalink</th>\n",
       "      <th>funding_round_type</th>\n",
       "      <th>funding_round_code</th>\n",
       "      <th>funded_at</th>\n",
       "      <th>raised_amount_usd</th>\n",
       "    </tr>\n",
       "  </thead>\n",
       "  <tbody>\n",
       "    <tr>\n",
       "      <th>0</th>\n",
       "      <td>/organization/-fame</td>\n",
       "      <td>/funding-round/9a01d05418af9f794eebff7ace91f638</td>\n",
       "      <td>venture</td>\n",
       "      <td>B</td>\n",
       "      <td>05-01-2015</td>\n",
       "      <td>10000000.0</td>\n",
       "    </tr>\n",
       "    <tr>\n",
       "      <th>1</th>\n",
       "      <td>/organization/-qounter</td>\n",
       "      <td>/funding-round/22dacff496eb7acb2b901dec1dfe5633</td>\n",
       "      <td>venture</td>\n",
       "      <td>A</td>\n",
       "      <td>14-10-2014</td>\n",
       "      <td>NaN</td>\n",
       "    </tr>\n",
       "    <tr>\n",
       "      <th>2</th>\n",
       "      <td>/organization/-qounter</td>\n",
       "      <td>/funding-round/b44fbb94153f6cdef13083530bb48030</td>\n",
       "      <td>seed</td>\n",
       "      <td>NaN</td>\n",
       "      <td>01-03-2014</td>\n",
       "      <td>700000.0</td>\n",
       "    </tr>\n",
       "    <tr>\n",
       "      <th>3</th>\n",
       "      <td>/organization/-the-one-of-them-inc-</td>\n",
       "      <td>/funding-round/650b8f704416801069bb178a1418776b</td>\n",
       "      <td>venture</td>\n",
       "      <td>B</td>\n",
       "      <td>30-01-2014</td>\n",
       "      <td>3406878.0</td>\n",
       "    </tr>\n",
       "    <tr>\n",
       "      <th>4</th>\n",
       "      <td>/organization/0-6-com</td>\n",
       "      <td>/funding-round/5727accaeaa57461bd22a9bdd945382d</td>\n",
       "      <td>venture</td>\n",
       "      <td>A</td>\n",
       "      <td>19-03-2008</td>\n",
       "      <td>2000000.0</td>\n",
       "    </tr>\n",
       "  </tbody>\n",
       "</table>\n",
       "</div>"
      ],
      "text/plain": [
       "                     company_permalink  \\\n",
       "0                  /organization/-fame   \n",
       "1               /organization/-qounter   \n",
       "2               /organization/-qounter   \n",
       "3  /organization/-the-one-of-them-inc-   \n",
       "4                /organization/0-6-com   \n",
       "\n",
       "                           funding_round_permalink funding_round_type  \\\n",
       "0  /funding-round/9a01d05418af9f794eebff7ace91f638            venture   \n",
       "1  /funding-round/22dacff496eb7acb2b901dec1dfe5633            venture   \n",
       "2  /funding-round/b44fbb94153f6cdef13083530bb48030               seed   \n",
       "3  /funding-round/650b8f704416801069bb178a1418776b            venture   \n",
       "4  /funding-round/5727accaeaa57461bd22a9bdd945382d            venture   \n",
       "\n",
       "  funding_round_code   funded_at  raised_amount_usd  \n",
       "0                  B  05-01-2015         10000000.0  \n",
       "1                  A  14-10-2014                NaN  \n",
       "2                NaN  01-03-2014           700000.0  \n",
       "3                  B  30-01-2014          3406878.0  \n",
       "4                  A  19-03-2008          2000000.0  "
      ]
     },
     "execution_count": 1308,
     "metadata": {},
     "output_type": "execute_result"
    }
   ],
   "source": [
    "round2['company_permalink'] = round2['company_permalink'].str.lower() \n",
    "round2.head()"
   ]
  },
  {
   "cell_type": "markdown",
   "metadata": {},
   "source": [
    "## Checkpoint 1: Data Cleaning  - Table 1.1 - Understand the Data Set "
   ]
  },
  {
   "cell_type": "markdown",
   "metadata": {},
   "source": [
    "__How many unique companies are present in rounds2?__"
   ]
  },
  {
   "cell_type": "code",
   "execution_count": 1309,
   "metadata": {},
   "outputs": [
    {
     "data": {
      "text/plain": [
       "66370"
      ]
     },
     "execution_count": 1309,
     "metadata": {},
     "output_type": "execute_result"
    }
   ],
   "source": [
    "round2.company_permalink.nunique()"
   ]
  },
  {
   "cell_type": "markdown",
   "metadata": {},
   "source": [
    "__How many unique companies are present in companies?__"
   ]
  },
  {
   "cell_type": "code",
   "execution_count": 1310,
   "metadata": {},
   "outputs": [
    {
     "data": {
      "text/plain": [
       "66368"
      ]
     },
     "execution_count": 1310,
     "metadata": {},
     "output_type": "execute_result"
    }
   ],
   "source": [
    "companies.permalink.nunique()"
   ]
  },
  {
   "cell_type": "markdown",
   "metadata": {},
   "source": [
    "__Are there any companies in the rounds2 file which are not present in companies? Answer yes or no: Y/N__"
   ]
  },
  {
   "cell_type": "code",
   "execution_count": 1311,
   "metadata": {},
   "outputs": [
    {
     "data": {
      "text/plain": [
       "5"
      ]
     },
     "execution_count": 1311,
     "metadata": {},
     "output_type": "execute_result"
    }
   ],
   "source": [
    "companies[~companies.permalink.isin(round2['company_permalink'])]['permalink'].count()"
   ]
  },
  {
   "cell_type": "markdown",
   "metadata": {},
   "source": [
    "__Merge the two data frames ( companies and rounds2 )__"
   ]
  },
  {
   "cell_type": "code",
   "execution_count": 1312,
   "metadata": {},
   "outputs": [],
   "source": [
    "master_frame=pd.merge(companies,round2,how=\"inner\", left_on=\"permalink\", right_on=\"company_permalink\" )"
   ]
  },
  {
   "cell_type": "code",
   "execution_count": 1359,
   "metadata": {},
   "outputs": [
    {
     "data": {
      "text/plain": [
       "permalink                  114942\n",
       "name                       114941\n",
       "homepage_url               108810\n",
       "category_list              111535\n",
       "status                     114942\n",
       "country_code               106271\n",
       "state_code                 104003\n",
       "region                     104782\n",
       "city                       104785\n",
       "founded_at                  94422\n",
       "company_permalink          114942\n",
       "funding_round_permalink    114942\n",
       "funding_round_type         114942\n",
       "funding_round_code          31139\n",
       "funded_at                  114942\n",
       "raised_amount_usd          114942\n",
       "primary_category           111535\n",
       "dtype: int64"
      ]
     },
     "execution_count": 1359,
     "metadata": {},
     "output_type": "execute_result"
    }
   ],
   "source": [
    "master_frame.count()"
   ]
  },
  {
   "cell_type": "markdown",
   "metadata": {},
   "source": [
    "__missing value check for raised_amount_usd__"
   ]
  },
  {
   "cell_type": "code",
   "execution_count": 1313,
   "metadata": {},
   "outputs": [
    {
     "name": "stdout",
     "output_type": "stream",
     "text": [
      "permalink                   0.000000\n",
      "name                        0.000870\n",
      "homepage_url                5.334865\n",
      "category_list               2.964104\n",
      "status                      0.000000\n",
      "country_code                7.543805\n",
      "state_code                  9.516974\n",
      "region                      8.839241\n",
      "city                        8.836631\n",
      "founded_at                 17.852482\n",
      "company_permalink           0.000000\n",
      "funding_round_permalink     0.000000\n",
      "funding_round_type          0.000000\n",
      "funding_round_code         72.908945\n",
      "funded_at                   0.000000\n",
      "raised_amount_usd          17.386160\n",
      "dtype: float64\n",
      "mean :  10426962.020577518\n",
      "mode :  0    1000000.0\n",
      "dtype: float64\n",
      "median :  1680521.0\n"
     ]
    }
   ],
   "source": [
    " # missing value\n",
    "print(master_frame.isnull().mean() * 100)\n",
    "\n",
    "#check raised_amount_usd statistics\n",
    "print( \"mean : \" , master_frame.raised_amount_usd.mean())\n",
    "print( \"mode : \" , master_frame.raised_amount_usd.mode())\n",
    "print( \"median : \" , master_frame.raised_amount_usd.median())\n"
   ]
  },
  {
   "cell_type": "markdown",
   "metadata": {},
   "source": [
    "__fill raised_amount_usd NaN value with mean__\n",
    "\n",
    "__filter master_frame with raised_amount_usd within 5M to 15M__"
   ]
  },
  {
   "cell_type": "code",
   "execution_count": 1314,
   "metadata": {},
   "outputs": [],
   "source": [
    "#fill raised_amount_usd NaN with mean\n",
    "master_frame[\"raised_amount_usd\"] = master_frame[\"raised_amount_usd\"].fillna((master_frame[\"raised_amount_usd\"].mean()))\n",
    "\n",
    "# filter raised_amount_usd between 5M to 15M\n",
    "master_frame=master_frame[(master_frame[\"raised_amount_usd\"]) >= 5000000 & (master_frame[\"raised_amount_usd\"] <= 15000000)]\n"
   ]
  },
  {
   "cell_type": "code",
   "execution_count": 1315,
   "metadata": {},
   "outputs": [
    {
     "data": {
      "text/html": [
       "<div>\n",
       "<style>\n",
       "    .dataframe thead tr:only-child th {\n",
       "        text-align: right;\n",
       "    }\n",
       "\n",
       "    .dataframe thead th {\n",
       "        text-align: left;\n",
       "    }\n",
       "\n",
       "    .dataframe tbody tr th {\n",
       "        vertical-align: top;\n",
       "    }\n",
       "</style>\n",
       "<table border=\"1\" class=\"dataframe\">\n",
       "  <thead>\n",
       "    <tr style=\"text-align: right;\">\n",
       "      <th></th>\n",
       "      <th>permalink</th>\n",
       "      <th>name</th>\n",
       "      <th>homepage_url</th>\n",
       "      <th>category_list</th>\n",
       "      <th>status</th>\n",
       "      <th>country_code</th>\n",
       "      <th>state_code</th>\n",
       "      <th>region</th>\n",
       "      <th>city</th>\n",
       "      <th>founded_at</th>\n",
       "      <th>company_permalink</th>\n",
       "      <th>funding_round_permalink</th>\n",
       "      <th>funding_round_type</th>\n",
       "      <th>funding_round_code</th>\n",
       "      <th>funded_at</th>\n",
       "      <th>raised_amount_usd</th>\n",
       "    </tr>\n",
       "  </thead>\n",
       "  <tbody>\n",
       "    <tr>\n",
       "      <th>0</th>\n",
       "      <td>/organization/-fame</td>\n",
       "      <td>#fame</td>\n",
       "      <td>http://livfame.com</td>\n",
       "      <td>Media</td>\n",
       "      <td>operating</td>\n",
       "      <td>IND</td>\n",
       "      <td>16</td>\n",
       "      <td>Mumbai</td>\n",
       "      <td>Mumbai</td>\n",
       "      <td>NaN</td>\n",
       "      <td>/organization/-fame</td>\n",
       "      <td>/funding-round/9a01d05418af9f794eebff7ace91f638</td>\n",
       "      <td>venture</td>\n",
       "      <td>B</td>\n",
       "      <td>05-01-2015</td>\n",
       "      <td>1.000000e+07</td>\n",
       "    </tr>\n",
       "    <tr>\n",
       "      <th>1</th>\n",
       "      <td>/organization/-qounter</td>\n",
       "      <td>:Qounter</td>\n",
       "      <td>http://www.qounter.com</td>\n",
       "      <td>Application Platforms|Real Time|Social Network...</td>\n",
       "      <td>operating</td>\n",
       "      <td>USA</td>\n",
       "      <td>DE</td>\n",
       "      <td>DE - Other</td>\n",
       "      <td>Delaware City</td>\n",
       "      <td>04-09-2014</td>\n",
       "      <td>/organization/-qounter</td>\n",
       "      <td>/funding-round/22dacff496eb7acb2b901dec1dfe5633</td>\n",
       "      <td>venture</td>\n",
       "      <td>A</td>\n",
       "      <td>14-10-2014</td>\n",
       "      <td>1.042696e+07</td>\n",
       "    </tr>\n",
       "    <tr>\n",
       "      <th>2</th>\n",
       "      <td>/organization/-qounter</td>\n",
       "      <td>:Qounter</td>\n",
       "      <td>http://www.qounter.com</td>\n",
       "      <td>Application Platforms|Real Time|Social Network...</td>\n",
       "      <td>operating</td>\n",
       "      <td>USA</td>\n",
       "      <td>DE</td>\n",
       "      <td>DE - Other</td>\n",
       "      <td>Delaware City</td>\n",
       "      <td>04-09-2014</td>\n",
       "      <td>/organization/-qounter</td>\n",
       "      <td>/funding-round/b44fbb94153f6cdef13083530bb48030</td>\n",
       "      <td>seed</td>\n",
       "      <td>NaN</td>\n",
       "      <td>01-03-2014</td>\n",
       "      <td>7.000000e+05</td>\n",
       "    </tr>\n",
       "    <tr>\n",
       "      <th>3</th>\n",
       "      <td>/organization/-the-one-of-them-inc-</td>\n",
       "      <td>(THE) ONE of THEM,Inc.</td>\n",
       "      <td>http://oneofthem.jp</td>\n",
       "      <td>Apps|Games|Mobile</td>\n",
       "      <td>operating</td>\n",
       "      <td>NaN</td>\n",
       "      <td>NaN</td>\n",
       "      <td>NaN</td>\n",
       "      <td>NaN</td>\n",
       "      <td>NaN</td>\n",
       "      <td>/organization/-the-one-of-them-inc-</td>\n",
       "      <td>/funding-round/650b8f704416801069bb178a1418776b</td>\n",
       "      <td>venture</td>\n",
       "      <td>B</td>\n",
       "      <td>30-01-2014</td>\n",
       "      <td>3.406878e+06</td>\n",
       "    </tr>\n",
       "    <tr>\n",
       "      <th>4</th>\n",
       "      <td>/organization/0-6-com</td>\n",
       "      <td>0-6.com</td>\n",
       "      <td>http://www.0-6.com</td>\n",
       "      <td>Curated Web</td>\n",
       "      <td>operating</td>\n",
       "      <td>CHN</td>\n",
       "      <td>22</td>\n",
       "      <td>Beijing</td>\n",
       "      <td>Beijing</td>\n",
       "      <td>01-01-2007</td>\n",
       "      <td>/organization/0-6-com</td>\n",
       "      <td>/funding-round/5727accaeaa57461bd22a9bdd945382d</td>\n",
       "      <td>venture</td>\n",
       "      <td>A</td>\n",
       "      <td>19-03-2008</td>\n",
       "      <td>2.000000e+06</td>\n",
       "    </tr>\n",
       "  </tbody>\n",
       "</table>\n",
       "</div>"
      ],
      "text/plain": [
       "                             permalink                    name  \\\n",
       "0                  /organization/-fame                   #fame   \n",
       "1               /organization/-qounter                :Qounter   \n",
       "2               /organization/-qounter                :Qounter   \n",
       "3  /organization/-the-one-of-them-inc-  (THE) ONE of THEM,Inc.   \n",
       "4                /organization/0-6-com                 0-6.com   \n",
       "\n",
       "             homepage_url                                      category_list  \\\n",
       "0      http://livfame.com                                              Media   \n",
       "1  http://www.qounter.com  Application Platforms|Real Time|Social Network...   \n",
       "2  http://www.qounter.com  Application Platforms|Real Time|Social Network...   \n",
       "3     http://oneofthem.jp                                  Apps|Games|Mobile   \n",
       "4      http://www.0-6.com                                        Curated Web   \n",
       "\n",
       "      status country_code state_code      region           city  founded_at  \\\n",
       "0  operating          IND         16      Mumbai         Mumbai         NaN   \n",
       "1  operating          USA         DE  DE - Other  Delaware City  04-09-2014   \n",
       "2  operating          USA         DE  DE - Other  Delaware City  04-09-2014   \n",
       "3  operating          NaN        NaN         NaN            NaN         NaN   \n",
       "4  operating          CHN         22     Beijing        Beijing  01-01-2007   \n",
       "\n",
       "                     company_permalink  \\\n",
       "0                  /organization/-fame   \n",
       "1               /organization/-qounter   \n",
       "2               /organization/-qounter   \n",
       "3  /organization/-the-one-of-them-inc-   \n",
       "4                /organization/0-6-com   \n",
       "\n",
       "                           funding_round_permalink funding_round_type  \\\n",
       "0  /funding-round/9a01d05418af9f794eebff7ace91f638            venture   \n",
       "1  /funding-round/22dacff496eb7acb2b901dec1dfe5633            venture   \n",
       "2  /funding-round/b44fbb94153f6cdef13083530bb48030               seed   \n",
       "3  /funding-round/650b8f704416801069bb178a1418776b            venture   \n",
       "4  /funding-round/5727accaeaa57461bd22a9bdd945382d            venture   \n",
       "\n",
       "  funding_round_code   funded_at  raised_amount_usd  \n",
       "0                  B  05-01-2015       1.000000e+07  \n",
       "1                  A  14-10-2014       1.042696e+07  \n",
       "2                NaN  01-03-2014       7.000000e+05  \n",
       "3                  B  30-01-2014       3.406878e+06  \n",
       "4                  A  19-03-2008       2.000000e+06  "
      ]
     },
     "execution_count": 1315,
     "metadata": {},
     "output_type": "execute_result"
    }
   ],
   "source": [
    "master_frame.head()"
   ]
  },
  {
   "cell_type": "markdown",
   "metadata": {},
   "source": [
    "## Checkpoint 2: Funding Type Analysis -  Table 2.1 "
   ]
  },
  {
   "cell_type": "markdown",
   "metadata": {},
   "source": [
    "__Average funding amount of all type__"
   ]
  },
  {
   "cell_type": "code",
   "execution_count": 1316,
   "metadata": {},
   "outputs": [
    {
     "data": {
      "text/plain": [
       "funding_round_type\n",
       "angel                    2.875964e+06\n",
       "convertible_note         3.280738e+06\n",
       "debt_financing           1.683913e+07\n",
       "equity_crowdfunding      6.698625e+06\n",
       "grant                    4.512215e+06\n",
       "non_equity_assistance    6.598949e+06\n",
       "post_ipo_debt            1.687046e+08\n",
       "post_ipo_equity          8.105780e+07\n",
       "private_equity           6.370435e+07\n",
       "product_crowdfunding     1.893697e+06\n",
       "secondary_market         3.228675e+07\n",
       "seed                     2.919625e+06\n",
       "undisclosed              1.327482e+07\n",
       "venture                  1.162352e+07\n",
       "Name: raised_amount_usd, dtype: float64"
      ]
     },
     "execution_count": 1316,
     "metadata": {},
     "output_type": "execute_result"
    }
   ],
   "source": [
    "master_frame.groupby(['funding_round_type'])['raised_amount_usd'].mean()"
   ]
  },
  {
   "cell_type": "markdown",
   "metadata": {},
   "source": [
    "__Calculate the most representative value of the investment amount for each of the four funding types (venture, angel, seed, and private equity)__"
   ]
  },
  {
   "cell_type": "code",
   "execution_count": 1317,
   "metadata": {},
   "outputs": [
    {
     "data": {
      "text/plain": [
       "funding_round_type\n",
       "angel             1.752613e+10\n",
       "private_equity    1.455644e+11\n",
       "seed              8.910111e+10\n",
       "venture           6.450242e+11\n",
       "Name: raised_amount_usd, dtype: float64"
      ]
     },
     "execution_count": 1317,
     "metadata": {},
     "output_type": "execute_result"
    }
   ],
   "source": [
    "ventures=['venture','angel','seed','private_equity']\n",
    "filtered_ventures=master_frame.funding_round_type.isin(ventures)\n",
    "\n",
    "master_frame[filtered_ventures].groupby(['funding_round_type'])['raised_amount_usd'].sum()"
   ]
  },
  {
   "cell_type": "markdown",
   "metadata": {},
   "source": [
    "## Checkpoint 3: Country Analysis"
   ]
  },
  {
   "cell_type": "markdown",
   "metadata": {},
   "source": [
    "__top nine countries which have received the highest total funding (across ALL sectors for the chosen investment type)__"
   ]
  },
  {
   "cell_type": "code",
   "execution_count": 1318,
   "metadata": {},
   "outputs": [],
   "source": [
    "top9=pd.DataFrame(master_frame.groupby(['country_code'] )['raised_amount_usd'].sum().nlargest(9)).reset_index()"
   ]
  },
  {
   "cell_type": "markdown",
   "metadata": {},
   "source": [
    "__For the chosen investment type, make a data frame named top9 with the top nine countries (based on the total investment amount each country has received)__"
   ]
  },
  {
   "cell_type": "code",
   "execution_count": 1319,
   "metadata": {},
   "outputs": [
    {
     "data": {
      "text/html": [
       "<div>\n",
       "<style>\n",
       "    .dataframe thead tr:only-child th {\n",
       "        text-align: right;\n",
       "    }\n",
       "\n",
       "    .dataframe thead th {\n",
       "        text-align: left;\n",
       "    }\n",
       "\n",
       "    .dataframe tbody tr th {\n",
       "        vertical-align: top;\n",
       "    }\n",
       "</style>\n",
       "<table border=\"1\" class=\"dataframe\">\n",
       "  <thead>\n",
       "    <tr style=\"text-align: right;\">\n",
       "      <th></th>\n",
       "      <th>country_code</th>\n",
       "      <th>raised_amount_usd</th>\n",
       "    </tr>\n",
       "  </thead>\n",
       "  <tbody>\n",
       "    <tr>\n",
       "      <th>0</th>\n",
       "      <td>USA</td>\n",
       "      <td>7.764523e+11</td>\n",
       "    </tr>\n",
       "    <tr>\n",
       "      <th>1</th>\n",
       "      <td>CHN</td>\n",
       "      <td>8.369062e+10</td>\n",
       "    </tr>\n",
       "    <tr>\n",
       "      <th>2</th>\n",
       "      <td>GBR</td>\n",
       "      <td>4.264138e+10</td>\n",
       "    </tr>\n",
       "    <tr>\n",
       "      <th>3</th>\n",
       "      <td>IND</td>\n",
       "      <td>3.377568e+10</td>\n",
       "    </tr>\n",
       "    <tr>\n",
       "      <th>4</th>\n",
       "      <td>CAN</td>\n",
       "      <td>2.362773e+10</td>\n",
       "    </tr>\n",
       "    <tr>\n",
       "      <th>5</th>\n",
       "      <td>DEU</td>\n",
       "      <td>1.741048e+10</td>\n",
       "    </tr>\n",
       "    <tr>\n",
       "      <th>6</th>\n",
       "      <td>ISR</td>\n",
       "      <td>1.249788e+10</td>\n",
       "    </tr>\n",
       "    <tr>\n",
       "      <th>7</th>\n",
       "      <td>RUS</td>\n",
       "      <td>1.215498e+10</td>\n",
       "    </tr>\n",
       "    <tr>\n",
       "      <th>8</th>\n",
       "      <td>FRA</td>\n",
       "      <td>1.113474e+10</td>\n",
       "    </tr>\n",
       "  </tbody>\n",
       "</table>\n",
       "</div>"
      ],
      "text/plain": [
       "  country_code  raised_amount_usd\n",
       "0          USA       7.764523e+11\n",
       "1          CHN       8.369062e+10\n",
       "2          GBR       4.264138e+10\n",
       "3          IND       3.377568e+10\n",
       "4          CAN       2.362773e+10\n",
       "5          DEU       1.741048e+10\n",
       "6          ISR       1.249788e+10\n",
       "7          RUS       1.215498e+10\n",
       "8          FRA       1.113474e+10"
      ]
     },
     "execution_count": 1319,
     "metadata": {},
     "output_type": "execute_result"
    }
   ],
   "source": [
    "top9.sort_values(by='raised_amount_usd', ascending=False)"
   ]
  },
  {
   "cell_type": "markdown",
   "metadata": {},
   "source": [
    "__Identify the top three English-speaking countries in the data frame top9.__\n",
    "\n",
    "__Step 1 :__  First load english speaking countries from website "
   ]
  },
  {
   "cell_type": "code",
   "execution_count": 1320,
   "metadata": {},
   "outputs": [
    {
     "data": {
      "text/html": [
       "<div>\n",
       "<style>\n",
       "    .dataframe thead tr:only-child th {\n",
       "        text-align: right;\n",
       "    }\n",
       "\n",
       "    .dataframe thead th {\n",
       "        text-align: left;\n",
       "    }\n",
       "\n",
       "    .dataframe tbody tr th {\n",
       "        vertical-align: top;\n",
       "    }\n",
       "</style>\n",
       "<table border=\"1\" class=\"dataframe\">\n",
       "  <thead>\n",
       "    <tr style=\"text-align: right;\">\n",
       "      <th></th>\n",
       "      <th>Country</th>\n",
       "      <th>Region</th>\n",
       "      <th>Population</th>\n",
       "    </tr>\n",
       "  </thead>\n",
       "  <tbody>\n",
       "    <tr>\n",
       "      <th>16</th>\n",
       "      <td>India</td>\n",
       "      <td>Asia</td>\n",
       "      <td>1143540000</td>\n",
       "    </tr>\n",
       "    <tr>\n",
       "      <th>55</th>\n",
       "      <td>United States</td>\n",
       "      <td>North America</td>\n",
       "      <td>309442000</td>\n",
       "    </tr>\n",
       "    <tr>\n",
       "      <th>33</th>\n",
       "      <td>Pakistan</td>\n",
       "      <td>Asia</td>\n",
       "      <td>165449000</td>\n",
       "    </tr>\n",
       "    <tr>\n",
       "      <th>32</th>\n",
       "      <td>Nigeria</td>\n",
       "      <td>Africa</td>\n",
       "      <td>148093000</td>\n",
       "    </tr>\n",
       "    <tr>\n",
       "      <th>36</th>\n",
       "      <td>Philippines</td>\n",
       "      <td>Asia</td>\n",
       "      <td>90457200</td>\n",
       "    </tr>\n",
       "    <tr>\n",
       "      <th>10</th>\n",
       "      <td>Ethiopia</td>\n",
       "      <td>Africa</td>\n",
       "      <td>82101998</td>\n",
       "    </tr>\n",
       "    <tr>\n",
       "      <th>54</th>\n",
       "      <td>United Kingdom</td>\n",
       "      <td>Europe</td>\n",
       "      <td>61612300</td>\n",
       "    </tr>\n",
       "    <tr>\n",
       "      <th>46</th>\n",
       "      <td>South Africa</td>\n",
       "      <td>Africa</td>\n",
       "      <td>47850700</td>\n",
       "    </tr>\n",
       "    <tr>\n",
       "      <th>50</th>\n",
       "      <td>Tanzania</td>\n",
       "      <td>Africa</td>\n",
       "      <td>40454000</td>\n",
       "    </tr>\n",
       "    <tr>\n",
       "      <th>19</th>\n",
       "      <td>Kenya</td>\n",
       "      <td>Africa</td>\n",
       "      <td>37538000</td>\n",
       "    </tr>\n",
       "  </tbody>\n",
       "</table>\n",
       "</div>"
      ],
      "text/plain": [
       "            Country         Region  Population\n",
       "16            India           Asia  1143540000\n",
       "55    United States  North America   309442000\n",
       "33         Pakistan           Asia   165449000\n",
       "32          Nigeria         Africa   148093000\n",
       "36      Philippines           Asia    90457200\n",
       "10         Ethiopia         Africa    82101998\n",
       "54   United Kingdom         Europe    61612300\n",
       "46     South Africa         Africa    47850700\n",
       "50         Tanzania         Africa    40454000\n",
       "19            Kenya         Africa    37538000"
      ]
     },
     "execution_count": 1320,
     "metadata": {},
     "output_type": "execute_result"
    }
   ],
   "source": [
    "import requests \n",
    "from bs4 import BeautifulSoup \n",
    "\n",
    "URL = \"https://www.myenglishpages.com/site_php_files/reading-english-speaking-countries.php\"\n",
    "r = requests.get(URL)   \n",
    "soup = BeautifulSoup(r.content, 'html5lib') \n",
    "table = soup.find_all('table')[0]\n",
    "df_englishSpeakingCountry=pd.read_html(str(table))[0]\n",
    "\n",
    "\n",
    "df_englishSpeakingCountry['Country']=df_englishSpeakingCountry['Country'].str.replace('The','')\n",
    "df_englishSpeakingCountry.sort_values(by=\"Population\",ascending=False).head(10)"
   ]
  },
  {
   "cell_type": "markdown",
   "metadata": {},
   "source": [
    "__Step 2 :__  secondly load country code list from website"
   ]
  },
  {
   "cell_type": "code",
   "execution_count": 1321,
   "metadata": {},
   "outputs": [
    {
     "data": {
      "text/html": [
       "<div>\n",
       "<style>\n",
       "    .dataframe thead tr:only-child th {\n",
       "        text-align: right;\n",
       "    }\n",
       "\n",
       "    .dataframe thead th {\n",
       "        text-align: left;\n",
       "    }\n",
       "\n",
       "    .dataframe tbody tr th {\n",
       "        vertical-align: top;\n",
       "    }\n",
       "</style>\n",
       "<table border=\"1\" class=\"dataframe\">\n",
       "  <thead>\n",
       "    <tr style=\"text-align: right;\">\n",
       "      <th></th>\n",
       "      <th>COUNTRY</th>\n",
       "      <th>COUNTRYCODE</th>\n",
       "    </tr>\n",
       "  </thead>\n",
       "  <tbody>\n",
       "    <tr>\n",
       "      <th>0</th>\n",
       "      <td>Afghanistan</td>\n",
       "      <td>AFG</td>\n",
       "    </tr>\n",
       "    <tr>\n",
       "      <th>1</th>\n",
       "      <td>Albania</td>\n",
       "      <td>ALB</td>\n",
       "    </tr>\n",
       "    <tr>\n",
       "      <th>2</th>\n",
       "      <td>Algeria</td>\n",
       "      <td>DZA</td>\n",
       "    </tr>\n",
       "    <tr>\n",
       "      <th>3</th>\n",
       "      <td>American Samoa</td>\n",
       "      <td>ASM</td>\n",
       "    </tr>\n",
       "    <tr>\n",
       "      <th>4</th>\n",
       "      <td>Andorra</td>\n",
       "      <td>AND</td>\n",
       "    </tr>\n",
       "  </tbody>\n",
       "</table>\n",
       "</div>"
      ],
      "text/plain": [
       "          COUNTRY COUNTRYCODE\n",
       "0     Afghanistan         AFG\n",
       "1         Albania         ALB\n",
       "2         Algeria         DZA\n",
       "3  American Samoa         ASM\n",
       "4         Andorra         AND"
      ]
     },
     "execution_count": 1321,
     "metadata": {},
     "output_type": "execute_result"
    }
   ],
   "source": [
    "r = requests.get(\"https://countrycode.org/\")\n",
    "\n",
    "soup = BeautifulSoup(r.content, 'html5lib') \n",
    "tb = soup.find_all('table')[0]\n",
    "df_contrycode_list = pd.read_html(str(tb))[0]\n",
    "\n",
    "df_contrycode_list[\"COUNTRYCODE\"]=df_contrycode_list[\"ISO CODES\"].str.split(\"/\").str[1].replace(\" \",\"\")\n",
    "df_countryCode=df_contrycode_list[[\"COUNTRY\",\"COUNTRYCODE\"]]\n",
    "\n",
    "df_countryCode.head()"
   ]
  },
  {
   "cell_type": "markdown",
   "metadata": {},
   "source": [
    "__Step 3 :__  merge english speaking country with country code"
   ]
  },
  {
   "cell_type": "code",
   "execution_count": 1322,
   "metadata": {},
   "outputs": [
    {
     "name": "stderr",
     "output_type": "stream",
     "text": [
      "G:\\ProgramFiles\\Anaconda3\\lib\\site-packages\\ipykernel_launcher.py:2: SettingWithCopyWarning: \n",
      "A value is trying to be set on a copy of a slice from a DataFrame.\n",
      "Try using .loc[row_indexer,col_indexer] = value instead\n",
      "\n",
      "See the caveats in the documentation: http://pandas.pydata.org/pandas-docs/stable/indexing.html#indexing-view-versus-copy\n",
      "  \n"
     ]
    },
    {
     "data": {
      "text/html": [
       "<div>\n",
       "<style>\n",
       "    .dataframe thead tr:only-child th {\n",
       "        text-align: right;\n",
       "    }\n",
       "\n",
       "    .dataframe thead th {\n",
       "        text-align: left;\n",
       "    }\n",
       "\n",
       "    .dataframe tbody tr th {\n",
       "        vertical-align: top;\n",
       "    }\n",
       "</style>\n",
       "<table border=\"1\" class=\"dataframe\">\n",
       "  <thead>\n",
       "    <tr style=\"text-align: right;\">\n",
       "      <th></th>\n",
       "      <th>Country</th>\n",
       "      <th>Population</th>\n",
       "      <th>COUNTRYCODE</th>\n",
       "    </tr>\n",
       "  </thead>\n",
       "  <tbody>\n",
       "    <tr>\n",
       "      <th>15</th>\n",
       "      <td>INDIA</td>\n",
       "      <td>1143540000</td>\n",
       "      <td>IND</td>\n",
       "    </tr>\n",
       "    <tr>\n",
       "      <th>52</th>\n",
       "      <td>UNITED STATES</td>\n",
       "      <td>309442000</td>\n",
       "      <td>USA</td>\n",
       "    </tr>\n",
       "    <tr>\n",
       "      <th>30</th>\n",
       "      <td>PAKISTAN</td>\n",
       "      <td>165449000</td>\n",
       "      <td>PAK</td>\n",
       "    </tr>\n",
       "    <tr>\n",
       "      <th>29</th>\n",
       "      <td>NIGERIA</td>\n",
       "      <td>148093000</td>\n",
       "      <td>NGA</td>\n",
       "    </tr>\n",
       "    <tr>\n",
       "      <th>33</th>\n",
       "      <td>PHILIPPINES</td>\n",
       "      <td>90457200</td>\n",
       "      <td>PHL</td>\n",
       "    </tr>\n",
       "  </tbody>\n",
       "</table>\n",
       "</div>"
      ],
      "text/plain": [
       "          Country  Population COUNTRYCODE\n",
       "15          INDIA  1143540000         IND\n",
       "52  UNITED STATES   309442000         USA\n",
       "30       PAKISTAN   165449000         PAK\n",
       "29        NIGERIA   148093000         NGA\n",
       "33    PHILIPPINES    90457200         PHL"
      ]
     },
     "execution_count": 1322,
     "metadata": {},
     "output_type": "execute_result"
    }
   ],
   "source": [
    "df_englishSpeakingCountry[\"Country\"]=df_englishSpeakingCountry[\"Country\"].str.upper().str.strip()\n",
    "df_countryCode[\"COUNTRY\"]=df_countryCode[\"COUNTRY\"].str.upper().str.strip()\n",
    "\n",
    "df_country=pd.merge(df_englishSpeakingCountry,df_countryCode,how=\"inner\", left_on=\"Country\", right_on=\"COUNTRY\" ).drop([\"COUNTRY\",\"Region\"],axis=1)\n",
    "\n",
    "df_country.sort_values(by=\"Population\",ascending=False).head()\n"
   ]
  },
  {
   "cell_type": "markdown",
   "metadata": {},
   "source": [
    "__Step 4 :__  finally find top3 english speaking country code from top9 based on population"
   ]
  },
  {
   "cell_type": "code",
   "execution_count": 1323,
   "metadata": {},
   "outputs": [
    {
     "data": {
      "text/plain": [
       "['IND', 'USA', 'GBR']"
      ]
     },
     "execution_count": 1323,
     "metadata": {},
     "output_type": "execute_result"
    }
   ],
   "source": [
    "top9[\"country_code\"]=top9[\"country_code\"].str.upper().str.strip()\n",
    "df_country[\"COUNTRYCODE\"]=df_country[\"COUNTRYCODE\"].str.upper().str.strip()\n",
    "\n",
    "df_top3_englishSpeakingCountry=(pd.merge(top9,df_country,how=\"inner\", left_on=\"country_code\", right_on=\"COUNTRYCODE\" ).sort_values(by=\"Population\",ascending=False).head(3))\n",
    "\n",
    "\n",
    "top3EnglishSpeakingCountry=list(df_top3_englishSpeakingCountry[\"COUNTRYCODE\"])\n",
    "top3EnglishSpeakingCountry"
   ]
  },
  {
   "cell_type": "markdown",
   "metadata": {},
   "source": [
    "__filter top3 english speaking country from top9__"
   ]
  },
  {
   "cell_type": "code",
   "execution_count": 1324,
   "metadata": {},
   "outputs": [
    {
     "data": {
      "text/html": [
       "<div>\n",
       "<style>\n",
       "    .dataframe thead tr:only-child th {\n",
       "        text-align: right;\n",
       "    }\n",
       "\n",
       "    .dataframe thead th {\n",
       "        text-align: left;\n",
       "    }\n",
       "\n",
       "    .dataframe tbody tr th {\n",
       "        vertical-align: top;\n",
       "    }\n",
       "</style>\n",
       "<table border=\"1\" class=\"dataframe\">\n",
       "  <thead>\n",
       "    <tr style=\"text-align: right;\">\n",
       "      <th></th>\n",
       "      <th>country_code</th>\n",
       "      <th>raised_amount_usd</th>\n",
       "    </tr>\n",
       "  </thead>\n",
       "  <tbody>\n",
       "    <tr>\n",
       "      <th>0</th>\n",
       "      <td>USA</td>\n",
       "      <td>7.764523e+11</td>\n",
       "    </tr>\n",
       "    <tr>\n",
       "      <th>2</th>\n",
       "      <td>GBR</td>\n",
       "      <td>4.264138e+10</td>\n",
       "    </tr>\n",
       "    <tr>\n",
       "      <th>3</th>\n",
       "      <td>IND</td>\n",
       "      <td>3.377568e+10</td>\n",
       "    </tr>\n",
       "  </tbody>\n",
       "</table>\n",
       "</div>"
      ],
      "text/plain": [
       "  country_code  raised_amount_usd\n",
       "0          USA       7.764523e+11\n",
       "2          GBR       4.264138e+10\n",
       "3          IND       3.377568e+10"
      ]
     },
     "execution_count": 1324,
     "metadata": {},
     "output_type": "execute_result"
    }
   ],
   "source": [
    "top9[top9.country_code.isin(top3EnglishSpeakingCountry)]"
   ]
  },
  {
   "cell_type": "markdown",
   "metadata": {},
   "source": [
    "## Checkpoint 4: Sector Analysis 1 — sector analysis."
   ]
  },
  {
   "cell_type": "code",
   "execution_count": 1325,
   "metadata": {},
   "outputs": [
    {
     "data": {
      "text/html": [
       "<div>\n",
       "<style>\n",
       "    .dataframe thead tr:only-child th {\n",
       "        text-align: right;\n",
       "    }\n",
       "\n",
       "    .dataframe thead th {\n",
       "        text-align: left;\n",
       "    }\n",
       "\n",
       "    .dataframe tbody tr th {\n",
       "        vertical-align: top;\n",
       "    }\n",
       "</style>\n",
       "<table border=\"1\" class=\"dataframe\">\n",
       "  <thead>\n",
       "    <tr style=\"text-align: right;\">\n",
       "      <th></th>\n",
       "      <th>category_list</th>\n",
       "      <th>Automotive &amp; Sports</th>\n",
       "      <th>Blanks</th>\n",
       "      <th>Cleantech / Semiconductors</th>\n",
       "      <th>Entertainment</th>\n",
       "      <th>Health</th>\n",
       "      <th>Manufacturing</th>\n",
       "      <th>News, Search and Messaging</th>\n",
       "      <th>Others</th>\n",
       "      <th>Social, Finance, Analytics, Advertising</th>\n",
       "    </tr>\n",
       "  </thead>\n",
       "  <tbody>\n",
       "    <tr>\n",
       "      <th>0</th>\n",
       "      <td>NaN</td>\n",
       "      <td>0</td>\n",
       "      <td>1</td>\n",
       "      <td>0</td>\n",
       "      <td>0</td>\n",
       "      <td>0</td>\n",
       "      <td>0</td>\n",
       "      <td>0</td>\n",
       "      <td>0</td>\n",
       "      <td>0</td>\n",
       "    </tr>\n",
       "    <tr>\n",
       "      <th>1</th>\n",
       "      <td>3D</td>\n",
       "      <td>0</td>\n",
       "      <td>0</td>\n",
       "      <td>0</td>\n",
       "      <td>0</td>\n",
       "      <td>0</td>\n",
       "      <td>1</td>\n",
       "      <td>0</td>\n",
       "      <td>0</td>\n",
       "      <td>0</td>\n",
       "    </tr>\n",
       "    <tr>\n",
       "      <th>2</th>\n",
       "      <td>3D Printing</td>\n",
       "      <td>0</td>\n",
       "      <td>0</td>\n",
       "      <td>0</td>\n",
       "      <td>0</td>\n",
       "      <td>0</td>\n",
       "      <td>1</td>\n",
       "      <td>0</td>\n",
       "      <td>0</td>\n",
       "      <td>0</td>\n",
       "    </tr>\n",
       "    <tr>\n",
       "      <th>3</th>\n",
       "      <td>3D Technology</td>\n",
       "      <td>0</td>\n",
       "      <td>0</td>\n",
       "      <td>0</td>\n",
       "      <td>0</td>\n",
       "      <td>0</td>\n",
       "      <td>1</td>\n",
       "      <td>0</td>\n",
       "      <td>0</td>\n",
       "      <td>0</td>\n",
       "    </tr>\n",
       "    <tr>\n",
       "      <th>4</th>\n",
       "      <td>Accounting</td>\n",
       "      <td>0</td>\n",
       "      <td>0</td>\n",
       "      <td>0</td>\n",
       "      <td>0</td>\n",
       "      <td>0</td>\n",
       "      <td>0</td>\n",
       "      <td>0</td>\n",
       "      <td>0</td>\n",
       "      <td>1</td>\n",
       "    </tr>\n",
       "  </tbody>\n",
       "</table>\n",
       "</div>"
      ],
      "text/plain": [
       "   category_list  Automotive & Sports  Blanks  Cleantech / Semiconductors  \\\n",
       "0            NaN                    0       1                           0   \n",
       "1             3D                    0       0                           0   \n",
       "2    3D Printing                    0       0                           0   \n",
       "3  3D Technology                    0       0                           0   \n",
       "4     Accounting                    0       0                           0   \n",
       "\n",
       "   Entertainment  Health  Manufacturing  News, Search and Messaging  Others  \\\n",
       "0              0       0              0                           0       0   \n",
       "1              0       0              1                           0       0   \n",
       "2              0       0              1                           0       0   \n",
       "3              0       0              1                           0       0   \n",
       "4              0       0              0                           0       0   \n",
       "\n",
       "   Social, Finance, Analytics, Advertising  \n",
       "0                                        0  \n",
       "1                                        0  \n",
       "2                                        0  \n",
       "3                                        0  \n",
       "4                                        1  "
      ]
     },
     "execution_count": 1325,
     "metadata": {},
     "output_type": "execute_result"
    }
   ],
   "source": [
    "sectorMapping.head()"
   ]
  },
  {
   "cell_type": "markdown",
   "metadata": {},
   "source": [
    "__Create category-sector mapping dataset__ "
   ]
  },
  {
   "cell_type": "code",
   "execution_count": 1326,
   "metadata": {},
   "outputs": [
    {
     "data": {
      "text/html": [
       "<div>\n",
       "<style>\n",
       "    .dataframe thead tr:only-child th {\n",
       "        text-align: right;\n",
       "    }\n",
       "\n",
       "    .dataframe thead th {\n",
       "        text-align: left;\n",
       "    }\n",
       "\n",
       "    .dataframe tbody tr th {\n",
       "        vertical-align: top;\n",
       "    }\n",
       "</style>\n",
       "<table border=\"1\" class=\"dataframe\">\n",
       "  <thead>\n",
       "    <tr style=\"text-align: right;\">\n",
       "      <th></th>\n",
       "      <th>category</th>\n",
       "      <th>Sectors</th>\n",
       "    </tr>\n",
       "  </thead>\n",
       "  <tbody>\n",
       "    <tr>\n",
       "      <th>8</th>\n",
       "      <td>Adventure Travel</td>\n",
       "      <td>Automotive &amp; Sports</td>\n",
       "    </tr>\n",
       "    <tr>\n",
       "      <th>14</th>\n",
       "      <td>Aerospace</td>\n",
       "      <td>Automotive &amp; Sports</td>\n",
       "    </tr>\n",
       "    <tr>\n",
       "      <th>45</th>\n",
       "      <td>Auto</td>\n",
       "      <td>Automotive &amp; Sports</td>\n",
       "    </tr>\n",
       "    <tr>\n",
       "      <th>46</th>\n",
       "      <td>Automated Kiosk</td>\n",
       "      <td>Automotive &amp; Sports</td>\n",
       "    </tr>\n",
       "    <tr>\n",
       "      <th>47</th>\n",
       "      <td>Automotive</td>\n",
       "      <td>Automotive &amp; Sports</td>\n",
       "    </tr>\n",
       "  </tbody>\n",
       "</table>\n",
       "</div>"
      ],
      "text/plain": [
       "            category              Sectors\n",
       "8   Adventure Travel  Automotive & Sports\n",
       "14         Aerospace  Automotive & Sports\n",
       "45              Auto  Automotive & Sports\n",
       "46   Automated Kiosk  Automotive & Sports\n",
       "47        Automotive  Automotive & Sports"
      ]
     },
     "execution_count": 1326,
     "metadata": {},
     "output_type": "execute_result"
    }
   ],
   "source": [
    "sectors=[\n",
    "\"Automotive & Sports\",\n",
    "\"Blanks\",\n",
    "\"Cleantech / Semiconductors\",\n",
    "\"Entertainment\",\n",
    "\"Health\",\n",
    "\"Manufacturing\",\n",
    "\"News, Search and Messaging\",\n",
    "\"Others\",\n",
    "\"Social, Finance, Analytics, Advertising\"\n",
    "]\n",
    "\n",
    "# use melt method\n",
    "df_melt=pd.melt(sectorMapping, id_vars=['category_list'], value_vars=sectors)\n",
    "df_cat_sector=df_melt[df_melt['value']==1] \n",
    "\n",
    "# rename column\n",
    "df_category_sectors=df_cat_sector.drop(['value'], axis=1).rename(columns={\"variable\": \"Sectors\",\"category_list\" : \"category\"})\n",
    "\n",
    "df_category_sectors.head()"
   ]
  },
  {
   "cell_type": "markdown",
   "metadata": {},
   "source": [
    "__Extract the primary sector of each category list from the category_list column__"
   ]
  },
  {
   "cell_type": "code",
   "execution_count": 1327,
   "metadata": {},
   "outputs": [
    {
     "data": {
      "text/html": [
       "<div>\n",
       "<style>\n",
       "    .dataframe thead tr:only-child th {\n",
       "        text-align: right;\n",
       "    }\n",
       "\n",
       "    .dataframe thead th {\n",
       "        text-align: left;\n",
       "    }\n",
       "\n",
       "    .dataframe tbody tr th {\n",
       "        vertical-align: top;\n",
       "    }\n",
       "</style>\n",
       "<table border=\"1\" class=\"dataframe\">\n",
       "  <thead>\n",
       "    <tr style=\"text-align: right;\">\n",
       "      <th></th>\n",
       "      <th>category_list</th>\n",
       "      <th>primary_category</th>\n",
       "    </tr>\n",
       "  </thead>\n",
       "  <tbody>\n",
       "    <tr>\n",
       "      <th>0</th>\n",
       "      <td>Media</td>\n",
       "      <td>Media</td>\n",
       "    </tr>\n",
       "    <tr>\n",
       "      <th>1</th>\n",
       "      <td>Application Platforms|Real Time|Social Network...</td>\n",
       "      <td>Application Platforms</td>\n",
       "    </tr>\n",
       "    <tr>\n",
       "      <th>2</th>\n",
       "      <td>Application Platforms|Real Time|Social Network...</td>\n",
       "      <td>Application Platforms</td>\n",
       "    </tr>\n",
       "    <tr>\n",
       "      <th>3</th>\n",
       "      <td>Apps|Games|Mobile</td>\n",
       "      <td>Apps</td>\n",
       "    </tr>\n",
       "    <tr>\n",
       "      <th>4</th>\n",
       "      <td>Curated Web</td>\n",
       "      <td>Curated Web</td>\n",
       "    </tr>\n",
       "  </tbody>\n",
       "</table>\n",
       "</div>"
      ],
      "text/plain": [
       "                                       category_list       primary_category\n",
       "0                                              Media                  Media\n",
       "1  Application Platforms|Real Time|Social Network...  Application Platforms\n",
       "2  Application Platforms|Real Time|Social Network...  Application Platforms\n",
       "3                                  Apps|Games|Mobile                   Apps\n",
       "4                                        Curated Web            Curated Web"
      ]
     },
     "execution_count": 1327,
     "metadata": {},
     "output_type": "execute_result"
    }
   ],
   "source": [
    "#Derive primary category : split category_list , seperate by '|'\n",
    "\n",
    "master_frame[\"primary_category\"]=master_frame[\"category_list\"].str.split(\"|\").str[0]\n",
    "master_frame[[\"category_list\",\"primary_category\"]].head()"
   ]
  },
  {
   "cell_type": "markdown",
   "metadata": {},
   "source": [
    "__merged data frame with each primary sector mapped to its main sector (the primary sector should be present in a separate column).__"
   ]
  },
  {
   "cell_type": "code",
   "execution_count": 1328,
   "metadata": {},
   "outputs": [
    {
     "data": {
      "text/html": [
       "<div>\n",
       "<style>\n",
       "    .dataframe thead tr:only-child th {\n",
       "        text-align: right;\n",
       "    }\n",
       "\n",
       "    .dataframe thead th {\n",
       "        text-align: left;\n",
       "    }\n",
       "\n",
       "    .dataframe tbody tr th {\n",
       "        vertical-align: top;\n",
       "    }\n",
       "</style>\n",
       "<table border=\"1\" class=\"dataframe\">\n",
       "  <thead>\n",
       "    <tr style=\"text-align: right;\">\n",
       "      <th></th>\n",
       "      <th>permalink</th>\n",
       "      <th>name</th>\n",
       "      <th>homepage_url</th>\n",
       "      <th>category_list</th>\n",
       "      <th>status</th>\n",
       "      <th>country_code</th>\n",
       "      <th>state_code</th>\n",
       "      <th>region</th>\n",
       "      <th>city</th>\n",
       "      <th>founded_at</th>\n",
       "      <th>company_permalink</th>\n",
       "      <th>funding_round_permalink</th>\n",
       "      <th>funding_round_type</th>\n",
       "      <th>funding_round_code</th>\n",
       "      <th>funded_at</th>\n",
       "      <th>raised_amount_usd</th>\n",
       "      <th>primary_category</th>\n",
       "      <th>category</th>\n",
       "      <th>Sectors</th>\n",
       "    </tr>\n",
       "  </thead>\n",
       "  <tbody>\n",
       "    <tr>\n",
       "      <th>0</th>\n",
       "      <td>/organization/-fame</td>\n",
       "      <td>#fame</td>\n",
       "      <td>http://livfame.com</td>\n",
       "      <td>Media</td>\n",
       "      <td>operating</td>\n",
       "      <td>IND</td>\n",
       "      <td>16</td>\n",
       "      <td>Mumbai</td>\n",
       "      <td>Mumbai</td>\n",
       "      <td>NaN</td>\n",
       "      <td>/organization/-fame</td>\n",
       "      <td>/funding-round/9a01d05418af9f794eebff7ace91f638</td>\n",
       "      <td>venture</td>\n",
       "      <td>B</td>\n",
       "      <td>05-01-2015</td>\n",
       "      <td>1.000000e+07</td>\n",
       "      <td>MEDIA</td>\n",
       "      <td>MEDIA</td>\n",
       "      <td>Entertainment</td>\n",
       "    </tr>\n",
       "    <tr>\n",
       "      <th>1</th>\n",
       "      <td>/organization/-qounter</td>\n",
       "      <td>:Qounter</td>\n",
       "      <td>http://www.qounter.com</td>\n",
       "      <td>Application Platforms|Real Time|Social Network...</td>\n",
       "      <td>operating</td>\n",
       "      <td>USA</td>\n",
       "      <td>DE</td>\n",
       "      <td>DE - Other</td>\n",
       "      <td>Delaware City</td>\n",
       "      <td>04-09-2014</td>\n",
       "      <td>/organization/-qounter</td>\n",
       "      <td>/funding-round/22dacff496eb7acb2b901dec1dfe5633</td>\n",
       "      <td>venture</td>\n",
       "      <td>A</td>\n",
       "      <td>14-10-2014</td>\n",
       "      <td>1.042696e+07</td>\n",
       "      <td>APPLICATION PLATFORMS</td>\n",
       "      <td>APPLICATION PLATFORMS</td>\n",
       "      <td>News, Search and Messaging</td>\n",
       "    </tr>\n",
       "    <tr>\n",
       "      <th>2</th>\n",
       "      <td>/organization/-qounter</td>\n",
       "      <td>:Qounter</td>\n",
       "      <td>http://www.qounter.com</td>\n",
       "      <td>Application Platforms|Real Time|Social Network...</td>\n",
       "      <td>operating</td>\n",
       "      <td>USA</td>\n",
       "      <td>DE</td>\n",
       "      <td>DE - Other</td>\n",
       "      <td>Delaware City</td>\n",
       "      <td>04-09-2014</td>\n",
       "      <td>/organization/-qounter</td>\n",
       "      <td>/funding-round/b44fbb94153f6cdef13083530bb48030</td>\n",
       "      <td>seed</td>\n",
       "      <td>NaN</td>\n",
       "      <td>01-03-2014</td>\n",
       "      <td>7.000000e+05</td>\n",
       "      <td>APPLICATION PLATFORMS</td>\n",
       "      <td>APPLICATION PLATFORMS</td>\n",
       "      <td>News, Search and Messaging</td>\n",
       "    </tr>\n",
       "    <tr>\n",
       "      <th>3</th>\n",
       "      <td>/organization/-the-one-of-them-inc-</td>\n",
       "      <td>(THE) ONE of THEM,Inc.</td>\n",
       "      <td>http://oneofthem.jp</td>\n",
       "      <td>Apps|Games|Mobile</td>\n",
       "      <td>operating</td>\n",
       "      <td>NaN</td>\n",
       "      <td>NaN</td>\n",
       "      <td>NaN</td>\n",
       "      <td>NaN</td>\n",
       "      <td>NaN</td>\n",
       "      <td>/organization/-the-one-of-them-inc-</td>\n",
       "      <td>/funding-round/650b8f704416801069bb178a1418776b</td>\n",
       "      <td>venture</td>\n",
       "      <td>B</td>\n",
       "      <td>30-01-2014</td>\n",
       "      <td>3.406878e+06</td>\n",
       "      <td>APPS</td>\n",
       "      <td>APPS</td>\n",
       "      <td>News, Search and Messaging</td>\n",
       "    </tr>\n",
       "    <tr>\n",
       "      <th>4</th>\n",
       "      <td>/organization/0-6-com</td>\n",
       "      <td>0-6.com</td>\n",
       "      <td>http://www.0-6.com</td>\n",
       "      <td>Curated Web</td>\n",
       "      <td>operating</td>\n",
       "      <td>CHN</td>\n",
       "      <td>22</td>\n",
       "      <td>Beijing</td>\n",
       "      <td>Beijing</td>\n",
       "      <td>01-01-2007</td>\n",
       "      <td>/organization/0-6-com</td>\n",
       "      <td>/funding-round/5727accaeaa57461bd22a9bdd945382d</td>\n",
       "      <td>venture</td>\n",
       "      <td>A</td>\n",
       "      <td>19-03-2008</td>\n",
       "      <td>2.000000e+06</td>\n",
       "      <td>CURATED WEB</td>\n",
       "      <td>CURATED WEB</td>\n",
       "      <td>News, Search and Messaging</td>\n",
       "    </tr>\n",
       "  </tbody>\n",
       "</table>\n",
       "</div>"
      ],
      "text/plain": [
       "                             permalink                    name  \\\n",
       "0                  /organization/-fame                   #fame   \n",
       "1               /organization/-qounter                :Qounter   \n",
       "2               /organization/-qounter                :Qounter   \n",
       "3  /organization/-the-one-of-them-inc-  (THE) ONE of THEM,Inc.   \n",
       "4                /organization/0-6-com                 0-6.com   \n",
       "\n",
       "             homepage_url                                      category_list  \\\n",
       "0      http://livfame.com                                              Media   \n",
       "1  http://www.qounter.com  Application Platforms|Real Time|Social Network...   \n",
       "2  http://www.qounter.com  Application Platforms|Real Time|Social Network...   \n",
       "3     http://oneofthem.jp                                  Apps|Games|Mobile   \n",
       "4      http://www.0-6.com                                        Curated Web   \n",
       "\n",
       "      status country_code state_code      region           city  founded_at  \\\n",
       "0  operating          IND         16      Mumbai         Mumbai         NaN   \n",
       "1  operating          USA         DE  DE - Other  Delaware City  04-09-2014   \n",
       "2  operating          USA         DE  DE - Other  Delaware City  04-09-2014   \n",
       "3  operating          NaN        NaN         NaN            NaN         NaN   \n",
       "4  operating          CHN         22     Beijing        Beijing  01-01-2007   \n",
       "\n",
       "                     company_permalink  \\\n",
       "0                  /organization/-fame   \n",
       "1               /organization/-qounter   \n",
       "2               /organization/-qounter   \n",
       "3  /organization/-the-one-of-them-inc-   \n",
       "4                /organization/0-6-com   \n",
       "\n",
       "                           funding_round_permalink funding_round_type  \\\n",
       "0  /funding-round/9a01d05418af9f794eebff7ace91f638            venture   \n",
       "1  /funding-round/22dacff496eb7acb2b901dec1dfe5633            venture   \n",
       "2  /funding-round/b44fbb94153f6cdef13083530bb48030               seed   \n",
       "3  /funding-round/650b8f704416801069bb178a1418776b            venture   \n",
       "4  /funding-round/5727accaeaa57461bd22a9bdd945382d            venture   \n",
       "\n",
       "  funding_round_code   funded_at  raised_amount_usd       primary_category  \\\n",
       "0                  B  05-01-2015       1.000000e+07                  MEDIA   \n",
       "1                  A  14-10-2014       1.042696e+07  APPLICATION PLATFORMS   \n",
       "2                NaN  01-03-2014       7.000000e+05  APPLICATION PLATFORMS   \n",
       "3                  B  30-01-2014       3.406878e+06                   APPS   \n",
       "4                  A  19-03-2008       2.000000e+06            CURATED WEB   \n",
       "\n",
       "                category                     Sectors  \n",
       "0                  MEDIA               Entertainment  \n",
       "1  APPLICATION PLATFORMS  News, Search and Messaging  \n",
       "2  APPLICATION PLATFORMS  News, Search and Messaging  \n",
       "3                   APPS  News, Search and Messaging  \n",
       "4            CURATED WEB  News, Search and Messaging  "
      ]
     },
     "execution_count": 1328,
     "metadata": {},
     "output_type": "execute_result"
    }
   ],
   "source": [
    "## join on master_frame with df_category_sectors on primary_category\n",
    "df_category_sectors['category']=df_category_sectors['category'].str.upper()\n",
    "master_frame['primary_category']= master_frame['primary_category'].str.upper() \n",
    "\n",
    "\n",
    "\n",
    "\n",
    "master_frame_category_sectors=pd.merge(master_frame,df_category_sectors,how=\"left\", \n",
    "                                       left_on=\"primary_category\", right_on=\"category\" )\n",
    "\n",
    "\n",
    "## last three columns ( some columns are redundant , these can be dropped but I am keeping it as it is)\n",
    "master_frame_category_sectors.head()"
   ]
  },
  {
   "cell_type": "markdown",
   "metadata": {},
   "source": [
    "## Checkpoint 5: Sector Analysis 2"
   ]
  },
  {
   "cell_type": "code",
   "execution_count": 1329,
   "metadata": {},
   "outputs": [
    {
     "data": {
      "text/plain": [
       "['IND', 'USA', 'GBR']"
      ]
     },
     "execution_count": 1329,
     "metadata": {},
     "output_type": "execute_result"
    }
   ],
   "source": [
    "top3EnglishSpeakingCountry"
   ]
  },
  {
   "cell_type": "markdown",
   "metadata": {},
   "source": [
    "##  (1) USA - english speaking country 1"
   ]
  },
  {
   "cell_type": "markdown",
   "metadata": {},
   "source": [
    "__Maximum investment sector for USA__"
   ]
  },
  {
   "cell_type": "code",
   "execution_count": 1332,
   "metadata": {},
   "outputs": [
    {
     "data": {
      "text/plain": [
       "106557    Manufacturing\n",
       "Name: Sectors, dtype: object"
      ]
     },
     "execution_count": 1332,
     "metadata": {},
     "output_type": "execute_result"
    }
   ],
   "source": [
    "#filter english speaking country ( USA) \n",
    "master_frame_category_sectors_USA=master_frame_category_sectors[master_frame_category_sectors.country_code.isin([\"USA\"])]\n",
    "# remove unused columns\n",
    "#master_frame_category_sectors_USA=master_frame_category_sectors_USA.drop(['category', 'category_list_splt'], axis=1) # remove unused column\n",
    "\n",
    "# sector name\n",
    "master_frame_category_sectors_USA[filter_max_raised_amount_for_USA][\"Sectors\"]"
   ]
  },
  {
   "cell_type": "markdown",
   "metadata": {},
   "source": [
    "__The total number (or count) of investments for each main sector__"
   ]
  },
  {
   "cell_type": "code",
   "execution_count": 1333,
   "metadata": {},
   "outputs": [
    {
     "data": {
      "text/html": [
       "<div>\n",
       "<style>\n",
       "    .dataframe thead tr:only-child th {\n",
       "        text-align: right;\n",
       "    }\n",
       "\n",
       "    .dataframe thead th {\n",
       "        text-align: left;\n",
       "    }\n",
       "\n",
       "    .dataframe tbody tr th {\n",
       "        vertical-align: top;\n",
       "    }\n",
       "</style>\n",
       "<table border=\"1\" class=\"dataframe\">\n",
       "  <thead>\n",
       "    <tr style=\"text-align: right;\">\n",
       "      <th></th>\n",
       "      <th>count</th>\n",
       "    </tr>\n",
       "    <tr>\n",
       "      <th>primary_category</th>\n",
       "      <th></th>\n",
       "    </tr>\n",
       "  </thead>\n",
       "  <tbody>\n",
       "    <tr>\n",
       "      <th>BIOTECHNOLOGY</th>\n",
       "      <td>8316</td>\n",
       "    </tr>\n",
       "    <tr>\n",
       "      <th>SOFTWARE</th>\n",
       "      <td>4885</td>\n",
       "    </tr>\n",
       "    <tr>\n",
       "      <th>ADVERTISING</th>\n",
       "      <td>3171</td>\n",
       "    </tr>\n",
       "    <tr>\n",
       "      <th>ANALYTICS</th>\n",
       "      <td>2630</td>\n",
       "    </tr>\n",
       "    <tr>\n",
       "      <th>HEALTH CARE</th>\n",
       "      <td>2443</td>\n",
       "    </tr>\n",
       "  </tbody>\n",
       "</table>\n",
       "</div>"
      ],
      "text/plain": [
       "                  count\n",
       "primary_category       \n",
       "BIOTECHNOLOGY      8316\n",
       "SOFTWARE           4885\n",
       "ADVERTISING        3171\n",
       "ANALYTICS          2630\n",
       "HEALTH CARE        2443"
      ]
     },
     "execution_count": 1333,
     "metadata": {},
     "output_type": "execute_result"
    }
   ],
   "source": [
    "\n",
    "pd.DataFrame(master_frame_category_sectors_USA.groupby([\"primary_category\"])[\"primary_category\"].count()).rename(columns={'primary_category':'count'}).sort_values(by='count', ascending=False).head()"
   ]
  },
  {
   "cell_type": "markdown",
   "metadata": {},
   "source": [
    "__The total amount invested in each main sector in a separate column__"
   ]
  },
  {
   "cell_type": "code",
   "execution_count": 1334,
   "metadata": {},
   "outputs": [
    {
     "data": {
      "text/html": [
       "<div>\n",
       "<style>\n",
       "    .dataframe thead tr:only-child th {\n",
       "        text-align: right;\n",
       "    }\n",
       "\n",
       "    .dataframe thead th {\n",
       "        text-align: left;\n",
       "    }\n",
       "\n",
       "    .dataframe tbody tr th {\n",
       "        vertical-align: top;\n",
       "    }\n",
       "</style>\n",
       "<table border=\"1\" class=\"dataframe\">\n",
       "  <thead>\n",
       "    <tr style=\"text-align: right;\">\n",
       "      <th></th>\n",
       "      <th>raised_amount_usd</th>\n",
       "    </tr>\n",
       "    <tr>\n",
       "      <th>primary_category</th>\n",
       "      <th></th>\n",
       "    </tr>\n",
       "  </thead>\n",
       "  <tbody>\n",
       "    <tr>\n",
       "      <th>BIOTECHNOLOGY</th>\n",
       "      <td>9.753603e+10</td>\n",
       "    </tr>\n",
       "    <tr>\n",
       "      <th>CLEAN TECHNOLOGY</th>\n",
       "      <td>3.707650e+10</td>\n",
       "    </tr>\n",
       "    <tr>\n",
       "      <th>SOFTWARE</th>\n",
       "      <td>3.529399e+10</td>\n",
       "    </tr>\n",
       "    <tr>\n",
       "      <th>COMMUNICATIONS INFRASTRUCTURE</th>\n",
       "      <td>3.102661e+10</td>\n",
       "    </tr>\n",
       "    <tr>\n",
       "      <th>ADVERTISING</th>\n",
       "      <td>2.914728e+10</td>\n",
       "    </tr>\n",
       "    <tr>\n",
       "      <th>SEMICONDUCTORS</th>\n",
       "      <td>2.819146e+10</td>\n",
       "    </tr>\n",
       "    <tr>\n",
       "      <th>HEALTH CARE</th>\n",
       "      <td>2.536048e+10</td>\n",
       "    </tr>\n",
       "    <tr>\n",
       "      <th>ANALYTICS</th>\n",
       "      <td>2.299347e+10</td>\n",
       "    </tr>\n",
       "    <tr>\n",
       "      <th>ENTERPRISE SOFTWARE</th>\n",
       "      <td>2.236564e+10</td>\n",
       "    </tr>\n",
       "    <tr>\n",
       "      <th>E-COMMERCE</th>\n",
       "      <td>1.838943e+10</td>\n",
       "    </tr>\n",
       "  </tbody>\n",
       "</table>\n",
       "</div>"
      ],
      "text/plain": [
       "                               raised_amount_usd\n",
       "primary_category                                \n",
       "BIOTECHNOLOGY                       9.753603e+10\n",
       "CLEAN TECHNOLOGY                    3.707650e+10\n",
       "SOFTWARE                            3.529399e+10\n",
       "COMMUNICATIONS INFRASTRUCTURE       3.102661e+10\n",
       "ADVERTISING                         2.914728e+10\n",
       "SEMICONDUCTORS                      2.819146e+10\n",
       "HEALTH CARE                         2.536048e+10\n",
       "ANALYTICS                           2.299347e+10\n",
       "ENTERPRISE SOFTWARE                 2.236564e+10\n",
       "E-COMMERCE                          1.838943e+10"
      ]
     },
     "execution_count": 1334,
     "metadata": {},
     "output_type": "execute_result"
    }
   ],
   "source": [
    "pd.DataFrame(master_frame_category_sectors_USA.groupby([\"primary_category\"])[\"raised_amount_usd\"].sum()).sort_values(by='raised_amount_usd', ascending=False).head(10)"
   ]
  },
  {
   "cell_type": "markdown",
   "metadata": {},
   "source": [
    "## (2) GBR - English speaking country 2\n",
    "\n",
    "__Maximum investment sector for GBR__"
   ]
  },
  {
   "cell_type": "code",
   "execution_count": 1335,
   "metadata": {},
   "outputs": [
    {
     "data": {
      "text/plain": [
       "92039    News, Search and Messaging\n",
       "Name: Sectors, dtype: object"
      ]
     },
     "execution_count": 1335,
     "metadata": {},
     "output_type": "execute_result"
    }
   ],
   "source": [
    "#filter top3 english speaking country ( GBR) \n",
    "master_frame_category_sectors_GBR=master_frame_category_sectors[master_frame_category_sectors.country_code.isin([\"GBR\"])]\n",
    "# remove unused columns\n",
    "#master_frame_category_sectors_GBR=master_frame_category_sectors_GBR.drop(['category', 'category_list_splt'], axis=1) # remove unused column\n",
    "\n",
    "# filter max raised amount for GBR\n",
    "filter_max_raised_amount_for_GBR=master_frame_category_sectors_GBR.raised_amount_usd == master_frame_category_sectors_GBR[\"raised_amount_usd\"].max()\n",
    "\n",
    "# sector name\n",
    "master_frame_category_sectors_GBR[filter_max_raised_amount_for_GBR][\"Sectors\"]"
   ]
  },
  {
   "cell_type": "markdown",
   "metadata": {},
   "source": [
    "__The total number (or count) of investments for each main sector__"
   ]
  },
  {
   "cell_type": "code",
   "execution_count": 1336,
   "metadata": {},
   "outputs": [
    {
     "data": {
      "text/html": [
       "<div>\n",
       "<style>\n",
       "    .dataframe thead tr:only-child th {\n",
       "        text-align: right;\n",
       "    }\n",
       "\n",
       "    .dataframe thead th {\n",
       "        text-align: left;\n",
       "    }\n",
       "\n",
       "    .dataframe tbody tr th {\n",
       "        vertical-align: top;\n",
       "    }\n",
       "</style>\n",
       "<table border=\"1\" class=\"dataframe\">\n",
       "  <thead>\n",
       "    <tr style=\"text-align: right;\">\n",
       "      <th></th>\n",
       "      <th>count</th>\n",
       "    </tr>\n",
       "    <tr>\n",
       "      <th>primary_category</th>\n",
       "      <th></th>\n",
       "    </tr>\n",
       "  </thead>\n",
       "  <tbody>\n",
       "    <tr>\n",
       "      <th>BIOTECHNOLOGY</th>\n",
       "      <td>444</td>\n",
       "    </tr>\n",
       "    <tr>\n",
       "      <th>SOFTWARE</th>\n",
       "      <td>368</td>\n",
       "    </tr>\n",
       "    <tr>\n",
       "      <th>E-COMMERCE</th>\n",
       "      <td>288</td>\n",
       "    </tr>\n",
       "    <tr>\n",
       "      <th>ADVERTISING</th>\n",
       "      <td>284</td>\n",
       "    </tr>\n",
       "    <tr>\n",
       "      <th>CURATED WEB</th>\n",
       "      <td>207</td>\n",
       "    </tr>\n",
       "  </tbody>\n",
       "</table>\n",
       "</div>"
      ],
      "text/plain": [
       "                  count\n",
       "primary_category       \n",
       "BIOTECHNOLOGY       444\n",
       "SOFTWARE            368\n",
       "E-COMMERCE          288\n",
       "ADVERTISING         284\n",
       "CURATED WEB         207"
      ]
     },
     "execution_count": 1336,
     "metadata": {},
     "output_type": "execute_result"
    }
   ],
   "source": [
    "pd.DataFrame(master_frame_category_sectors_GBR.groupby([\"primary_category\"])[\"primary_category\"].count()).rename(columns={'primary_category':'count'}).sort_values(by='count', ascending=False).head()"
   ]
  },
  {
   "cell_type": "markdown",
   "metadata": {},
   "source": [
    "__The total amount invested in each main sector in a separate column__"
   ]
  },
  {
   "cell_type": "code",
   "execution_count": 1337,
   "metadata": {},
   "outputs": [
    {
     "data": {
      "text/html": [
       "<div>\n",
       "<style>\n",
       "    .dataframe thead tr:only-child th {\n",
       "        text-align: right;\n",
       "    }\n",
       "\n",
       "    .dataframe thead th {\n",
       "        text-align: left;\n",
       "    }\n",
       "\n",
       "    .dataframe tbody tr th {\n",
       "        vertical-align: top;\n",
       "    }\n",
       "</style>\n",
       "<table border=\"1\" class=\"dataframe\">\n",
       "  <thead>\n",
       "    <tr style=\"text-align: right;\">\n",
       "      <th></th>\n",
       "      <th>raised_amount_usd</th>\n",
       "    </tr>\n",
       "    <tr>\n",
       "      <th>primary_category</th>\n",
       "      <th></th>\n",
       "    </tr>\n",
       "  </thead>\n",
       "  <tbody>\n",
       "    <tr>\n",
       "      <th>BIOTECHNOLOGY</th>\n",
       "      <td>5.624764e+09</td>\n",
       "    </tr>\n",
       "    <tr>\n",
       "      <th>MOBILE</th>\n",
       "      <td>1.967547e+09</td>\n",
       "    </tr>\n",
       "    <tr>\n",
       "      <th>SOFTWARE</th>\n",
       "      <td>1.860070e+09</td>\n",
       "    </tr>\n",
       "    <tr>\n",
       "      <th>FINANCE</th>\n",
       "      <td>1.813408e+09</td>\n",
       "    </tr>\n",
       "    <tr>\n",
       "      <th>E-COMMERCE</th>\n",
       "      <td>1.608740e+09</td>\n",
       "    </tr>\n",
       "    <tr>\n",
       "      <th>ADVERTISING</th>\n",
       "      <td>1.448807e+09</td>\n",
       "    </tr>\n",
       "    <tr>\n",
       "      <th>APPS</th>\n",
       "      <td>1.440219e+09</td>\n",
       "    </tr>\n",
       "    <tr>\n",
       "      <th>CLEAN TECHNOLOGY</th>\n",
       "      <td>1.370759e+09</td>\n",
       "    </tr>\n",
       "    <tr>\n",
       "      <th>CURATED WEB</th>\n",
       "      <td>9.881570e+08</td>\n",
       "    </tr>\n",
       "    <tr>\n",
       "      <th>TELECOMMUNICATIONS</th>\n",
       "      <td>9.141041e+08</td>\n",
       "    </tr>\n",
       "  </tbody>\n",
       "</table>\n",
       "</div>"
      ],
      "text/plain": [
       "                    raised_amount_usd\n",
       "primary_category                     \n",
       "BIOTECHNOLOGY            5.624764e+09\n",
       "MOBILE                   1.967547e+09\n",
       "SOFTWARE                 1.860070e+09\n",
       "FINANCE                  1.813408e+09\n",
       "E-COMMERCE               1.608740e+09\n",
       "ADVERTISING              1.448807e+09\n",
       "APPS                     1.440219e+09\n",
       "CLEAN TECHNOLOGY         1.370759e+09\n",
       "CURATED WEB              9.881570e+08\n",
       "TELECOMMUNICATIONS       9.141041e+08"
      ]
     },
     "execution_count": 1337,
     "metadata": {},
     "output_type": "execute_result"
    }
   ],
   "source": [
    "pd.DataFrame(master_frame_category_sectors_GBR.groupby([\"primary_category\"])[\"raised_amount_usd\"].sum()).sort_values(by='raised_amount_usd', ascending=False).head(10)"
   ]
  },
  {
   "cell_type": "markdown",
   "metadata": {},
   "source": [
    "## (3) INDIA - English speaking country 3\n",
    "\n",
    "__Maximum investment sector for INDIA__"
   ]
  },
  {
   "cell_type": "code",
   "execution_count": 1338,
   "metadata": {},
   "outputs": [
    {
     "data": {
      "text/plain": [
       "82669    Social, Finance, Analytics, Advertising\n",
       "Name: Sectors, dtype: object"
      ]
     },
     "execution_count": 1338,
     "metadata": {},
     "output_type": "execute_result"
    }
   ],
   "source": [
    "#filter top3 english speaking country ( India) \n",
    "master_frame_category_sectors_IND=master_frame_category_sectors[master_frame_category_sectors.country_code.isin([\"IND\"])]\n",
    "# remove unused columns\n",
    "#master_frame_category_sectors_IND=master_frame_category_sectors_IND.drop(['category', 'category_list_splt'], axis=1) # remove unused column\n",
    "\n",
    "# filter max raised amount for India\n",
    "filter_max_raised_amount_for_IND=master_frame_category_sectors_IND.raised_amount_usd == master_frame_category_sectors_IND[\"raised_amount_usd\"].max()\n",
    "\n",
    "# sector name\n",
    "master_frame_category_sectors_IND[filter_max_raised_amount_for_IND][\"Sectors\"]"
   ]
  },
  {
   "cell_type": "markdown",
   "metadata": {},
   "source": [
    "__The total number (or count) of investments for each main sector__"
   ]
  },
  {
   "cell_type": "code",
   "execution_count": 1339,
   "metadata": {},
   "outputs": [
    {
     "data": {
      "text/html": [
       "<div>\n",
       "<style>\n",
       "    .dataframe thead tr:only-child th {\n",
       "        text-align: right;\n",
       "    }\n",
       "\n",
       "    .dataframe thead th {\n",
       "        text-align: left;\n",
       "    }\n",
       "\n",
       "    .dataframe tbody tr th {\n",
       "        vertical-align: top;\n",
       "    }\n",
       "</style>\n",
       "<table border=\"1\" class=\"dataframe\">\n",
       "  <thead>\n",
       "    <tr style=\"text-align: right;\">\n",
       "      <th></th>\n",
       "      <th>count</th>\n",
       "    </tr>\n",
       "    <tr>\n",
       "      <th>primary_category</th>\n",
       "      <th></th>\n",
       "    </tr>\n",
       "  </thead>\n",
       "  <tbody>\n",
       "    <tr>\n",
       "      <th>E-COMMERCE</th>\n",
       "      <td>253</td>\n",
       "    </tr>\n",
       "    <tr>\n",
       "      <th>SOFTWARE</th>\n",
       "      <td>97</td>\n",
       "    </tr>\n",
       "    <tr>\n",
       "      <th>EDUCATION</th>\n",
       "      <td>94</td>\n",
       "    </tr>\n",
       "    <tr>\n",
       "      <th>CURATED WEB</th>\n",
       "      <td>74</td>\n",
       "    </tr>\n",
       "    <tr>\n",
       "      <th>FINANCE</th>\n",
       "      <td>70</td>\n",
       "    </tr>\n",
       "  </tbody>\n",
       "</table>\n",
       "</div>"
      ],
      "text/plain": [
       "                  count\n",
       "primary_category       \n",
       "E-COMMERCE          253\n",
       "SOFTWARE             97\n",
       "EDUCATION            94\n",
       "CURATED WEB          74\n",
       "FINANCE              70"
      ]
     },
     "execution_count": 1339,
     "metadata": {},
     "output_type": "execute_result"
    }
   ],
   "source": [
    "pd.DataFrame(master_frame_category_sectors_IND.groupby([\"primary_category\"])[\"primary_category\"].count()).rename(columns={'primary_category':'count'}).sort_values(by='count', ascending=False).head()"
   ]
  },
  {
   "cell_type": "markdown",
   "metadata": {},
   "source": [
    "__The total amount invested in each main sector in a separate column__"
   ]
  },
  {
   "cell_type": "code",
   "execution_count": 1340,
   "metadata": {},
   "outputs": [
    {
     "data": {
      "text/html": [
       "<div>\n",
       "<style>\n",
       "    .dataframe thead tr:only-child th {\n",
       "        text-align: right;\n",
       "    }\n",
       "\n",
       "    .dataframe thead th {\n",
       "        text-align: left;\n",
       "    }\n",
       "\n",
       "    .dataframe tbody tr th {\n",
       "        vertical-align: top;\n",
       "    }\n",
       "</style>\n",
       "<table border=\"1\" class=\"dataframe\">\n",
       "  <thead>\n",
       "    <tr style=\"text-align: right;\">\n",
       "      <th></th>\n",
       "      <th>raised_amount_usd</th>\n",
       "    </tr>\n",
       "    <tr>\n",
       "      <th>primary_category</th>\n",
       "      <th></th>\n",
       "    </tr>\n",
       "  </thead>\n",
       "  <tbody>\n",
       "    <tr>\n",
       "      <th>E-COMMERCE</th>\n",
       "      <td>7.909586e+09</td>\n",
       "    </tr>\n",
       "    <tr>\n",
       "      <th>DEVELOPMENT PLATFORMS</th>\n",
       "      <td>3.000580e+09</td>\n",
       "    </tr>\n",
       "    <tr>\n",
       "      <th>CLEAN TECHNOLOGY</th>\n",
       "      <td>2.261264e+09</td>\n",
       "    </tr>\n",
       "    <tr>\n",
       "      <th>AUTOMOTIVE</th>\n",
       "      <td>1.563557e+09</td>\n",
       "    </tr>\n",
       "    <tr>\n",
       "      <th>MOBILE</th>\n",
       "      <td>1.379343e+09</td>\n",
       "    </tr>\n",
       "    <tr>\n",
       "      <th>REAL ESTATE</th>\n",
       "      <td>9.617307e+08</td>\n",
       "    </tr>\n",
       "    <tr>\n",
       "      <th>SOFTWARE</th>\n",
       "      <td>8.810877e+08</td>\n",
       "    </tr>\n",
       "    <tr>\n",
       "      <th>CURATED WEB</th>\n",
       "      <td>7.869723e+08</td>\n",
       "    </tr>\n",
       "    <tr>\n",
       "      <th>FINANCE</th>\n",
       "      <td>7.575473e+08</td>\n",
       "    </tr>\n",
       "    <tr>\n",
       "      <th>BIOTECHNOLOGY</th>\n",
       "      <td>5.438498e+08</td>\n",
       "    </tr>\n",
       "  </tbody>\n",
       "</table>\n",
       "</div>"
      ],
      "text/plain": [
       "                       raised_amount_usd\n",
       "primary_category                        \n",
       "E-COMMERCE                  7.909586e+09\n",
       "DEVELOPMENT PLATFORMS       3.000580e+09\n",
       "CLEAN TECHNOLOGY            2.261264e+09\n",
       "AUTOMOTIVE                  1.563557e+09\n",
       "MOBILE                      1.379343e+09\n",
       "REAL ESTATE                 9.617307e+08\n",
       "SOFTWARE                    8.810877e+08\n",
       "CURATED WEB                 7.869723e+08\n",
       "FINANCE                     7.575473e+08\n",
       "BIOTECHNOLOGY               5.438498e+08"
      ]
     },
     "execution_count": 1340,
     "metadata": {},
     "output_type": "execute_result"
    }
   ],
   "source": [
    "pd.DataFrame(master_frame_category_sectors_IND.groupby([\"primary_category\"])[\"raised_amount_usd\"].sum()).sort_values(by='raised_amount_usd', ascending=False).head(10)"
   ]
  },
  {
   "cell_type": "markdown",
   "metadata": {},
   "source": [
    "## Table 5.1 : Sector-wise Investment Analysis"
   ]
  },
  {
   "cell_type": "markdown",
   "metadata": {},
   "source": [
    "__1. Total number of investments (count)__"
   ]
  },
  {
   "cell_type": "code",
   "execution_count": 1341,
   "metadata": {},
   "outputs": [
    {
     "name": "stdout",
     "output_type": "stream",
     "text": [
      "INDIA : 2189\n",
      "USA : 71293\n",
      "GBR : 5869\n"
     ]
    }
   ],
   "source": [
    "print( \"INDIA :\" , master_frame_category_sectors_IND[\"category_list\"].str.split(\"|\").count())\n",
    "print( \"USA :\" , master_frame_category_sectors_USA[\"category_list\"].str.split(\"|\").count())\n",
    "print( \"GBR :\" , master_frame_category_sectors_GBR[\"category_list\"].str.split(\"|\").count())"
   ]
  },
  {
   "cell_type": "markdown",
   "metadata": {},
   "source": [
    "__2. Total amount of investment (USD)__"
   ]
  },
  {
   "cell_type": "code",
   "execution_count": 1342,
   "metadata": {},
   "outputs": [
    {
     "name": "stdout",
     "output_type": "stream",
     "text": [
      "INDIA : 33775682380.017174\n",
      "USA : 776452327190.2074\n",
      "GBR : 42641381093.48649\n"
     ]
    }
   ],
   "source": [
    "print( \"INDIA :\" , master_frame_category_sectors_IND.raised_amount_usd.sum())\n",
    "print( \"USA :\" , master_frame_category_sectors_USA.raised_amount_usd.sum())\n",
    "print( \"GBR :\" , master_frame_category_sectors_GBR.raised_amount_usd.sum())"
   ]
  },
  {
   "cell_type": "markdown",
   "metadata": {},
   "source": [
    "__3. Top sector (based on count of investments)__\n",
    "\n",
    "__4. Second-best sector (based on count of investments)__\n",
    "\n",
    "__5. Third-best sector (based on count of investments)__"
   ]
  },
  {
   "cell_type": "code",
   "execution_count": 1343,
   "metadata": {},
   "outputs": [
    {
     "name": "stdout",
     "output_type": "stream",
     "text": [
      "***********INDIA*******************\n",
      "                                   Sectors  Sectors_Count\n",
      "0                                   Others            708\n",
      "1               News, Search and Messaging            353\n",
      "2  Social, Finance, Analytics, Advertising            308\n",
      "***********USA*******************\n",
      "                                   Sectors  Sectors_Count\n",
      "0                                   Others          15970\n",
      "1               Cleantech / Semiconductors          12133\n",
      "2  Social, Finance, Analytics, Advertising          11664\n",
      "***********GBR*******************\n",
      "                                   Sectors  Sectors_Count\n",
      "0                                   Others           1342\n",
      "1  Social, Finance, Analytics, Advertising           1137\n",
      "2               News, Search and Messaging            876\n"
     ]
    }
   ],
   "source": [
    "top3_sectors=pd.DataFrame(master_frame_category_sectors.groupby([\"Sectors\"])[\"Sectors\"].count()).nlargest(3,\"Sectors\")\n",
    "top3_sectors=top3_sectors.rename(columns={\"Sectors\":\"Sectors_Count\"}).reset_index()\n",
    "\n",
    "\n",
    "top3_sectors_INDIA=pd.DataFrame(master_frame_category_sectors_IND.groupby([\"Sectors\"])[\"Sectors\"].count()).nlargest(3,\"Sectors\")\n",
    "top3_sectors_INDIA=top3_sectors_INDIA.rename(columns={\"Sectors\":\"Sectors_Count\"}).reset_index()\n",
    "\n",
    "top3_sectors_USA=pd.DataFrame(master_frame_category_sectors_USA.groupby([\"Sectors\"])[\"Sectors\"].count()).nlargest(3,\"Sectors\")\n",
    "top3_sectors_USA=top3_sectors_USA.rename(columns={\"Sectors\":\"Sectors_Count\"}).reset_index()\n",
    "\n",
    "top3_sectors_GBR=pd.DataFrame(master_frame_category_sectors_GBR.groupby([\"Sectors\"])[\"Sectors\"].count()).nlargest(3,\"Sectors\")\n",
    "top3_sectors_GBR=top3_sectors_GBR.rename(columns={\"Sectors\":\"Sectors_Count\"}).reset_index()\n",
    "\n",
    "print(\"***********INDIA*******************\")\n",
    "print(top3_sectors_INDIA)\n",
    "\n",
    "print(\"***********USA*******************\")\n",
    "print(top3_sectors_USA)\n",
    "\n",
    "print(\"***********GBR*******************\")\n",
    "print(top3_sectors_GBR)"
   ]
  },
  {
   "cell_type": "markdown",
   "metadata": {},
   "source": [
    "__6. Number of investments in the top sector (refer to point 3)__"
   ]
  },
  {
   "cell_type": "code",
   "execution_count": 1344,
   "metadata": {},
   "outputs": [
    {
     "name": "stdout",
     "output_type": "stream",
     "text": [
      "***********INDIA*******************\n",
      "708\n",
      "***********USA*******************\n",
      "15970\n",
      "***********GBR*******************\n",
      "1342\n"
     ]
    }
   ],
   "source": [
    "topSector_INDIA=(top3_sectors_INDIA.iloc[0][0])\n",
    "topSector_USA=(top3_sectors_USA.iloc[0][0])\n",
    "topSector_GBR=(top3_sectors_GBR.iloc[0][0])\n",
    "\n",
    "\n",
    "print(\"***********INDIA*******************\")\n",
    "print(master_frame_category_sectors_IND[master_frame_category_sectors_IND.Sectors.isin([topSector_INDIA])][\"Sectors\"].count())\n",
    "\n",
    "print(\"***********USA*******************\")\n",
    "print(master_frame_category_sectors_USA[master_frame_category_sectors_USA.Sectors.isin([topSector_USA])][\"Sectors\"].count())\n",
    "\n",
    "print(\"***********GBR*******************\")\n",
    "print(master_frame_category_sectors_GBR[master_frame_category_sectors_GBR.Sectors.isin([topSector_GBR])][\"Sectors\"].count())\n"
   ]
  },
  {
   "cell_type": "markdown",
   "metadata": {},
   "source": [
    "__7. Number of investments in the second-best sector (refer to point 4)__"
   ]
  },
  {
   "cell_type": "code",
   "execution_count": 1345,
   "metadata": {},
   "outputs": [
    {
     "name": "stdout",
     "output_type": "stream",
     "text": [
      "***********INDIA*******************\n",
      "353\n",
      "***********USA*******************\n",
      "12133\n",
      "***********GBR*******************\n",
      "1137\n"
     ]
    }
   ],
   "source": [
    "topSecondSector_INDIA=top3_sectors_INDIA.iloc[1][0]\n",
    "topSecondSector_USA=top3_sectors_USA.iloc[1][0]\n",
    "topSecondSector_GBR=top3_sectors_GBR.iloc[1][0]\n",
    "\n",
    "print(\"***********INDIA*******************\")\n",
    "print(master_frame_category_sectors_IND[master_frame_category_sectors_IND.Sectors.isin([topSecondSector_INDIA])][\"Sectors\"].count())\n",
    "\n",
    "print(\"***********USA*******************\")\n",
    "print(master_frame_category_sectors_USA[master_frame_category_sectors_USA.Sectors.isin([topSecondSector_USA])][\"Sectors\"].count())\n",
    "\n",
    "print(\"***********GBR*******************\")\n",
    "print(master_frame_category_sectors_GBR[master_frame_category_sectors_GBR.Sectors.isin([topSecondSector_GBR])][\"Sectors\"].count())\n"
   ]
  },
  {
   "cell_type": "markdown",
   "metadata": {},
   "source": [
    "__ 8. Number of investments in the third-best sector (refer to point 5)__"
   ]
  },
  {
   "cell_type": "code",
   "execution_count": 1346,
   "metadata": {},
   "outputs": [
    {
     "name": "stdout",
     "output_type": "stream",
     "text": [
      "***********INDIA*******************\n",
      "308\n",
      "***********USA*******************\n",
      "11664\n",
      "***********GBR*******************\n",
      "876\n"
     ]
    }
   ],
   "source": [
    "topThirdSector_INDIA=top3_sectors_INDIA.iloc[2][0]\n",
    "topThirdSector_USA=top3_sectors_USA.iloc[2][0]\n",
    "topThirdSector_GBR=top3_sectors_GBR.iloc[2][0]\n",
    "\n",
    "print(\"***********INDIA*******************\")\n",
    "print(master_frame_category_sectors_IND[master_frame_category_sectors_IND.Sectors.isin([topThirdSector_INDIA])][\"Sectors\"].count())\n",
    "\n",
    "print(\"***********USA*******************\")\n",
    "print(master_frame_category_sectors_USA[master_frame_category_sectors_USA.Sectors.isin([topThirdSector_USA])][\"Sectors\"].count())\n",
    "\n",
    "print(\"***********GBR*******************\")\n",
    "print(master_frame_category_sectors_GBR[master_frame_category_sectors_GBR.Sectors.isin([topThirdSector_GBR])][\"Sectors\"].count())\n"
   ]
  },
  {
   "cell_type": "markdown",
   "metadata": {},
   "source": [
    "__9. For the top sector count-wise (point 3), which company received the highest investment?__"
   ]
  },
  {
   "cell_type": "code",
   "execution_count": 1347,
   "metadata": {},
   "outputs": [
    {
     "name": "stdout",
     "output_type": "stream",
     "text": [
      "***********INDIA*******************\n",
      "36399    Flipkart\n",
      "Name: name, dtype: object\n",
      "***********USA*******************\n",
      "113705    Zebra Technologies\n",
      "Name: name, dtype: object\n",
      "***********GBR*******************\n",
      "43695    Helios Towers Africa\n",
      "Name: name, dtype: object\n"
     ]
    }
   ],
   "source": [
    "df_topSectors_INDIA=master_frame_category_sectors_IND[master_frame_category_sectors_IND.Sectors.isin([topSector_INDIA])]\n",
    "df_topSectors_USA=master_frame_category_sectors_USA[master_frame_category_sectors_USA.Sectors.isin([topSector_USA])]\n",
    "df_topSectors_GBR=master_frame_category_sectors_GBR[master_frame_category_sectors_GBR.Sectors.isin([topSector_GBR])]\n",
    "\n",
    "print(\"***********INDIA*******************\")\n",
    "print(df_topSectors_INDIA[df_topSectors_INDIA.raised_amount_usd==df_topSectors_INDIA.raised_amount_usd.max()][\"name\"])\n",
    "\n",
    "print(\"***********USA*******************\")\n",
    "print(df_topSectors_USA[df_topSectors_USA.raised_amount_usd==df_topSectors_USA.raised_amount_usd.max()][\"name\"])\n",
    "\n",
    "print(\"***********GBR*******************\")\n",
    "print(df_topSectors_GBR[df_topSectors_GBR.raised_amount_usd==df_topSectors_GBR.raised_amount_usd.max()][\"name\"])"
   ]
  },
  {
   "cell_type": "markdown",
   "metadata": {},
   "source": [
    "__10. For the second-best sector count-wise (point 4), which company received the highest investment?__"
   ]
  },
  {
   "cell_type": "code",
   "execution_count": 1348,
   "metadata": {},
   "outputs": [
    {
     "name": "stdout",
     "output_type": "stream",
     "text": [
      "***********INDIA*******************\n",
      "70430    One97 Communications\n",
      "Name: name, dtype: object\n",
      "***********USA*******************\n",
      "16470    Cambridge Technology Group\n",
      "Name: name, dtype: object\n",
      "***********GBR*******************\n",
      "88786    Shire Leasing\n",
      "Name: name, dtype: object\n"
     ]
    }
   ],
   "source": [
    "df_topSecondSectors_INDIA=master_frame_category_sectors_IND[master_frame_category_sectors_IND.Sectors.isin([topSecondSector_INDIA])]\n",
    "df_topSecondSectors_USA=master_frame_category_sectors_USA[master_frame_category_sectors_USA.Sectors.isin([topSecondSector_USA])]\n",
    "df_topSecondSectors_GBR=master_frame_category_sectors_GBR[master_frame_category_sectors_GBR.Sectors.isin([topSecondSector_GBR])]\n",
    "\n",
    "print(\"***********INDIA*******************\")\n",
    "print(df_topSecondSectors_INDIA[df_topSecondSectors_INDIA.raised_amount_usd==df_topSecondSectors_INDIA.raised_amount_usd.max()][\"name\"])\n",
    "\n",
    "print(\"***********USA*******************\")\n",
    "print(df_topSecondSectors[df_topSecondSectors.raised_amount_usd==df_topSecondSectors.raised_amount_usd.max()][\"name\"])\n",
    "\n",
    "print(\"***********GBR*******************\")\n",
    "print(df_topSecondSectors_GBR[df_topSecondSectors_GBR.raised_amount_usd==df_topSecondSectors_GBR.raised_amount_usd.max()][\"name\"])"
   ]
  },
  {
   "cell_type": "markdown",
   "metadata": {},
   "source": [
    "## Checkpoint 6: Plots"
   ]
  },
  {
   "cell_type": "markdown",
   "metadata": {},
   "source": [
    "__1. A plot showing the fraction of total investments (globally) in venture, seed, and private equity, and the average amount of investment in each funding type. This chart should make it clear that a certain funding type (FT) is best suited for Spark Funds.__"
   ]
  },
  {
   "cell_type": "code",
   "execution_count": 1349,
   "metadata": {},
   "outputs": [],
   "source": [
    "import matplotlib.pyplot as plt\n",
    "import seaborn as sns\n",
    "\n",
    "%matplotlib inline\n"
   ]
  },
  {
   "cell_type": "markdown",
   "metadata": {},
   "source": [
    "__average funding of all fund type__"
   ]
  },
  {
   "cell_type": "code",
   "execution_count": 1350,
   "metadata": {},
   "outputs": [],
   "source": [
    "avg_funding=pd.DataFrame(master_frame_category_sectors.groupby([\"funding_round_type\"])[\"raised_amount_usd\"].mean()).reset_index()\n"
   ]
  },
  {
   "cell_type": "code",
   "execution_count": 1351,
   "metadata": {},
   "outputs": [
    {
     "data": {
      "text/html": [
       "<div>\n",
       "<style>\n",
       "    .dataframe thead tr:only-child th {\n",
       "        text-align: right;\n",
       "    }\n",
       "\n",
       "    .dataframe thead th {\n",
       "        text-align: left;\n",
       "    }\n",
       "\n",
       "    .dataframe tbody tr th {\n",
       "        vertical-align: top;\n",
       "    }\n",
       "</style>\n",
       "<table border=\"1\" class=\"dataframe\">\n",
       "  <thead>\n",
       "    <tr style=\"text-align: right;\">\n",
       "      <th></th>\n",
       "      <th>raised_amount_usd</th>\n",
       "    </tr>\n",
       "    <tr>\n",
       "      <th>funding_round_type</th>\n",
       "      <th></th>\n",
       "    </tr>\n",
       "  </thead>\n",
       "  <tbody>\n",
       "    <tr>\n",
       "      <th>private_equity</th>\n",
       "      <td>1.455644e+11</td>\n",
       "    </tr>\n",
       "    <tr>\n",
       "      <th>seed</th>\n",
       "      <td>8.910111e+10</td>\n",
       "    </tr>\n",
       "    <tr>\n",
       "      <th>venture</th>\n",
       "      <td>6.450242e+11</td>\n",
       "    </tr>\n",
       "    <tr>\n",
       "      <th>average_funding</th>\n",
       "      <td>2.973363e+07</td>\n",
       "    </tr>\n",
       "  </tbody>\n",
       "</table>\n",
       "</div>"
      ],
      "text/plain": [
       "                    raised_amount_usd\n",
       "funding_round_type                   \n",
       "private_equity           1.455644e+11\n",
       "seed                     8.910111e+10\n",
       "venture                  6.450242e+11\n",
       "average_funding          2.973363e+07"
      ]
     },
     "execution_count": 1351,
     "metadata": {},
     "output_type": "execute_result"
    }
   ],
   "source": [
    "filter_funding_type=[\"venture\", \"seed\", \"private_equity\"]\n",
    "grp_by=\"funding_round_type\"\n",
    "sum_on=\"raised_amount_usd\"\n",
    "\n",
    "\n",
    "df=pd.DataFrame(master_frame_category_sectors[master_frame_category_sectors.funding_round_type.isin(filter_funding_type)].groupby([grp_by])[sum_on].sum())\n",
    "\n",
    "df.reset_index()\n",
    "#pd.DataFrame(dict(funding_round_type=df.index, raised_amount_usd=df.values))\n",
    "\n",
    "\n",
    "df.loc[\"average_funding\"] =avg_funding[\"raised_amount_usd\"].mean()\n",
    "df"
   ]
  },
  {
   "cell_type": "code",
   "execution_count": 1352,
   "metadata": {},
   "outputs": [
    {
     "data": {
      "text/plain": [
       "<matplotlib.axes._subplots.AxesSubplot at 0x1995789a4e0>"
      ]
     },
     "execution_count": 1352,
     "metadata": {},
     "output_type": "execute_result"
    },
    {
     "data": {
      "image/png": "[encoded data removed]",
      "text/plain": [
       "<matplotlib.figure.Figure at 0x1995d9e5a90>"
      ]
     },
     "metadata": {},
     "output_type": "display_data"
    }
   ],
   "source": [
    "\n",
    "df.reset_index(level=0, inplace=True)\n",
    "df.plot.bar(x=\"funding_round_type\",y=\"raised_amount_usd\",rot=0)"
   ]
  },
  {
   "cell_type": "markdown",
   "metadata": {},
   "source": [
    "__2. A plot showing the top 9 countries against the total amount of investments of funding type FT. This should make the top 3 countries (Country 1, Country 2, and Country 3) very clear.__"
   ]
  },
  {
   "cell_type": "code",
   "execution_count": 1353,
   "metadata": {},
   "outputs": [
    {
     "data": {
      "text/html": [
       "<div>\n",
       "<style>\n",
       "    .dataframe thead tr:only-child th {\n",
       "        text-align: right;\n",
       "    }\n",
       "\n",
       "    .dataframe thead th {\n",
       "        text-align: left;\n",
       "    }\n",
       "\n",
       "    .dataframe tbody tr th {\n",
       "        vertical-align: top;\n",
       "    }\n",
       "</style>\n",
       "<table border=\"1\" class=\"dataframe\">\n",
       "  <thead>\n",
       "    <tr style=\"text-align: right;\">\n",
       "      <th></th>\n",
       "      <th>raised_amount_usd</th>\n",
       "    </tr>\n",
       "    <tr>\n",
       "      <th>country_code</th>\n",
       "      <th></th>\n",
       "    </tr>\n",
       "  </thead>\n",
       "  <tbody>\n",
       "    <tr>\n",
       "      <th>USA</th>\n",
       "      <td>7.764523e+11</td>\n",
       "    </tr>\n",
       "    <tr>\n",
       "      <th>CHN</th>\n",
       "      <td>8.369062e+10</td>\n",
       "    </tr>\n",
       "    <tr>\n",
       "      <th>GBR</th>\n",
       "      <td>4.264138e+10</td>\n",
       "    </tr>\n",
       "    <tr>\n",
       "      <th>IND</th>\n",
       "      <td>3.377568e+10</td>\n",
       "    </tr>\n",
       "    <tr>\n",
       "      <th>CAN</th>\n",
       "      <td>2.362773e+10</td>\n",
       "    </tr>\n",
       "    <tr>\n",
       "      <th>DEU</th>\n",
       "      <td>1.741048e+10</td>\n",
       "    </tr>\n",
       "    <tr>\n",
       "      <th>ISR</th>\n",
       "      <td>1.249788e+10</td>\n",
       "    </tr>\n",
       "    <tr>\n",
       "      <th>RUS</th>\n",
       "      <td>1.215498e+10</td>\n",
       "    </tr>\n",
       "    <tr>\n",
       "      <th>FRA</th>\n",
       "      <td>1.113474e+10</td>\n",
       "    </tr>\n",
       "  </tbody>\n",
       "</table>\n",
       "</div>"
      ],
      "text/plain": [
       "              raised_amount_usd\n",
       "country_code                   \n",
       "USA                7.764523e+11\n",
       "CHN                8.369062e+10\n",
       "GBR                4.264138e+10\n",
       "IND                3.377568e+10\n",
       "CAN                2.362773e+10\n",
       "DEU                1.741048e+10\n",
       "ISR                1.249788e+10\n",
       "RUS                1.215498e+10\n",
       "FRA                1.113474e+10"
      ]
     },
     "execution_count": 1353,
     "metadata": {},
     "output_type": "execute_result"
    }
   ],
   "source": [
    "top9_country_byInvestment=pd.DataFrame(master_frame_category_sectors.groupby([\"country_code\"])[\"raised_amount_usd\"].sum().nlargest(9)).rename(columns={'country_code':'raised_amount_usd'}).sort_values(by='raised_amount_usd', ascending=False)\n",
    "top9_country_byInvestment"
   ]
  },
  {
   "cell_type": "code",
   "execution_count": 1354,
   "metadata": {},
   "outputs": [
    {
     "data": {
      "text/plain": [
       "<matplotlib.axes._subplots.AxesSubplot at 0x1995789a1d0>"
      ]
     },
     "execution_count": 1354,
     "metadata": {},
     "output_type": "execute_result"
    },
    {
     "data": {
      "image/png": "[encoded data removed]",
      "text/plain": [
       "<matplotlib.figure.Figure at 0x1995d9a1630>"
      ]
     },
     "metadata": {},
     "output_type": "display_data"
    }
   ],
   "source": [
    "top9_country_byInvestment.plot.bar(rot=0)"
   ]
  },
  {
   "cell_type": "markdown",
   "metadata": {},
   "source": [
    "__3. A plot showing the number of investments in the top 3 sectors of the top 3 countries on one chart (for the chosen investment type FT). __"
   ]
  },
  {
   "cell_type": "code",
   "execution_count": 1355,
   "metadata": {},
   "outputs": [],
   "source": [
    "\n",
    "# top 3 sector of USA , CHN , GBR\n",
    "usaTop3_sectors=master_frame_category_sectors_USA.groupby([\"Sectors\"])[\"raised_amount_usd\"].sum().nlargest(3).to_frame()\n",
    "usaTop3_sectors.reset_index(level=0, inplace=True)\n",
    "\n",
    "\n",
    "chnTop3_sectors=pd.DataFrame(master_frame_category_sectors[master_frame_category_sectors.country_code.isin([\"CHN\"])]).groupby([\"Sectors\"])[\"raised_amount_usd\"].sum().nlargest(3).to_frame()\n",
    "chnTop3_sectors.reset_index(level=0, inplace=True)\n",
    "\n",
    "\n",
    "gbrTop3_sectors=pd.DataFrame(master_frame_category_sectors[master_frame_category_sectors.country_code.isin([\"GBR\"])]).groupby([\"Sectors\"])[\"raised_amount_usd\"].sum().nlargest(3).to_frame()\n",
    "gbrTop3_sectors.reset_index(level=0, inplace=True)\n"
   ]
  },
  {
   "cell_type": "code",
   "execution_count": 1356,
   "metadata": {},
   "outputs": [
    {
     "data": {
      "text/plain": [
       "<matplotlib.axes._subplots.AxesSubplot at 0x1995d9d26a0>"
      ]
     },
     "execution_count": 1356,
     "metadata": {},
     "output_type": "execute_result"
    },
    {
     "data": {
      "image/png": "[encoded data removed]",
      "text/plain": [
       "<matplotlib.figure.Figure at 0x199556d84e0>"
      ]
     },
     "metadata": {},
     "output_type": "display_data"
    }
   ],
   "source": [
    "plt.rcParams['figure.figsize']=(10,6)\n",
    "usaTop3_sectors.plot.bar(x=\"Sectors\",y=\"raised_amount_usd\",rot=0,title=\"USA top 3 sectors by amount raised (USD)\")"
   ]
  },
  {
   "cell_type": "code",
   "execution_count": 1357,
   "metadata": {},
   "outputs": [
    {
     "data": {
      "text/plain": [
       "<matplotlib.axes._subplots.AxesSubplot at 0x19955542be0>"
      ]
     },
     "execution_count": 1357,
     "metadata": {},
     "output_type": "execute_result"
    },
    {
     "data": {
      "image/png": "[encoded data removed]",
      "text/plain": [
       "<matplotlib.figure.Figure at 0x1995b177710>"
      ]
     },
     "metadata": {},
     "output_type": "display_data"
    }
   ],
   "source": [
    "chnTop3_sectors.plot.bar(x=\"Sectors\",y=\"raised_amount_usd\",rot=0,title=\"China top 3 sectors by amount raised (USD)\")"
   ]
  },
  {
   "cell_type": "code",
   "execution_count": 1358,
   "metadata": {},
   "outputs": [
    {
     "data": {
      "text/plain": [
       "<matplotlib.axes._subplots.AxesSubplot at 0x1995be47390>"
      ]
     },
     "execution_count": 1358,
     "metadata": {},
     "output_type": "execute_result"
    },
    {
     "data": {
      "image/png": "[encoded data removed]",
      "text/plain": [
       "<matplotlib.figure.Figure at 0x1995be8d198>"
      ]
     },
     "metadata": {},
     "output_type": "display_data"
    }
   ],
   "source": [
    "gbrTop3_sectors.plot.bar(x=\"Sectors\",y=\"raised_amount_usd\",rot=0,title=\"GBR top 3 sectors by amount raised (USD)\")"
   ]
  },
  {
   "cell_type": "markdown",
   "metadata": {},
   "source": [
    "# ***********---------------- END --------------------*****************************"
   ]
  }
 ],
 "metadata": {
  "kernelspec": {
   "display_name": "Python 3",
   "language": "python",
   "name": "python3"
  },
  "language_info": {
   "codemirror_mode": {
    "name": "ipython",
    "version": 3
   },
   "file_extension": ".py",
   "mimetype": "text/x-python",
   "name": "python",
   "nbconvert_exporter": "python",
   "pygments_lexer": "ipython3",
   "version": "3.6.3"
  }
 },
 "nbformat": 4,
 "nbformat_minor": 2
}
